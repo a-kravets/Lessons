{
 "cells": [
  {
   "cell_type": "code",
   "execution_count": 0,
   "metadata": {
    "colab": {},
    "colab_type": "code",
    "id": "92xdI-Vv5gUR"
   },
   "outputs": [],
   "source": [
    "import torch\n",
    "from torch import nn\n",
    "from torch import tensor\n",
    "import torch\n",
    "import matplotlib.pyplot as plt\n",
    "%matplotlib inline\n",
    "\n",
    "from torchvision.datasets import MNIST\n",
    "from torchvision.transforms import Resize, ToTensor, Compose, Normalize\n",
    "import numpy as np"
   ]
  },
  {
   "cell_type": "code",
   "execution_count": 0,
   "metadata": {
    "colab": {},
    "colab_type": "code",
    "id": "5Kc400JOnZ1Y"
   },
   "outputs": [],
   "source": [
    "transform = Compose([\n",
    "        ToTensor(),\n",
    "        Normalize(mean=[0.0], std=[1.0])]) "
   ]
  },
  {
   "cell_type": "code",
   "execution_count": 0,
   "metadata": {
    "colab": {
     "base_uri": "https://localhost:8080/",
     "height": 529
    },
    "colab_type": "code",
    "id": "gJBD1Ou3nbU3",
    "outputId": "103b01d0-ad40-4f54-8c41-a646e21ad5b9"
   },
   "outputs": [
    {
     "name": "stderr",
     "output_type": "stream",
     "text": [
      "\r",
      "0it [00:00, ?it/s]"
     ]
    },
    {
     "name": "stdout",
     "output_type": "stream",
     "text": [
      "Downloading http://yann.lecun.com/exdb/mnist/train-images-idx3-ubyte.gz to ./MNIST/raw/train-images-idx3-ubyte.gz\n"
     ]
    },
    {
     "name": "stderr",
     "output_type": "stream",
     "text": [
      "9920512it [00:02, 3643194.91it/s]                             \n"
     ]
    },
    {
     "name": "stdout",
     "output_type": "stream",
     "text": [
      "Extracting ./MNIST/raw/train-images-idx3-ubyte.gz to ./MNIST/raw\n"
     ]
    },
    {
     "name": "stderr",
     "output_type": "stream",
     "text": [
      "\r",
      "0it [00:00, ?it/s]"
     ]
    },
    {
     "name": "stdout",
     "output_type": "stream",
     "text": [
      "Downloading http://yann.lecun.com/exdb/mnist/train-labels-idx1-ubyte.gz to ./MNIST/raw/train-labels-idx1-ubyte.gz\n"
     ]
    },
    {
     "name": "stderr",
     "output_type": "stream",
     "text": [
      "32768it [00:00, 57385.16it/s]                           \n",
      "0it [00:00, ?it/s]"
     ]
    },
    {
     "name": "stdout",
     "output_type": "stream",
     "text": [
      "Extracting ./MNIST/raw/train-labels-idx1-ubyte.gz to ./MNIST/raw\n",
      "Downloading http://yann.lecun.com/exdb/mnist/t10k-images-idx3-ubyte.gz to ./MNIST/raw/t10k-images-idx3-ubyte.gz\n"
     ]
    },
    {
     "name": "stderr",
     "output_type": "stream",
     "text": [
      "1654784it [00:01, 956436.72it/s]                             \n",
      "0it [00:00, ?it/s]"
     ]
    },
    {
     "name": "stdout",
     "output_type": "stream",
     "text": [
      "Extracting ./MNIST/raw/t10k-images-idx3-ubyte.gz to ./MNIST/raw\n",
      "Downloading http://yann.lecun.com/exdb/mnist/t10k-labels-idx1-ubyte.gz to ./MNIST/raw/t10k-labels-idx1-ubyte.gz\n"
     ]
    },
    {
     "name": "stderr",
     "output_type": "stream",
     "text": [
      "8192it [00:00, 21706.91it/s]            \n"
     ]
    },
    {
     "name": "stdout",
     "output_type": "stream",
     "text": [
      "Extracting ./MNIST/raw/t10k-labels-idx1-ubyte.gz to ./MNIST/raw\n",
      "Processing...\n",
      "Done!\n"
     ]
    },
    {
     "data": {
      "text/plain": [
       "<matplotlib.image.AxesImage at 0x7fd1e2016ac8>"
      ]
     },
     "execution_count": 3,
     "metadata": {
      "tags": []
     },
     "output_type": "execute_result"
    },
    {
     "data": {
      "image/png": "[encoded data removed]",
      "text/plain": [
       "<Figure size 432x288 with 1 Axes>"
      ]
     },
     "metadata": {
      "tags": []
     },
     "output_type": "display_data"
    }
   ],
   "source": [
    "from torch.utils.data import DataLoader\n",
    "\n",
    "data_train = MNIST('./', download=True, train=True, transform=transform)\n",
    "data_test = MNIST('./', download=True, train=False, transform=transform)\n",
    "\n",
    "plt.imshow(data_test.data[0])"
   ]
  },
  {
   "cell_type": "markdown",
   "metadata": {
    "colab_type": "text",
    "id": "-SEfGRbB5gUi"
   },
   "source": [
    "## Основное задание\n",
    "Напишите реализацию первой архитектуры свероточной нейросети LeNet. Рекомендую для этого пользоваться ресурсами:\n",
    "1. самой статьи про [модель](http://yann.lecun.com/exdb/publis/pdf/lecun-98.pdf)\n",
    "2. структурой модели из слайдов урока (прикрепленно в LMS)\n",
    "3. Любыми статьями которые найдете на эту тему\n",
    "\n",
    "Когда модель будет готова - обучите ее на датасете MNIST)\n",
    "\n",
    "### ВАЖНО\n",
    "В интернете вы легко найдете полную реализацию этой модели на pytorch. Пожалуйста не копируйте код, а постарайтесь разбораться и написать его самостоятельно, опираясь на статью и то что мы разобрали на занятии."
   ]
  },
  {
   "cell_type": "code",
   "execution_count": 0,
   "metadata": {
    "colab": {},
    "colab_type": "code",
    "id": "eGbIKsGk5gU4"
   },
   "outputs": [],
   "source": [
    "class LeNet(nn.Module):\n",
    "    def __init__(self):\n",
    "        super(ConvModel, self).__init__()\n",
    "        # Ваш код здесь\n",
    "        \n",
    "    def forward(self, x):\n",
    "        # Ваш код здесь"
   ]
  },
  {
   "cell_type": "code",
   "execution_count": 0,
   "metadata": {
    "colab": {},
    "colab_type": "code",
    "id": "p2md1yt25gVI"
   },
   "outputs": [],
   "source": [
    "model = LeNet()"
   ]
  },
  {
   "cell_type": "code",
   "execution_count": 0,
   "metadata": {
    "colab": {},
    "colab_type": "code",
    "id": "N4_HCfKV5gXA"
   },
   "outputs": [],
   "source": [
    "loss_function = # Какой loss подойдет для задачи?"
   ]
  },
  {
   "cell_type": "code",
   "execution_count": 0,
   "metadata": {
    "colab": {},
    "colab_type": "code",
    "id": "9Ilp6k_9npan"
   },
   "outputs": [],
   "source": [
    "from torch.optim import # Какой алгоритм оптимизации мы используем?\n",
    "\n",
    "optimiser = # Не забываем про оптимизатор и его параметры"
   ]
  },
  {
   "cell_type": "code",
   "execution_count": 0,
   "metadata": {
    "colab": {},
    "colab_type": "code",
    "id": "DK8ms2OIn4Zv"
   },
   "outputs": [],
   "source": [
    "from tqdm import tqdm_notebook\n",
    "\n",
    "def score(y_hat, y_true):\n",
    "    # Не будет лишним повторить код для подсчета точности\n",
    "\n",
    "def run_epoch(data, model, loss_function, optimiser, mode='train'):\n",
    "    # Напишите функцию обучения по аналогии с прошлыми задачами. Старайтесь не просто копировать код, а написать логику с нуля"
   ]
  },
  {
   "cell_type": "code",
   "execution_count": 0,
   "metadata": {
    "colab": {},
    "colab_type": "code",
    "id": "THFj1HFan94A"
   },
   "outputs": [],
   "source": [
    "train = DataLoader(data_train, batch_size=256)\n",
    "test = DataLoader(data_test, batch_size=512)"
   ]
  },
  {
   "cell_type": "code",
   "execution_count": 0,
   "metadata": {
    "colab": {},
    "colab_type": "code",
    "id": "2X1Mq0xHoOh3"
   },
   "outputs": [],
   "source": [
    "EPOCHS = 5\n",
    "\n",
    "for i in range(EPOCHS):\n",
    "    run_epoch(train, model, loss_function, optimiser)\n",
    "    run_epoch(test, model, loss_function, optimiser, mode='eval')"
   ]
  }
 ],
 "metadata": {
  "colab": {
   "collapsed_sections": [],
   "name": "LeNetImplementation.ipynb",
   "provenance": []
  },
  "kernelspec": {
   "display_name": "Python 3",
   "language": "python",
   "name": "python3"
  },
  "language_info": {
   "codemirror_mode": {
    "name": "ipython",
    "version": 3
   },
   "file_extension": ".py",
   "mimetype": "text/x-python",
   "name": "python",
   "nbconvert_exporter": "python",
   "pygments_lexer": "ipython3",
   "version": "3.7.4"
  }
 },
 "nbformat": 4,
 "nbformat_minor": 1
}
