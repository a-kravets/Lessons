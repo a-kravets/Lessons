{
 "cells": [
  {
   "cell_type": "code",
   "execution_count": 8,
   "metadata": {},
   "outputs": [],
   "source": [
    "import numpy as np"
   ]
  },
  {
   "cell_type": "markdown",
   "metadata": {},
   "source": [
    "# Creating NumPy arrays"
   ]
  },
  {
   "cell_type": "code",
   "execution_count": 9,
   "metadata": {},
   "outputs": [
    {
     "name": "stdout",
     "output_type": "stream",
     "text": [
      "[2 3 4]\n",
      "[[2 3 4]\n",
      " [5 6 7]]\n"
     ]
    }
   ],
   "source": [
    "def test_run():\n",
    "    print(np.array([2,3,4])) #list of 1D array\n",
    "    print(np.array([(2,3,4), (5,6,7)])) #list of tuples to 2D array\n",
    "\n",
    "if __name__ == \"__main__\":\n",
    "    test_run()"
   ]
  },
  {
   "cell_type": "markdown",
   "metadata": {},
   "source": [
    "# Creating arrays with initial values"
   ]
  },
  {
   "cell_type": "code",
   "execution_count": 15,
   "metadata": {},
   "outputs": [
    {
     "name": "stdout",
     "output_type": "stream",
     "text": [
      "[0.00e+000 4.94e-324 0.00e+000 0.00e+000 3.95e-322]\n",
      "[[[0.00000000e+000 4.98833020e+098 4.63919623e-310]\n",
      "  [4.63919623e-310 4.63919623e-310 8.48798317e-314]\n",
      "  [6.01346930e-154 4.63919623e-310 4.63919623e-310]\n",
      "  [4.63919623e-310 0.00000000e+000 0.00000000e+000]]\n",
      "\n",
      " [[8.48798317e-314 0.00000000e+000 0.00000000e+000]\n",
      "  [4.94065646e-324 6.91889363e-310 4.63919623e-310]\n",
      "  [4.63919623e-310 4.63919623e-310 0.00000000e+000]\n",
      "  [4.94065646e-324 9.89803212e+164 4.63919623e-310]]\n",
      "\n",
      " [[1.69724916e+137 1.61410559e+132 6.36598738e-314]\n",
      "  [1.42137819e-076 4.63919623e-310 4.63919623e-310]\n",
      "  [4.63919623e-310 6.36598738e-314 4.94065646e-324]\n",
      "  [4.63919623e-310 1.69724916e+137 6.91889363e-310]]\n",
      "\n",
      " [[9.89803212e+164 9.16281387e-072 8.48798317e-314]\n",
      "  [9.45956165e-076 4.63919623e-310 0.00000000e+000]\n",
      "  [0.00000000e+000 8.48798317e-314 2.95149494e-075]\n",
      "  [4.63919623e-310 6.60925411e-062 9.16281386e-072]]\n",
      "\n",
      " [[1.42137876e-076 1.11416848e+218 8.48798317e-314]\n",
      "  [9.89803212e+164 4.63919623e-310 4.63919623e-310]\n",
      "  [0.00000000e+000 2.95149795e-075 2.13412571e+257]\n",
      "  [2.96439388e-323 9.16281075e-072 4.63919623e-310]]]\n"
     ]
    }
   ],
   "source": [
    "def test_run():\n",
    "    print(np.empty(5)) #empty array with shape of 5\n",
    "    print(np.empty((5,4))) #empty array with 5 rows and 4 columns\n",
    "    print(np.empty((5,4,3))) #empty array with depth of 3 and each has 5 rows and 4 columns\n",
    "    \n",
    "if __name__ == \"__main__\":\n",
    "    test_run()"
   ]
  },
  {
   "cell_type": "code",
   "execution_count": 18,
   "metadata": {},
   "outputs": [
    {
     "name": "stdout",
     "output_type": "stream",
     "text": [
      "[[1. 1. 1. 1.]\n",
      " [1. 1. 1. 1.]\n",
      " [1. 1. 1. 1.]\n",
      " [1. 1. 1. 1.]\n",
      " [1. 1. 1. 1.]]\n",
      "[[0. 0. 0. 0.]\n",
      " [0. 0. 0. 0.]\n",
      " [0. 0. 0. 0.]\n",
      " [0. 0. 0. 0.]\n",
      " [0. 0. 0. 0.]]\n"
     ]
    }
   ],
   "source": [
    "def test_run():\n",
    "    print(np.ones((5,4))) #array of ones with 5 rows and 4 columns\n",
    "    print(np.zeros((5,4))) #array of zeros with 5 rows and 4 columns\n",
    "    \n",
    "if __name__ == \"__main__\":\n",
    "    test_run()"
   ]
  },
  {
   "cell_type": "markdown",
   "metadata": {},
   "source": [
    "# Generating random numbers"
   ]
  },
  {
   "cell_type": "code",
   "execution_count": null,
   "metadata": {},
   "outputs": [],
   "source": []
  }
 ],
 "metadata": {
  "kernelspec": {
   "display_name": "Python 3",
   "language": "python",
   "name": "python3"
  },
  "language_info": {
   "codemirror_mode": {
    "name": "ipython",
    "version": 3
   },
   "file_extension": ".py",
   "mimetype": "text/x-python",
   "name": "python",
   "nbconvert_exporter": "python",
   "pygments_lexer": "ipython3",
   "version": "3.7.4"
  }
 },
 "nbformat": 4,
 "nbformat_minor": 2
}
