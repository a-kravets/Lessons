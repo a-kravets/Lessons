{
 "cells": [
  {
   "cell_type": "code",
   "execution_count": 6,
   "metadata": {},
   "outputs": [],
   "source": [
    "import numpy as np"
   ]
  },
  {
   "cell_type": "markdown",
   "metadata": {},
   "source": [
    "# Creating NumPy arrays"
   ]
  },
  {
   "cell_type": "code",
   "execution_count": 7,
   "metadata": {},
   "outputs": [
    {
     "name": "stdout",
     "output_type": "stream",
     "text": [
      "[2 3 4]\n",
      "[[2 3 4]\n",
      " [5 6 7]]\n"
     ]
    }
   ],
   "source": [
    "def test_run():\n",
    "    print(np.array([2,3,4])) #list of 1D array\n",
    "    print(np.array([(2,3,4), (5,6,7)])) #list of tuples to 2D array\n",
    "\n",
    "if __name__ == \"__main__\":\n",
    "    test_run()"
   ]
  },
  {
   "cell_type": "markdown",
   "metadata": {},
   "source": [
    "# Creating arrays with initial values"
   ]
  },
  {
   "cell_type": "code",
   "execution_count": 8,
   "metadata": {},
   "outputs": [
    {
     "name": "stdout",
     "output_type": "stream",
     "text": [
      "[1.38338381e-322 6.92226963e-310 4.94065646e-324 0.00000000e+000\n",
      " 6.36598738e-314]\n",
      "[[0. 0. 0. 0.]\n",
      " [0. 0. 0. 0.]\n",
      " [0. 0. 0. 0.]\n",
      " [0. 0. 0. 0.]\n",
      " [0. 0. 0. 0.]]\n",
      "[[[ 6.92226943e-310  6.92226943e-310  0.00000000e+000]\n",
      "  [ 0.00000000e+000  6.01334668e-154  4.47590761e-091]\n",
      "  [ 6.01347002e-154  1.81363716e-152  1.10638849e+200]\n",
      "  [ 3.09076222e+169  1.06113401e-153  2.32066100e-152]]\n",
      "\n",
      " [[ 7.87488138e+276  2.45066340e+198  5.98181661e-154]\n",
      "  [ 1.46914166e+195  9.06756708e+271  1.10638851e+200]\n",
      "  [ 4.19334284e+228  1.81364819e-152  3.17095864e+180]\n",
      "  [ 1.11789363e+253  5.83553021e+252  6.01346953e-154]]\n",
      "\n",
      " [[ 1.68044185e+241  5.07623833e-310  1.63002224e-070]\n",
      "  [ 1.65889757e+166  6.48120960e-304  1.33360460e+241]\n",
      "  [ 1.83853959e-309  1.88743680e+007  1.40996673e-312]\n",
      "  [ 1.14448622e+243  2.41695321e-311  2.67403555e+246]]\n",
      "\n",
      " [[ 6.36699571e+151  8.19148733e+247  1.11083159e+171]\n",
      "  [ 1.97626258e-323  1.27319747e-313  1.00221861e-310]\n",
      "  [ 2.12988483e+289 -5.26054259e-246  3.17898110e-292]\n",
      "  [ 6.01347002e-154  6.19977077e+223  2.79195069e-152]]\n",
      "\n",
      " [[ 7.34294124e+223  1.14448622e+243  2.21366476e+214]\n",
      "  [ 1.33717020e-152  3.99910944e+252  6.96384193e+252]\n",
      "  [ 2.42766850e-154  5.28400063e+005  7.28297456e+199]\n",
      "  [ 1.23064817e+171  1.71457459e+214  4.06869052e+233]]]\n"
     ]
    }
   ],
   "source": [
    "def test_run():\n",
    "    print(np.empty(5)) #empty array with shape of 5\n",
    "    print(np.empty((5,4))) #empty array with 5 rows and 4 columns\n",
    "    print(np.empty((5,4,3))) #empty array with depth of 3 and each has 5 rows and 4 columns\n",
    "    \n",
    "if __name__ == \"__main__\":\n",
    "    test_run()"
   ]
  },
  {
   "cell_type": "code",
   "execution_count": 9,
   "metadata": {},
   "outputs": [
    {
     "name": "stdout",
     "output_type": "stream",
     "text": [
      "[[1. 1. 1. 1.]\n",
      " [1. 1. 1. 1.]\n",
      " [1. 1. 1. 1.]\n",
      " [1. 1. 1. 1.]\n",
      " [1. 1. 1. 1.]]\n",
      "[[0. 0. 0. 0.]\n",
      " [0. 0. 0. 0.]\n",
      " [0. 0. 0. 0.]\n",
      " [0. 0. 0. 0.]\n",
      " [0. 0. 0. 0.]]\n"
     ]
    }
   ],
   "source": [
    "def test_run():\n",
    "    print(np.ones((5,4))) #array of ones with 5 rows and 4 columns\n",
    "    print(np.zeros((5,4))) #array of zeros with 5 rows and 4 columns\n",
    "    \n",
    "if __name__ == \"__main__\":\n",
    "    test_run()"
   ]
  },
  {
   "cell_type": "markdown",
   "metadata": {},
   "source": [
    "# Generating random numbers"
   ]
  },
  {
   "cell_type": "code",
   "execution_count": 22,
   "metadata": {},
   "outputs": [
    {
     "name": "stdout",
     "output_type": "stream",
     "text": [
      "[[0.89875425 0.07399542 0.54025136 0.43539804]\n",
      " [0.0095113  0.6453064  0.17899681 0.04476179]\n",
      " [0.52843273 0.84037582 0.16695932 0.67984082]\n",
      " [0.13093942 0.62514735 0.1840197  0.56762275]\n",
      " [0.44472974 0.61282002 0.51954164 0.10323785]]\n",
      "[[-0.20960172  0.07421705  0.80769137]\n",
      " [ 0.8833386   1.0135087   1.85921737]]\n",
      "[[37.37875338 61.27703224 39.1926896 ]\n",
      " [61.47134125 41.30834505 56.36899373]]\n"
     ]
    }
   ],
   "source": [
    "print(np.random.random((5,4))) #random numbers in tuple of 5 rows and 4 columns.\n",
    "#Floating numbers are generated between 0 and 1.\n",
    "\n",
    "print(np.random.normal(size=(2,3))) #numbers from normal (Gaussian) distribution, i.e. mean = 0, std = 1\n",
    "\n",
    "print(np.random.normal(50, 10, size=(2,3))) #50 is mean, std is 10"
   ]
  },
  {
   "cell_type": "code",
   "execution_count": 29,
   "metadata": {},
   "outputs": [
    {
     "name": "stdout",
     "output_type": "stream",
     "text": [
      "5\n",
      "0\n",
      "[6 7 2 5 9]\n",
      "[[2 5 1 4 0]\n",
      " [4 6 9 1 1]\n",
      " [6 6 1 2 4]\n",
      " [4 1 1 6 3]]\n"
     ]
    }
   ],
   "source": [
    "print(np.random.randint(10)) #a single integer in [0,10]\n",
    "print(np.random.randint(0, 10)) #a single integer in [0,10], but specifying low and high explicitly\n",
    "print(np.random.randint(0, 10, size=(5))) #5 integers as 1D array\n",
    "print(np.random.randint(0, 10, size=(4,5))) #5 integers as an array with 4 rows and 5 columns"
   ]
  },
  {
   "cell_type": "markdown",
   "metadata": {},
   "source": [
    "# Array attributes"
   ]
  },
  {
   "cell_type": "code",
   "execution_count": 41,
   "metadata": {},
   "outputs": [
    {
     "name": "stdout",
     "output_type": "stream",
     "text": [
      "[[0.32206669 0.58519325]\n",
      " [0.62104715 0.71944616]\n",
      " [0.15666915 0.04056733]]\n",
      "(3, 2)\n",
      "3\n",
      "2\n",
      "2\n",
      "6\n",
      "float64\n"
     ]
    }
   ],
   "source": [
    "a = np.random.random((3,2))\n",
    "print(a)\n",
    "print(a.shape)\n",
    "print(a.shape[0]) #returns the number of rows\n",
    "print(a.shape[1]) #returns the number of columns\n",
    "print(len(a.shape)) #returns a dimension of the array\n",
    "print(a.size) #returns the number of elements in the array, i.e. rows * columns\n",
    "print(a.dtype) #retur"
   ]
  },
  {
   "cell_type": "code",
   "execution_count": null,
   "metadata": {},
   "outputs": [],
   "source": []
  }
 ],
 "metadata": {
  "kernelspec": {
   "display_name": "Python 3",
   "language": "python",
   "name": "python3"
  },
  "language_info": {
   "codemirror_mode": {
    "name": "ipython",
    "version": 3
   },
   "file_extension": ".py",
   "mimetype": "text/x-python",
   "name": "python",
   "nbconvert_exporter": "python",
   "pygments_lexer": "ipython3",
   "version": "3.7.4"
  }
 },
 "nbformat": 4,
 "nbformat_minor": 2
}
