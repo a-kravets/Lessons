{
 "cells": [
  {
   "cell_type": "code",
   "execution_count": 1,
   "metadata": {},
   "outputs": [],
   "source": [
    "import torch\n",
    "from torch import tensor"
   ]
  },
  {
   "cell_type": "code",
   "execution_count": 2,
   "metadata": {},
   "outputs": [],
   "source": [
    "import matplotlib.pyplot as plt\n",
    "%matplotlib inline"
   ]
  },
  {
   "cell_type": "code",
   "execution_count": 3,
   "metadata": {},
   "outputs": [],
   "source": [
    "from torchvision.datasets import MNIST\n",
    "from torchvision.transforms import Resize, ToTensor, Compose, Normalize\n",
    "import numpy as np"
   ]
  },
  {
   "cell_type": "markdown",
   "metadata": {},
   "source": [
    "### Логистическая регрессия на MNIST\n",
    "\n",
    "В этом задании мы напишем свой классификатор картинок - с помощью одной лишь логистической регрессии.\n",
    "Мы возьмем известный датасет MNIST - набор из 60 000 картинок рукописных цифр от 0 до 9. Задача модели  - получая на вход серую картинку размером 28*28 пикселей с нарисованой на ней цифрой - определить что это за цифра.\n"
   ]
  },
  {
   "cell_type": "markdown",
   "metadata": {},
   "source": [
    "Мы накладываем серию транфсормаций для каждой картинки - сначала переводим их в тензор, а затем делаем нормализацию значений пикселей.\n",
    "Сейчас они (пиксели) находятся в интервале от 0 до 255 - мы сократим это расстояние, и установить среднее значение как 0, а стандартное отклонение - 1.\n",
    "\n",
    "В tochvision есть специальный модуль transfroms в котором уже реализовано большинство трасформаций."
   ]
  },
  {
   "cell_type": "code",
   "execution_count": 4,
   "metadata": {},
   "outputs": [],
   "source": [
    "transform = Compose([\n",
    "        ToTensor(),\n",
    "        Normalize(mean=[0.0], std=[1.0])]) "
   ]
  },
  {
   "cell_type": "markdown",
   "metadata": {},
   "source": [
    "MNIST является стандартным датасетом и поэтому мы легко импортируем его из библиотеки torchvision.\n",
    "Он находиться в специальном понятном для Pytorch формате Dataset."
   ]
  },
  {
   "cell_type": "code",
   "execution_count": 5,
   "metadata": {},
   "outputs": [],
   "source": [
    "from torch.utils.data import DataLoader\n",
    "\n",
    "data_train = MNIST('./', download=True, train=True, transform=transform)\n",
    "data_test = MNIST('./', download=True, train=False, transform=transform)"
   ]
  },
  {
   "cell_type": "code",
   "execution_count": 6,
   "metadata": {},
   "outputs": [
    {
     "data": {
      "text/plain": [
       "<matplotlib.image.AxesImage at 0x7fb2c229ced0>"
      ]
     },
     "execution_count": 6,
     "metadata": {},
     "output_type": "execute_result"
    },
    {
     "data": {
      "image/png": "[encoded data removed]",
      "text/plain": [
       "<Figure size 432x288 with 1 Axes>"
      ]
     },
     "metadata": {
      "needs_background": "light"
     },
     "output_type": "display_data"
    }
   ],
   "source": [
    "plt.imshow(data_test.data[0])"
   ]
  },
  {
   "cell_type": "markdown",
   "metadata": {},
   "source": [
    "*Logistic Regression* - это все та же линейная регрессия + функция активации \n",
    "\n",
    "В случае бинарной классификации (когда модель учится только на двух категориях) - эта функция - Sigmoid или [логистическая функция](https://ru.wikipedia.org/wiki/%D0%9B%D0%BE%D0%B3%D0%B8%D1%81%D1%82%D0%B8%D1%87%D0%B5%D1%81%D0%BA%D0%BE%D0%B5_%D1%83%D1%80%D0%B0%D0%B2%D0%BD%D0%B5%D0%BD%D0%B8%D0%B5)\n",
    "\n",
    "Если у нас классов больше чем два - вместо сигмоиды мы можем использовать функцию [SoftMax](https://ru.wikipedia.org/wiki/Softmax).\n",
    "Это версия той же логистической функции, но только для многомерного случая.\n",
    "\n",
    "Она нормализирует выходные значения сети, чтобы те были в интервале от 0 до 1 и их сумма была равна 1.\n",
    "В таком виде выходные значения можно интерпретировать как \"вероятности\" - на сколько вероятно модель считает верным тот или иной класс.\n",
    "\n",
    "\n"
   ]
  },
  {
   "cell_type": "code",
   "execution_count": 371,
   "metadata": {},
   "outputs": [],
   "source": [
    "def softmax(x, axis=0):\n",
    "    \"\"\"Compute softmax values for each sets of scores in x.\"\"\"\n",
    "    e_x = torch.exp(x - torch.max(x))\n",
    "    return e_x / e_x.sum(axis)"
   ]
  },
  {
   "cell_type": "markdown",
   "metadata": {},
   "source": [
    "### Задание 1:\n",
    "Напишите функцию логистической регресии."
   ]
  },
  {
   "cell_type": "code",
   "execution_count": 373,
   "metadata": {},
   "outputs": [],
   "source": [
    "def logistic_regression(x, W):\n",
    "    \n",
    "    z = x@W\n",
    "#    y = softmax(z)\n",
    "    y = torch.softmax(z, 1)\n",
    "\n",
    "    return y"
   ]
  },
  {
   "cell_type": "markdown",
   "metadata": {},
   "source": [
    "Выходные значения нашей модели будут выглядеть как вектор вероятностей:\n",
    "\n",
    "[0.8, 0.2, ... , 0.001] - где индекс вероятности в векторе соответствует номеру класса.\n",
    "Например, в векторе выше 0.8 это вероятность того что число на картинке - 0, 0.2 - что 1 и так далее.\n",
    "\n",
    "#### Задание 1.2 Прочитать более детально про кросс-ентропию\n",
    "https://gombru.github.io/2018/05/23/cross_entropy_loss/\n",
    "\n",
    "https://peterroelants.github.io/posts/cross-entropy-softmax/\n",
    "\n",
    "\n",
    "\n",
    "## Напишите код для мультиклассовой кросс-энтропиии\n",
    "\n",
    "Здесь вы найдете правильную реализацию, если запутаетесь\n",
    "https://gist.github.com/ArtemCLime/18ebb1adafe95631e9f2ff9cf8b2df99\n",
    "\n",
    "НО постарайтесь НЕ ИСПОЛЬЗОВАТЬ ее, а попробовать написать функцию самостоятельно, используя источники выше"
   ]
  },
  {
   "cell_type": "code",
   "execution_count": 374,
   "metadata": {},
   "outputs": [],
   "source": [
    "# Кросс-энтропия для мультиклассового случая\n",
    "\n",
    "def cross_entropy_loss(y_hat, y_true):\n",
    "    # Выбираем вероятности для правильных классов\n",
    "    logits_for_answers = y_hat[np.arange(len(y_hat)),  y_true]\n",
    "    \n",
    "    # Считаем кросс-ентропию для каждого из классов\n",
    "    xentropy = -torch.log(logits_for_answers)\n",
    "    return xentropy.sum() / len(y_true)"
   ]
  },
  {
   "cell_type": "markdown",
   "metadata": {},
   "source": [
    "### Для проверки используйте этот кусок кода - числа у вашей кросс-ентропии и pytorch-реализации должны совпасть"
   ]
  },
  {
   "cell_type": "code",
   "execution_count": 375,
   "metadata": {},
   "outputs": [
    {
     "data": {
      "text/plain": [
       "(tensor(1.1562), tensor(1.1562))"
      ]
     },
     "execution_count": 375,
     "metadata": {},
     "output_type": "execute_result"
    }
   ],
   "source": [
    "y_hat = tensor([[0.1, 0.1, 0.8], [0.1, 0.5, 0.4], [0.3, 0.3, 0.4]])\n",
    "y_true = tensor([0, 1, 0])\n",
    "\n",
    "cross_entropy_loss(torch.softmax(y_hat, -1), y_true), torch.nn.functional.cross_entropy(y_hat, y_true)"
   ]
  },
  {
   "cell_type": "markdown",
   "metadata": {},
   "source": [
    "### Задание 2:\n",
    "Напишите функцию для градиентного спуска"
   ]
  },
  {
   "cell_type": "code",
   "execution_count": 376,
   "metadata": {},
   "outputs": [],
   "source": [
    "def gradient_descent(W, learning_rate):\n",
    "    # Your code here\n",
    "    with torch.no_grad():\n",
    "      W.sub_(learning_rate * W.grad)  # Weights update\n",
    "      W.grad.zero_() # Zero gradient\n",
    "    \n",
    "    return W"
   ]
  },
  {
   "cell_type": "markdown",
   "metadata": {},
   "source": [
    "### Задание 3:\n",
    "Напишите функцию для подсчета точности\n",
    "\n",
    "Hint: Функция argmax "
   ]
  },
  {
   "cell_type": "code",
   "execution_count": 377,
   "metadata": {},
   "outputs": [],
   "source": [
    "def score(y_hat, y_true):\n",
    "    # Your code here\n",
    "#    accuracy = torch.argmax(y_hat).float().mean()\n",
    "    y_hat = torch.argmax(y_hat, dim=1)\n",
    "    return (y_hat == y_true).float().mean()"
   ]
  },
  {
   "cell_type": "code",
   "execution_count": 378,
   "metadata": {},
   "outputs": [],
   "source": [
    "# Мы \"растягиваем\" нашу картинку 28*28 в один длинный вектор размером 784, для нашей логистической регресии\n",
    "# Задание 3.5 - почитайте про .view метод в PyTorch и разберитесь как он действует\n",
    "\n",
    "def preprocess_data(x):\n",
    "    return x.view(-1, 28*28)"
   ]
  },
  {
   "cell_type": "markdown",
   "metadata": {},
   "source": [
    "### Задание 4:\n",
    "Заполните сколько у нас фичей для каждой картинки и сколько классов"
   ]
  },
  {
   "cell_type": "code",
   "execution_count": 379,
   "metadata": {},
   "outputs": [],
   "source": [
    "NUM_FEATURES = 784\n",
    "NUM_CLASSES = 10\n",
    "\n",
    "\n",
    "W = torch.nn.Parameter(torch.ones(NUM_FEATURES, NUM_CLASSES))"
   ]
  },
  {
   "cell_type": "markdown",
   "metadata": {},
   "source": [
    "### Задание 5:\n",
    "Напишите функцию для обучения модели"
   ]
  },
  {
   "cell_type": "code",
   "execution_count": 380,
   "metadata": {},
   "outputs": [],
   "source": [
    "def train_epoch(train_data, W, learning_rate):\n",
    "    \n",
    "    losses = []\n",
    "    scores = []\n",
    "    \n",
    "    for x, y in train_data:\n",
    "        x = preprocess_data(x)\n",
    "        \n",
    "        y_hat = logistic_regression(x, W)\n",
    "\n",
    "        loss = cross_entropy_loss(y_hat, y)\n",
    "        \n",
    "        loss.backward()\n",
    "        \n",
    "        W = gradient_descent(W, learning_rate)\n",
    "       \n",
    "        losses.append(loss.item())\n",
    "        scores.append(score(y_hat, y))\n",
    "    return W, np.mean(losses), np.mean(scores)"
   ]
  },
  {
   "cell_type": "markdown",
   "metadata": {},
   "source": [
    "### Задание 6:\n",
    "Напишите функцию для тестирования модели\n",
    "Hint (во время тестиования мы не обновляем веса)"
   ]
  },
  {
   "cell_type": "code",
   "execution_count": 381,
   "metadata": {},
   "outputs": [],
   "source": [
    "def test_epoch(test_data, W):\n",
    "    losses = []\n",
    "    scores = []\n",
    "    \n",
    "    for x, y in test_data:\n",
    "        x = preprocess_data(x)\n",
    "           \n",
    "        y_hat = logistic_regression(x, W)\n",
    "\n",
    "        loss = cross_entropy_loss(y_hat, y)\n",
    "\n",
    "        losses.append(loss.item())\n",
    "        scores.append(score(y_hat, y))\n",
    "    return np.mean(losses), np.mean(scores)"
   ]
  },
  {
   "cell_type": "markdown",
   "metadata": {},
   "source": [
    "Мы используем класс DataLoader от Pytorch - он позволяет нам удобно и быстро читать датасет батчами\n",
    "Учитывая простоту модели мы можем брать батчи по-больше - даже на СРU это не займет много времени"
   ]
  },
  {
   "cell_type": "code",
   "execution_count": 382,
   "metadata": {},
   "outputs": [],
   "source": [
    "train = DataLoader(data_train, batch_size=256)\n",
    "test = DataLoader(data_test, batch_size=512)"
   ]
  },
  {
   "cell_type": "markdown",
   "metadata": {},
   "source": [
    "### Задание 7:\n",
    "Подберите гиперпараметры - количество епох и learning rate для наилучших результатов.\n",
    "На данном датасете вы можете набрать более 0.9 точности даже с такой простой моделью."
   ]
  },
  {
   "cell_type": "code",
   "execution_count": 383,
   "metadata": {
    "scrolled": true
   },
   "outputs": [
    {
     "name": "stdout",
     "output_type": "stream",
     "text": [
      "Epoch #0\n",
      "Train Accuracy: 0.8736259341239929, train loss: 0.46342650379272216\n",
      "Test Accuracy: 0.9013557434082031, test loss: 0.34756793081760406\n",
      "##########\n",
      "Epoch #1\n",
      "Train Accuracy: 0.9050753712654114, train loss: 0.33659019077077823\n",
      "Test Accuracy: 0.9095473289489746, test loss: 0.3197407938539982\n",
      "##########\n",
      "Epoch #2\n",
      "Train Accuracy: 0.9109929800033569, train loss: 0.31682583683348714\n",
      "Test Accuracy: 0.9116727709770203, test loss: 0.3090470261871815\n",
      "##########\n",
      "Epoch #3\n",
      "Train Accuracy: 0.9144670367240906, train loss: 0.30638821562553975\n",
      "Test Accuracy: 0.9140912294387817, test loss: 0.3032784044742584\n",
      "##########\n",
      "Epoch #4\n",
      "Train Accuracy: 0.9172872304916382, train loss: 0.29953929258787887\n",
      "Test Accuracy: 0.9150563478469849, test loss: 0.29961206689476966\n",
      "##########\n"
     ]
    }
   ],
   "source": [
    "W = torch.nn.Parameter(torch.ones(NUM_FEATURES, NUM_CLASSES))\n",
    "\n",
    "EPOCHS = 5\n",
    "\n",
    "learning_rate = 0.5\n",
    "\n",
    "for i in range(EPOCHS):\n",
    "    W, train_loss, train_accuracy = train_epoch(train, W, learning_rate)\n",
    "    \n",
    "    test_loss, test_accuracy = test_epoch(test, W)\n",
    "\n",
    "    print (f'Epoch #{i}')\n",
    "    print (f'Train Accuracy: {train_accuracy}, train loss: {train_loss}')\n",
    "    print (f'Test Accuracy: {test_accuracy}, test loss: {test_loss}')\n",
    "    print (\"#\"*10)"
   ]
  },
  {
   "cell_type": "code",
   "execution_count": 384,
   "metadata": {},
   "outputs": [
    {
     "name": "stdout",
     "output_type": "stream",
     "text": [
      "Поздравляю, все получилось!\n"
     ]
    }
   ],
   "source": [
    "if (test_accuracy) > 0.9:\n",
    "    print (\"Поздравляю, все получилось!\")\n",
    "else:\n",
    "    print (\"Стоит еще попробовать!\")"
   ]
  },
  {
   "cell_type": "code",
   "execution_count": null,
   "metadata": {},
   "outputs": [],
   "source": []
  }
 ],
 "metadata": {
  "hide_input": false,
  "kernelspec": {
   "display_name": "Python 3",
   "language": "python",
   "name": "python3"
  },
  "language_info": {
   "codemirror_mode": {
    "name": "ipython",
    "version": 3
   },
   "file_extension": ".py",
   "mimetype": "text/x-python",
   "name": "python",
   "nbconvert_exporter": "python",
   "pygments_lexer": "ipython3",
   "version": "3.7.4"
  }
 },
 "nbformat": 4,
 "nbformat_minor": 2
}
