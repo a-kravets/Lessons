{
 "cells": [
  {
   "cell_type": "code",
   "execution_count": 3,
   "metadata": {},
   "outputs": [],
   "source": [
    "import pandas as pd\n",
    "import numpy as np\n",
    "import torch\n",
    "from torch import tensor\n",
    "import matplotlib.pyplot as plt\n",
    "%matplotlib inline"
   ]
  },
  {
   "cell_type": "code",
   "execution_count": 4,
   "metadata": {},
   "outputs": [],
   "source": [
    "#Loading the dataset\n",
    "data = pd.read_csv(\"carprice.csv\")"
   ]
  },
  {
   "cell_type": "code",
   "execution_count": 5,
   "metadata": {},
   "outputs": [
    {
     "data": {
      "text/plain": [
       "<matplotlib.axes._subplots.AxesSubplot at 0x7fb45f161890>"
      ]
     },
     "execution_count": 5,
     "metadata": {},
     "output_type": "execute_result"
    },
    {
     "data": {
      "image/png": "[encoded data removed]",
      "text/plain": [
       "<Figure size 432x288 with 1 Axes>"
      ]
     },
     "metadata": {
      "needs_background": "light"
     },
     "output_type": "display_data"
    }
   ],
   "source": [
    "#Plotting the Dataset\n",
    "data.plot(kind = 'scatter', x = 'enginesize', y = 'price')"
   ]
  },
  {
   "cell_type": "code",
   "execution_count": 6,
   "metadata": {},
   "outputs": [
    {
     "data": {
      "text/html": [
       "<div>\n",
       "<style scoped>\n",
       "    .dataframe tbody tr th:only-of-type {\n",
       "        vertical-align: middle;\n",
       "    }\n",
       "\n",
       "    .dataframe tbody tr th {\n",
       "        vertical-align: top;\n",
       "    }\n",
       "\n",
       "    .dataframe thead th {\n",
       "        text-align: right;\n",
       "    }\n",
       "</style>\n",
       "<table border=\"1\" class=\"dataframe\">\n",
       "  <thead>\n",
       "    <tr style=\"text-align: right;\">\n",
       "      <th></th>\n",
       "      <th>car_ID</th>\n",
       "      <th>symboling</th>\n",
       "      <th>CarName</th>\n",
       "      <th>fueltype</th>\n",
       "      <th>aspiration</th>\n",
       "      <th>doornumber</th>\n",
       "      <th>carbody</th>\n",
       "      <th>drivewheel</th>\n",
       "      <th>enginelocation</th>\n",
       "      <th>wheelbase</th>\n",
       "      <th>...</th>\n",
       "      <th>enginesize</th>\n",
       "      <th>fuelsystem</th>\n",
       "      <th>boreratio</th>\n",
       "      <th>stroke</th>\n",
       "      <th>compressionratio</th>\n",
       "      <th>horsepower</th>\n",
       "      <th>peakrpm</th>\n",
       "      <th>citympg</th>\n",
       "      <th>highwaympg</th>\n",
       "      <th>price</th>\n",
       "    </tr>\n",
       "  </thead>\n",
       "  <tbody>\n",
       "    <tr>\n",
       "      <td>0</td>\n",
       "      <td>1</td>\n",
       "      <td>3</td>\n",
       "      <td>alfa-romero giulia</td>\n",
       "      <td>gas</td>\n",
       "      <td>std</td>\n",
       "      <td>two</td>\n",
       "      <td>convertible</td>\n",
       "      <td>rwd</td>\n",
       "      <td>front</td>\n",
       "      <td>88.6</td>\n",
       "      <td>...</td>\n",
       "      <td>130</td>\n",
       "      <td>mpfi</td>\n",
       "      <td>3.47</td>\n",
       "      <td>2.68</td>\n",
       "      <td>9.0</td>\n",
       "      <td>111</td>\n",
       "      <td>5000</td>\n",
       "      <td>21</td>\n",
       "      <td>27</td>\n",
       "      <td>13495.0</td>\n",
       "    </tr>\n",
       "    <tr>\n",
       "      <td>1</td>\n",
       "      <td>2</td>\n",
       "      <td>3</td>\n",
       "      <td>alfa-romero stelvio</td>\n",
       "      <td>gas</td>\n",
       "      <td>std</td>\n",
       "      <td>two</td>\n",
       "      <td>convertible</td>\n",
       "      <td>rwd</td>\n",
       "      <td>front</td>\n",
       "      <td>88.6</td>\n",
       "      <td>...</td>\n",
       "      <td>130</td>\n",
       "      <td>mpfi</td>\n",
       "      <td>3.47</td>\n",
       "      <td>2.68</td>\n",
       "      <td>9.0</td>\n",
       "      <td>111</td>\n",
       "      <td>5000</td>\n",
       "      <td>21</td>\n",
       "      <td>27</td>\n",
       "      <td>16500.0</td>\n",
       "    </tr>\n",
       "    <tr>\n",
       "      <td>2</td>\n",
       "      <td>3</td>\n",
       "      <td>1</td>\n",
       "      <td>alfa-romero Quadrifoglio</td>\n",
       "      <td>gas</td>\n",
       "      <td>std</td>\n",
       "      <td>two</td>\n",
       "      <td>hatchback</td>\n",
       "      <td>rwd</td>\n",
       "      <td>front</td>\n",
       "      <td>94.5</td>\n",
       "      <td>...</td>\n",
       "      <td>152</td>\n",
       "      <td>mpfi</td>\n",
       "      <td>2.68</td>\n",
       "      <td>3.47</td>\n",
       "      <td>9.0</td>\n",
       "      <td>154</td>\n",
       "      <td>5000</td>\n",
       "      <td>19</td>\n",
       "      <td>26</td>\n",
       "      <td>16500.0</td>\n",
       "    </tr>\n",
       "    <tr>\n",
       "      <td>3</td>\n",
       "      <td>4</td>\n",
       "      <td>2</td>\n",
       "      <td>audi 100 ls</td>\n",
       "      <td>gas</td>\n",
       "      <td>std</td>\n",
       "      <td>four</td>\n",
       "      <td>sedan</td>\n",
       "      <td>fwd</td>\n",
       "      <td>front</td>\n",
       "      <td>99.8</td>\n",
       "      <td>...</td>\n",
       "      <td>109</td>\n",
       "      <td>mpfi</td>\n",
       "      <td>3.19</td>\n",
       "      <td>3.40</td>\n",
       "      <td>10.0</td>\n",
       "      <td>102</td>\n",
       "      <td>5500</td>\n",
       "      <td>24</td>\n",
       "      <td>30</td>\n",
       "      <td>13950.0</td>\n",
       "    </tr>\n",
       "    <tr>\n",
       "      <td>4</td>\n",
       "      <td>5</td>\n",
       "      <td>2</td>\n",
       "      <td>audi 100ls</td>\n",
       "      <td>gas</td>\n",
       "      <td>std</td>\n",
       "      <td>four</td>\n",
       "      <td>sedan</td>\n",
       "      <td>4wd</td>\n",
       "      <td>front</td>\n",
       "      <td>99.4</td>\n",
       "      <td>...</td>\n",
       "      <td>136</td>\n",
       "      <td>mpfi</td>\n",
       "      <td>3.19</td>\n",
       "      <td>3.40</td>\n",
       "      <td>8.0</td>\n",
       "      <td>115</td>\n",
       "      <td>5500</td>\n",
       "      <td>18</td>\n",
       "      <td>22</td>\n",
       "      <td>17450.0</td>\n",
       "    </tr>\n",
       "    <tr>\n",
       "      <td>...</td>\n",
       "      <td>...</td>\n",
       "      <td>...</td>\n",
       "      <td>...</td>\n",
       "      <td>...</td>\n",
       "      <td>...</td>\n",
       "      <td>...</td>\n",
       "      <td>...</td>\n",
       "      <td>...</td>\n",
       "      <td>...</td>\n",
       "      <td>...</td>\n",
       "      <td>...</td>\n",
       "      <td>...</td>\n",
       "      <td>...</td>\n",
       "      <td>...</td>\n",
       "      <td>...</td>\n",
       "      <td>...</td>\n",
       "      <td>...</td>\n",
       "      <td>...</td>\n",
       "      <td>...</td>\n",
       "      <td>...</td>\n",
       "      <td>...</td>\n",
       "    </tr>\n",
       "    <tr>\n",
       "      <td>200</td>\n",
       "      <td>201</td>\n",
       "      <td>-1</td>\n",
       "      <td>volvo 145e (sw)</td>\n",
       "      <td>gas</td>\n",
       "      <td>std</td>\n",
       "      <td>four</td>\n",
       "      <td>sedan</td>\n",
       "      <td>rwd</td>\n",
       "      <td>front</td>\n",
       "      <td>109.1</td>\n",
       "      <td>...</td>\n",
       "      <td>141</td>\n",
       "      <td>mpfi</td>\n",
       "      <td>3.78</td>\n",
       "      <td>3.15</td>\n",
       "      <td>9.5</td>\n",
       "      <td>114</td>\n",
       "      <td>5400</td>\n",
       "      <td>23</td>\n",
       "      <td>28</td>\n",
       "      <td>16845.0</td>\n",
       "    </tr>\n",
       "    <tr>\n",
       "      <td>201</td>\n",
       "      <td>202</td>\n",
       "      <td>-1</td>\n",
       "      <td>volvo 144ea</td>\n",
       "      <td>gas</td>\n",
       "      <td>turbo</td>\n",
       "      <td>four</td>\n",
       "      <td>sedan</td>\n",
       "      <td>rwd</td>\n",
       "      <td>front</td>\n",
       "      <td>109.1</td>\n",
       "      <td>...</td>\n",
       "      <td>141</td>\n",
       "      <td>mpfi</td>\n",
       "      <td>3.78</td>\n",
       "      <td>3.15</td>\n",
       "      <td>8.7</td>\n",
       "      <td>160</td>\n",
       "      <td>5300</td>\n",
       "      <td>19</td>\n",
       "      <td>25</td>\n",
       "      <td>19045.0</td>\n",
       "    </tr>\n",
       "    <tr>\n",
       "      <td>202</td>\n",
       "      <td>203</td>\n",
       "      <td>-1</td>\n",
       "      <td>volvo 244dl</td>\n",
       "      <td>gas</td>\n",
       "      <td>std</td>\n",
       "      <td>four</td>\n",
       "      <td>sedan</td>\n",
       "      <td>rwd</td>\n",
       "      <td>front</td>\n",
       "      <td>109.1</td>\n",
       "      <td>...</td>\n",
       "      <td>173</td>\n",
       "      <td>mpfi</td>\n",
       "      <td>3.58</td>\n",
       "      <td>2.87</td>\n",
       "      <td>8.8</td>\n",
       "      <td>134</td>\n",
       "      <td>5500</td>\n",
       "      <td>18</td>\n",
       "      <td>23</td>\n",
       "      <td>21485.0</td>\n",
       "    </tr>\n",
       "    <tr>\n",
       "      <td>203</td>\n",
       "      <td>204</td>\n",
       "      <td>-1</td>\n",
       "      <td>volvo 246</td>\n",
       "      <td>diesel</td>\n",
       "      <td>turbo</td>\n",
       "      <td>four</td>\n",
       "      <td>sedan</td>\n",
       "      <td>rwd</td>\n",
       "      <td>front</td>\n",
       "      <td>109.1</td>\n",
       "      <td>...</td>\n",
       "      <td>145</td>\n",
       "      <td>idi</td>\n",
       "      <td>3.01</td>\n",
       "      <td>3.40</td>\n",
       "      <td>23.0</td>\n",
       "      <td>106</td>\n",
       "      <td>4800</td>\n",
       "      <td>26</td>\n",
       "      <td>27</td>\n",
       "      <td>22470.0</td>\n",
       "    </tr>\n",
       "    <tr>\n",
       "      <td>204</td>\n",
       "      <td>205</td>\n",
       "      <td>-1</td>\n",
       "      <td>volvo 264gl</td>\n",
       "      <td>gas</td>\n",
       "      <td>turbo</td>\n",
       "      <td>four</td>\n",
       "      <td>sedan</td>\n",
       "      <td>rwd</td>\n",
       "      <td>front</td>\n",
       "      <td>109.1</td>\n",
       "      <td>...</td>\n",
       "      <td>141</td>\n",
       "      <td>mpfi</td>\n",
       "      <td>3.78</td>\n",
       "      <td>3.15</td>\n",
       "      <td>9.5</td>\n",
       "      <td>114</td>\n",
       "      <td>5400</td>\n",
       "      <td>19</td>\n",
       "      <td>25</td>\n",
       "      <td>22625.0</td>\n",
       "    </tr>\n",
       "  </tbody>\n",
       "</table>\n",
       "<p>205 rows × 26 columns</p>\n",
       "</div>"
      ],
      "text/plain": [
       "     car_ID  symboling                   CarName fueltype aspiration  \\\n",
       "0         1          3        alfa-romero giulia      gas        std   \n",
       "1         2          3       alfa-romero stelvio      gas        std   \n",
       "2         3          1  alfa-romero Quadrifoglio      gas        std   \n",
       "3         4          2               audi 100 ls      gas        std   \n",
       "4         5          2                audi 100ls      gas        std   \n",
       "..      ...        ...                       ...      ...        ...   \n",
       "200     201         -1           volvo 145e (sw)      gas        std   \n",
       "201     202         -1               volvo 144ea      gas      turbo   \n",
       "202     203         -1               volvo 244dl      gas        std   \n",
       "203     204         -1                 volvo 246   diesel      turbo   \n",
       "204     205         -1               volvo 264gl      gas      turbo   \n",
       "\n",
       "    doornumber      carbody drivewheel enginelocation  wheelbase  ...  \\\n",
       "0          two  convertible        rwd          front       88.6  ...   \n",
       "1          two  convertible        rwd          front       88.6  ...   \n",
       "2          two    hatchback        rwd          front       94.5  ...   \n",
       "3         four        sedan        fwd          front       99.8  ...   \n",
       "4         four        sedan        4wd          front       99.4  ...   \n",
       "..         ...          ...        ...            ...        ...  ...   \n",
       "200       four        sedan        rwd          front      109.1  ...   \n",
       "201       four        sedan        rwd          front      109.1  ...   \n",
       "202       four        sedan        rwd          front      109.1  ...   \n",
       "203       four        sedan        rwd          front      109.1  ...   \n",
       "204       four        sedan        rwd          front      109.1  ...   \n",
       "\n",
       "     enginesize  fuelsystem  boreratio  stroke compressionratio horsepower  \\\n",
       "0           130        mpfi       3.47    2.68              9.0        111   \n",
       "1           130        mpfi       3.47    2.68              9.0        111   \n",
       "2           152        mpfi       2.68    3.47              9.0        154   \n",
       "3           109        mpfi       3.19    3.40             10.0        102   \n",
       "4           136        mpfi       3.19    3.40              8.0        115   \n",
       "..          ...         ...        ...     ...              ...        ...   \n",
       "200         141        mpfi       3.78    3.15              9.5        114   \n",
       "201         141        mpfi       3.78    3.15              8.7        160   \n",
       "202         173        mpfi       3.58    2.87              8.8        134   \n",
       "203         145         idi       3.01    3.40             23.0        106   \n",
       "204         141        mpfi       3.78    3.15              9.5        114   \n",
       "\n",
       "     peakrpm citympg  highwaympg    price  \n",
       "0       5000      21          27  13495.0  \n",
       "1       5000      21          27  16500.0  \n",
       "2       5000      19          26  16500.0  \n",
       "3       5500      24          30  13950.0  \n",
       "4       5500      18          22  17450.0  \n",
       "..       ...     ...         ...      ...  \n",
       "200     5400      23          28  16845.0  \n",
       "201     5300      19          25  19045.0  \n",
       "202     5500      18          23  21485.0  \n",
       "203     4800      26          27  22470.0  \n",
       "204     5400      19          25  22625.0  \n",
       "\n",
       "[205 rows x 26 columns]"
      ]
     },
     "execution_count": 6,
     "metadata": {},
     "output_type": "execute_result"
    }
   ],
   "source": [
    "data"
   ]
  },
  {
   "cell_type": "code",
   "execution_count": 7,
   "metadata": {},
   "outputs": [],
   "source": [
    "data = data[['enginesize','price']]"
   ]
  },
  {
   "cell_type": "code",
   "execution_count": 8,
   "metadata": {},
   "outputs": [],
   "source": [
    "data = data[1:] #to get rid of first column that is added instead of headings (it was 1 and 0)"
   ]
  },
  {
   "cell_type": "code",
   "execution_count": 9,
   "metadata": {},
   "outputs": [
    {
     "data": {
      "text/html": [
       "<div>\n",
       "<style scoped>\n",
       "    .dataframe tbody tr th:only-of-type {\n",
       "        vertical-align: middle;\n",
       "    }\n",
       "\n",
       "    .dataframe tbody tr th {\n",
       "        vertical-align: top;\n",
       "    }\n",
       "\n",
       "    .dataframe thead th {\n",
       "        text-align: right;\n",
       "    }\n",
       "</style>\n",
       "<table border=\"1\" class=\"dataframe\">\n",
       "  <thead>\n",
       "    <tr style=\"text-align: right;\">\n",
       "      <th></th>\n",
       "      <th>enginesize</th>\n",
       "      <th>price</th>\n",
       "    </tr>\n",
       "  </thead>\n",
       "  <tbody>\n",
       "    <tr>\n",
       "      <td>1</td>\n",
       "      <td>130</td>\n",
       "      <td>16500.0</td>\n",
       "    </tr>\n",
       "    <tr>\n",
       "      <td>2</td>\n",
       "      <td>152</td>\n",
       "      <td>16500.0</td>\n",
       "    </tr>\n",
       "    <tr>\n",
       "      <td>3</td>\n",
       "      <td>109</td>\n",
       "      <td>13950.0</td>\n",
       "    </tr>\n",
       "    <tr>\n",
       "      <td>4</td>\n",
       "      <td>136</td>\n",
       "      <td>17450.0</td>\n",
       "    </tr>\n",
       "    <tr>\n",
       "      <td>5</td>\n",
       "      <td>136</td>\n",
       "      <td>15250.0</td>\n",
       "    </tr>\n",
       "    <tr>\n",
       "      <td>...</td>\n",
       "      <td>...</td>\n",
       "      <td>...</td>\n",
       "    </tr>\n",
       "    <tr>\n",
       "      <td>200</td>\n",
       "      <td>141</td>\n",
       "      <td>16845.0</td>\n",
       "    </tr>\n",
       "    <tr>\n",
       "      <td>201</td>\n",
       "      <td>141</td>\n",
       "      <td>19045.0</td>\n",
       "    </tr>\n",
       "    <tr>\n",
       "      <td>202</td>\n",
       "      <td>173</td>\n",
       "      <td>21485.0</td>\n",
       "    </tr>\n",
       "    <tr>\n",
       "      <td>203</td>\n",
       "      <td>145</td>\n",
       "      <td>22470.0</td>\n",
       "    </tr>\n",
       "    <tr>\n",
       "      <td>204</td>\n",
       "      <td>141</td>\n",
       "      <td>22625.0</td>\n",
       "    </tr>\n",
       "  </tbody>\n",
       "</table>\n",
       "<p>204 rows × 2 columns</p>\n",
       "</div>"
      ],
      "text/plain": [
       "     enginesize    price\n",
       "1           130  16500.0\n",
       "2           152  16500.0\n",
       "3           109  13950.0\n",
       "4           136  17450.0\n",
       "5           136  15250.0\n",
       "..          ...      ...\n",
       "200         141  16845.0\n",
       "201         141  19045.0\n",
       "202         173  21485.0\n",
       "203         145  22470.0\n",
       "204         141  22625.0\n",
       "\n",
       "[204 rows x 2 columns]"
      ]
     },
     "execution_count": 9,
     "metadata": {},
     "output_type": "execute_result"
    }
   ],
   "source": [
    "data"
   ]
  },
  {
   "cell_type": "code",
   "execution_count": 10,
   "metadata": {},
   "outputs": [
    {
     "data": {
      "text/plain": [
       "(204, 2)"
      ]
     },
     "execution_count": 10,
     "metadata": {},
     "output_type": "execute_result"
    }
   ],
   "source": [
    "data.shape"
   ]
  },
  {
   "cell_type": "code",
   "execution_count": 11,
   "metadata": {},
   "outputs": [],
   "source": [
    "x = torch.tensor(data.values).float()"
   ]
  },
  {
   "cell_type": "code",
   "execution_count": 12,
   "metadata": {},
   "outputs": [],
   "source": [
    "x = x[1:] #to get rid of first column that is added instead of headings (it was 1 and 0)"
   ]
  },
  {
   "cell_type": "code",
   "execution_count": 13,
   "metadata": {},
   "outputs": [
    {
     "data": {
      "text/plain": [
       "torch.Size([203, 2])"
      ]
     },
     "execution_count": 13,
     "metadata": {},
     "output_type": "execute_result"
    }
   ],
   "source": [
    "x.shape"
   ]
  },
  {
   "cell_type": "code",
   "execution_count": 14,
   "metadata": {},
   "outputs": [
    {
     "data": {
      "text/plain": [
       "tensor([109., 136., 136., 136., 136., 131., 131., 108., 108., 164., 164., 164.,\n",
       "        209., 209., 209.,  61.,  90.,  90.,  90.,  90.,  98.,  90.,  90.,  90.,\n",
       "         98., 122., 156.,  92.,  92.,  79.,  92.,  92.,  92.,  92., 110., 110.,\n",
       "        110., 110., 110., 110., 111.,  90.,  90., 119., 258., 258., 326.,  91.,\n",
       "         91.,  91.,  91.,  91.,  70.,  70.,  70.,  80., 122., 122., 122., 122.,\n",
       "        122., 122., 140., 134., 183., 183., 183., 183., 234., 234., 308., 304.,\n",
       "        140.,  92.,  92.,  92.,  98., 110., 122., 156., 156., 156., 122., 122.,\n",
       "        110., 110.,  97., 103.,  97.,  97.,  97.,  97.,  97.,  97.,  97.,  97.,\n",
       "        120., 120., 181., 181., 181., 181., 181., 181., 120., 152., 120., 152.,\n",
       "        120., 152., 120., 152., 120., 152., 134.,  90.,  98.,  90.,  90.,  98.,\n",
       "        122., 156., 151., 194., 194., 194., 203., 132., 132., 121., 121., 121.,\n",
       "        121., 121., 121.,  97., 108., 108., 108., 108., 108., 108., 108., 108.,\n",
       "        108., 108., 108.,  92.,  92.,  92.,  92.,  92.,  92.,  98.,  98., 110.,\n",
       "        110.,  98.,  98.,  98.,  98.,  98.,  98.,  98., 146., 146., 146., 146.,\n",
       "        146., 146., 122., 110., 122., 122., 122., 171., 171., 171., 161.,  97.,\n",
       "        109.,  97., 109., 109.,  97., 109., 109., 109., 136.,  97., 109., 141.,\n",
       "        141., 141., 141., 130., 130., 141., 141., 173., 145., 141.])"
      ]
     },
     "execution_count": 14,
     "metadata": {},
     "output_type": "execute_result"
    }
   ],
   "source": [
    "x[1:,0]"
   ]
  },
  {
   "cell_type": "code",
   "execution_count": 15,
   "metadata": {},
   "outputs": [
    {
     "data": {
      "text/plain": [
       "tensor([1., 1., 1., 1., 1., 1., 1., 1., 1., 1., 1., 1., 1., 1., 1., 1., 1., 1.,\n",
       "        1., 1., 1., 1., 1., 1., 1., 1., 1., 1., 1., 1., 1., 1., 1., 1., 1., 1.,\n",
       "        1., 1., 1., 1., 1., 1., 1., 1., 1., 1., 1., 1., 1., 1., 1., 1., 1., 1.,\n",
       "        1., 1., 1., 1., 1., 1., 1., 1., 1., 1., 1., 1., 1., 1., 1., 1., 1., 1.,\n",
       "        1., 1., 1., 1., 1., 1., 1., 1., 1., 1., 1., 1., 1., 1., 1., 1., 1., 1.,\n",
       "        1., 1., 1., 1., 1., 1., 1., 1., 1., 1., 1., 1., 1., 1., 1., 1., 1., 1.,\n",
       "        1., 1., 1., 1., 1., 1., 1., 1., 1., 1., 1., 1., 1., 1., 1., 1., 1., 1.,\n",
       "        1., 1., 1., 1., 1., 1., 1., 1., 1., 1., 1., 1., 1., 1., 1., 1., 1., 1.,\n",
       "        1., 1., 1., 1., 1., 1., 1., 1., 1., 1., 1., 1., 1., 1., 1., 1., 1., 1.,\n",
       "        1., 1., 1., 1., 1., 1., 1., 1., 1., 1., 1., 1., 1., 1., 1., 1., 1., 1.,\n",
       "        1., 1., 1., 1., 1., 1., 1., 1., 1., 1., 1., 1., 1., 1., 1., 1., 1., 1.,\n",
       "        1., 1., 1., 1., 1.])"
      ]
     },
     "execution_count": 15,
     "metadata": {},
     "output_type": "execute_result"
    }
   ],
   "source": [
    "x[:,1].uniform_(1)"
   ]
  },
  {
   "cell_type": "code",
   "execution_count": 16,
   "metadata": {},
   "outputs": [
    {
     "data": {
      "text/plain": [
       "tensor([[152.,   1.],\n",
       "        [109.,   1.],\n",
       "        [136.,   1.],\n",
       "        [136.,   1.],\n",
       "        [136.,   1.],\n",
       "        [136.,   1.],\n",
       "        [131.,   1.],\n",
       "        [131.,   1.],\n",
       "        [108.,   1.],\n",
       "        [108.,   1.],\n",
       "        [164.,   1.],\n",
       "        [164.,   1.],\n",
       "        [164.,   1.],\n",
       "        [209.,   1.],\n",
       "        [209.,   1.],\n",
       "        [209.,   1.],\n",
       "        [ 61.,   1.],\n",
       "        [ 90.,   1.],\n",
       "        [ 90.,   1.],\n",
       "        [ 90.,   1.],\n",
       "        [ 90.,   1.],\n",
       "        [ 98.,   1.],\n",
       "        [ 90.,   1.],\n",
       "        [ 90.,   1.],\n",
       "        [ 90.,   1.],\n",
       "        [ 98.,   1.],\n",
       "        [122.,   1.],\n",
       "        [156.,   1.],\n",
       "        [ 92.,   1.],\n",
       "        [ 92.,   1.],\n",
       "        [ 79.,   1.],\n",
       "        [ 92.,   1.],\n",
       "        [ 92.,   1.],\n",
       "        [ 92.,   1.],\n",
       "        [ 92.,   1.],\n",
       "        [110.,   1.],\n",
       "        [110.,   1.],\n",
       "        [110.,   1.],\n",
       "        [110.,   1.],\n",
       "        [110.,   1.],\n",
       "        [110.,   1.],\n",
       "        [111.,   1.],\n",
       "        [ 90.,   1.],\n",
       "        [ 90.,   1.],\n",
       "        [119.,   1.],\n",
       "        [258.,   1.],\n",
       "        [258.,   1.],\n",
       "        [326.,   1.],\n",
       "        [ 91.,   1.],\n",
       "        [ 91.,   1.],\n",
       "        [ 91.,   1.],\n",
       "        [ 91.,   1.],\n",
       "        [ 91.,   1.],\n",
       "        [ 70.,   1.],\n",
       "        [ 70.,   1.],\n",
       "        [ 70.,   1.],\n",
       "        [ 80.,   1.],\n",
       "        [122.,   1.],\n",
       "        [122.,   1.],\n",
       "        [122.,   1.],\n",
       "        [122.,   1.],\n",
       "        [122.,   1.],\n",
       "        [122.,   1.],\n",
       "        [140.,   1.],\n",
       "        [134.,   1.],\n",
       "        [183.,   1.],\n",
       "        [183.,   1.],\n",
       "        [183.,   1.],\n",
       "        [183.,   1.],\n",
       "        [234.,   1.],\n",
       "        [234.,   1.],\n",
       "        [308.,   1.],\n",
       "        [304.,   1.],\n",
       "        [140.,   1.],\n",
       "        [ 92.,   1.],\n",
       "        [ 92.,   1.],\n",
       "        [ 92.,   1.],\n",
       "        [ 98.,   1.],\n",
       "        [110.,   1.],\n",
       "        [122.,   1.],\n",
       "        [156.,   1.],\n",
       "        [156.,   1.],\n",
       "        [156.,   1.],\n",
       "        [122.,   1.],\n",
       "        [122.,   1.],\n",
       "        [110.,   1.],\n",
       "        [110.,   1.],\n",
       "        [ 97.,   1.],\n",
       "        [103.,   1.],\n",
       "        [ 97.,   1.],\n",
       "        [ 97.,   1.],\n",
       "        [ 97.,   1.],\n",
       "        [ 97.,   1.],\n",
       "        [ 97.,   1.],\n",
       "        [ 97.,   1.],\n",
       "        [ 97.,   1.],\n",
       "        [ 97.,   1.],\n",
       "        [120.,   1.],\n",
       "        [120.,   1.],\n",
       "        [181.,   1.],\n",
       "        [181.,   1.],\n",
       "        [181.,   1.],\n",
       "        [181.,   1.],\n",
       "        [181.,   1.],\n",
       "        [181.,   1.],\n",
       "        [120.,   1.],\n",
       "        [152.,   1.],\n",
       "        [120.,   1.],\n",
       "        [152.,   1.],\n",
       "        [120.,   1.],\n",
       "        [152.,   1.],\n",
       "        [120.,   1.],\n",
       "        [152.,   1.],\n",
       "        [120.,   1.],\n",
       "        [152.,   1.],\n",
       "        [134.,   1.],\n",
       "        [ 90.,   1.],\n",
       "        [ 98.,   1.],\n",
       "        [ 90.,   1.],\n",
       "        [ 90.,   1.],\n",
       "        [ 98.,   1.],\n",
       "        [122.,   1.],\n",
       "        [156.,   1.],\n",
       "        [151.,   1.],\n",
       "        [194.,   1.],\n",
       "        [194.,   1.],\n",
       "        [194.,   1.],\n",
       "        [203.,   1.],\n",
       "        [132.,   1.],\n",
       "        [132.,   1.],\n",
       "        [121.,   1.],\n",
       "        [121.,   1.],\n",
       "        [121.,   1.],\n",
       "        [121.,   1.],\n",
       "        [121.,   1.],\n",
       "        [121.,   1.],\n",
       "        [ 97.,   1.],\n",
       "        [108.,   1.],\n",
       "        [108.,   1.],\n",
       "        [108.,   1.],\n",
       "        [108.,   1.],\n",
       "        [108.,   1.],\n",
       "        [108.,   1.],\n",
       "        [108.,   1.],\n",
       "        [108.,   1.],\n",
       "        [108.,   1.],\n",
       "        [108.,   1.],\n",
       "        [108.,   1.],\n",
       "        [ 92.,   1.],\n",
       "        [ 92.,   1.],\n",
       "        [ 92.,   1.],\n",
       "        [ 92.,   1.],\n",
       "        [ 92.,   1.],\n",
       "        [ 92.,   1.],\n",
       "        [ 98.,   1.],\n",
       "        [ 98.,   1.],\n",
       "        [110.,   1.],\n",
       "        [110.,   1.],\n",
       "        [ 98.,   1.],\n",
       "        [ 98.,   1.],\n",
       "        [ 98.,   1.],\n",
       "        [ 98.,   1.],\n",
       "        [ 98.,   1.],\n",
       "        [ 98.,   1.],\n",
       "        [ 98.,   1.],\n",
       "        [146.,   1.],\n",
       "        [146.,   1.],\n",
       "        [146.,   1.],\n",
       "        [146.,   1.],\n",
       "        [146.,   1.],\n",
       "        [146.,   1.],\n",
       "        [122.,   1.],\n",
       "        [110.,   1.],\n",
       "        [122.,   1.],\n",
       "        [122.,   1.],\n",
       "        [122.,   1.],\n",
       "        [171.,   1.],\n",
       "        [171.,   1.],\n",
       "        [171.,   1.],\n",
       "        [161.,   1.],\n",
       "        [ 97.,   1.],\n",
       "        [109.,   1.],\n",
       "        [ 97.,   1.],\n",
       "        [109.,   1.],\n",
       "        [109.,   1.],\n",
       "        [ 97.,   1.],\n",
       "        [109.,   1.],\n",
       "        [109.,   1.],\n",
       "        [109.,   1.],\n",
       "        [136.,   1.],\n",
       "        [ 97.,   1.],\n",
       "        [109.,   1.],\n",
       "        [141.,   1.],\n",
       "        [141.,   1.],\n",
       "        [141.,   1.],\n",
       "        [141.,   1.],\n",
       "        [130.,   1.],\n",
       "        [130.,   1.],\n",
       "        [141.,   1.],\n",
       "        [141.,   1.],\n",
       "        [173.,   1.],\n",
       "        [145.,   1.],\n",
       "        [141.,   1.]])"
      ]
     },
     "execution_count": 16,
     "metadata": {},
     "output_type": "execute_result"
    }
   ],
   "source": [
    "x"
   ]
  },
  {
   "cell_type": "code",
   "execution_count": 17,
   "metadata": {},
   "outputs": [
    {
     "data": {
      "text/plain": [
       "tensor([16500.0000, 13950.0000, 17450.0000, 15250.0000, 17710.0000, 18920.0000,\n",
       "        23875.0000, 17859.1680, 16430.0000, 16925.0000, 20970.0000, 21105.0000,\n",
       "        24565.0000, 30760.0000, 41315.0000, 36880.0000,  5151.0000,  6295.0000,\n",
       "         6575.0000,  5572.0000,  6377.0000,  7957.0000,  6229.0000,  6692.0000,\n",
       "         7609.0000,  8558.0000,  8921.0000, 12964.0000,  6479.0000,  6855.0000,\n",
       "         5399.0000,  6529.0000,  7129.0000,  7295.0000,  7295.0000,  7895.0000,\n",
       "         9095.0000,  8845.0000, 10295.0000, 12945.0000, 10345.0000,  6785.0000,\n",
       "         8916.5000,  8916.5000, 11048.0000, 32250.0000, 35550.0000, 36000.0000,\n",
       "         5195.0000,  6095.0000,  6795.0000,  6695.0000,  7395.0000, 10945.0000,\n",
       "        11845.0000, 13645.0000, 15645.0000,  8845.0000,  8495.0000, 10595.0000,\n",
       "        10245.0000, 10795.0000, 11245.0000, 18280.0000, 18344.0000, 25552.0000,\n",
       "        28248.0000, 28176.0000, 31600.0000, 34184.0000, 35056.0000, 40960.0000,\n",
       "        45400.0000, 16503.0000,  5389.0000,  6189.0000,  6669.0000,  7689.0000,\n",
       "         9959.0000,  8499.0000, 12629.0000, 14869.0000, 14489.0000,  6989.0000,\n",
       "         8189.0000,  9279.0000,  9279.0000,  5499.0000,  7099.0000,  6649.0000,\n",
       "         6849.0000,  7349.0000,  7299.0000,  7799.0000,  7499.0000,  7999.0000,\n",
       "         8249.0000,  8949.0000,  9549.0000, 13499.0000, 14399.0000, 13499.0000,\n",
       "        17199.0000, 19699.0000, 18399.0000, 11900.0000, 13200.0000, 12440.0000,\n",
       "        13860.0000, 15580.0000, 16900.0000, 16695.0000, 17075.0000, 16630.0000,\n",
       "        17950.0000, 18150.0000,  5572.0000,  7957.0000,  6229.0000,  6692.0000,\n",
       "         7609.0000,  8921.0000, 12764.0000, 22018.0000, 32528.0000, 34028.0000,\n",
       "        37028.0000, 31400.5000,  9295.0000,  9895.0000, 11850.0000, 12170.0000,\n",
       "        15040.0000, 15510.0000, 18150.0000, 18620.0000,  5118.0000,  7053.0000,\n",
       "         7603.0000,  7126.0000,  7775.0000,  9960.0000,  9233.0000, 11259.0000,\n",
       "         7463.0000, 10198.0000,  8013.0000, 11694.0000,  5348.0000,  6338.0000,\n",
       "         6488.0000,  6918.0000,  7898.0000,  8778.0000,  6938.0000,  7198.0000,\n",
       "         7898.0000,  7788.0000,  7738.0000,  8358.0000,  9258.0000,  8058.0000,\n",
       "         8238.0000,  9298.0000,  9538.0000,  8449.0000,  9639.0000,  9989.0000,\n",
       "        11199.0000, 11549.0000, 17669.0000,  8948.0000, 10698.0000,  9988.0000,\n",
       "        10898.0000, 11248.0000, 16558.0000, 15998.0000, 15690.0000, 15750.0000,\n",
       "         7775.0000,  7975.0000,  7995.0000,  8195.0000,  8495.0000,  9495.0000,\n",
       "         9995.0000, 11595.0000,  9980.0000, 13295.0000, 13845.0000, 12290.0000,\n",
       "        12940.0000, 13415.0000, 15985.0000, 16515.0000, 18420.0000, 18950.0000,\n",
       "        16845.0000, 19045.0000, 21485.0000, 22470.0000, 22625.0000])"
      ]
     },
     "execution_count": 17,
     "metadata": {},
     "output_type": "execute_result"
    }
   ],
   "source": [
    "y = torch.tensor(data.values).float()\n",
    "y[1:,1]"
   ]
  },
  {
   "cell_type": "code",
   "execution_count": 18,
   "metadata": {},
   "outputs": [
    {
     "data": {
      "text/plain": [
       "torch.Size([204, 2])"
      ]
     },
     "execution_count": 18,
     "metadata": {},
     "output_type": "execute_result"
    }
   ],
   "source": [
    "y.shape"
   ]
  },
  {
   "cell_type": "code",
   "execution_count": 19,
   "metadata": {},
   "outputs": [],
   "source": [
    "y = y[1:,1]"
   ]
  },
  {
   "cell_type": "code",
   "execution_count": 20,
   "metadata": {},
   "outputs": [
    {
     "data": {
      "text/plain": [
       "torch.Size([203])"
      ]
     },
     "execution_count": 20,
     "metadata": {},
     "output_type": "execute_result"
    }
   ],
   "source": [
    "y.shape"
   ]
  },
  {
   "cell_type": "code",
   "execution_count": 21,
   "metadata": {},
   "outputs": [],
   "source": [
    "W = torch.nn.Parameter(tensor([1., -1.])) #nn is a lib. We create a tensor with random weights. Parameter means it'll calc gradients"
   ]
  },
  {
   "cell_type": "code",
   "execution_count": 22,
   "metadata": {},
   "outputs": [],
   "source": [
    "def linear(x, W): #linear regression\n",
    "  return x@W"
   ]
  },
  {
   "cell_type": "code",
   "execution_count": 23,
   "metadata": {},
   "outputs": [],
   "source": [
    "y_hat = linear(x, W)"
   ]
  },
  {
   "cell_type": "code",
   "execution_count": 24,
   "metadata": {},
   "outputs": [],
   "source": [
    "def mse(y_hat, y_true): #loss func\n",
    "  return ((y_hat - y_true)**2).mean()"
   ]
  },
  {
   "cell_type": "code",
   "execution_count": 25,
   "metadata": {},
   "outputs": [],
   "source": [
    "loss = mse(y_hat, y)"
   ]
  },
  {
   "cell_type": "code",
   "execution_count": 26,
   "metadata": {},
   "outputs": [
    {
     "data": {
      "text/plain": [
       "<matplotlib.collections.PathCollection at 0x7fb45eaa2250>"
      ]
     },
     "execution_count": 26,
     "metadata": {},
     "output_type": "execute_result"
    },
    {
     "data": {
      "image/png": "[encoded data removed]",
      "text/plain": [
       "<Figure size 432x288 with 1 Axes>"
      ]
     },
     "metadata": {
      "needs_background": "light"
     },
     "output_type": "display_data"
    }
   ],
   "source": [
    "y_h = linear(x, W).detach() #for matplotlib\n",
    "plt.scatter(x[:, 0], y)\n",
    "plt.scatter(x[:, 0], y_h) #our linear regression prediction before learning (random weights)"
   ]
  },
  {
   "cell_type": "markdown",
   "metadata": {},
   "source": [
    "Gradient Descent"
   ]
  },
  {
   "cell_type": "code",
   "execution_count": 27,
   "metadata": {},
   "outputs": [],
   "source": [
    "learning_rate = 0.1\n",
    "#Forward pass\n",
    "y_hat = linear(x, W)\n",
    "loss = mse(y_hat, y)\n",
    "\n",
    "loss.backward() #gradient calc for all parameters\n",
    "\n",
    "#Gradient descent\n",
    "\n",
    "with torch.no_grad(): \n",
    "  W -= learning_rate * W.grad\n",
    "  W.grad.zero_()"
   ]
  },
  {
   "cell_type": "code",
   "execution_count": 28,
   "metadata": {},
   "outputs": [
    {
     "data": {
      "text/plain": [
       "<matplotlib.collections.PathCollection at 0x7fb45ea642d0>"
      ]
     },
     "execution_count": 28,
     "metadata": {},
     "output_type": "execute_result"
    },
    {
     "data": {
      "image/png": "[encoded data removed]",
      "text/plain": [
       "<Figure size 432x288 with 1 Axes>"
      ]
     },
     "metadata": {
      "needs_background": "light"
     },
     "output_type": "display_data"
    }
   ],
   "source": [
    "y_h = linear(x, W).detach() #for matplotlib\n",
    "plt.scatter(x[:, 0], y)\n",
    "plt.scatter(x[:, 0], y_h) #our linear regression prediction before learning (random weights)"
   ]
  },
  {
   "cell_type": "code",
   "execution_count": 29,
   "metadata": {},
   "outputs": [],
   "source": [
    "def train():\n",
    "  \n",
    "  #Forward pass\n",
    "  y_hat = linear(x, W)\n",
    "  loss = mse(y_hat, y)\n",
    "\n",
    "  loss.backward() #gradient calc for all parameters\n",
    "  print (loss)\n",
    "  \n",
    "  #Gradient descent\n",
    "\n",
    "  with torch.no_grad(): \n",
    "    W.sub_(learning_rate * W.grad)\n",
    "    W.grad.zero_()\n",
    "  return y_hat.detach()\n"
   ]
  },
  {
   "cell_type": "code",
   "execution_count": 30,
   "metadata": {},
   "outputs": [
    {
     "name": "stdout",
     "output_type": "stream",
     "text": [
      "tensor(2.3796e+08, grad_fn=<MeanBackward0>)\n",
      "tensor(1.5454e+08, grad_fn=<MeanBackward0>)\n",
      "tensor(1.0325e+08, grad_fn=<MeanBackward0>)\n",
      "tensor(71708552., grad_fn=<MeanBackward0>)\n",
      "tensor(52318128., grad_fn=<MeanBackward0>)\n",
      "tensor(40396016., grad_fn=<MeanBackward0>)\n",
      "tensor(33065714., grad_fn=<MeanBackward0>)\n",
      "tensor(28558704., grad_fn=<MeanBackward0>)\n",
      "tensor(25787528., grad_fn=<MeanBackward0>)\n",
      "tensor(24083650., grad_fn=<MeanBackward0>)\n",
      "tensor(23035980., grad_fn=<MeanBackward0>)\n",
      "tensor(22391786., grad_fn=<MeanBackward0>)\n",
      "tensor(21995656., grad_fn=<MeanBackward0>)\n",
      "tensor(21752050., grad_fn=<MeanBackward0>)\n",
      "tensor(21602224., grad_fn=<MeanBackward0>)\n",
      "tensor(21510056., grad_fn=<MeanBackward0>)\n",
      "tensor(21453342., grad_fn=<MeanBackward0>)\n",
      "tensor(21418422., grad_fn=<MeanBackward0>)\n",
      "tensor(21396904., grad_fn=<MeanBackward0>)\n",
      "tensor(21383624., grad_fn=<MeanBackward0>)\n",
      "tensor(21375420., grad_fn=<MeanBackward0>)\n",
      "tensor(21370328., grad_fn=<MeanBackward0>)\n",
      "tensor(21367142., grad_fn=<MeanBackward0>)\n",
      "tensor(21365142., grad_fn=<MeanBackward0>)\n",
      "tensor(21363864., grad_fn=<MeanBackward0>)\n",
      "tensor(21363034., grad_fn=<MeanBackward0>)\n",
      "tensor(21362472., grad_fn=<MeanBackward0>)\n",
      "tensor(21362080., grad_fn=<MeanBackward0>)\n",
      "tensor(21361792., grad_fn=<MeanBackward0>)\n",
      "tensor(21361568., grad_fn=<MeanBackward0>)\n",
      "tensor(21361384., grad_fn=<MeanBackward0>)\n",
      "tensor(21361226., grad_fn=<MeanBackward0>)\n",
      "tensor(21361076., grad_fn=<MeanBackward0>)\n",
      "tensor(21360940., grad_fn=<MeanBackward0>)\n",
      "tensor(21360806., grad_fn=<MeanBackward0>)\n",
      "tensor(21360680., grad_fn=<MeanBackward0>)\n",
      "tensor(21360552., grad_fn=<MeanBackward0>)\n",
      "tensor(21360426., grad_fn=<MeanBackward0>)\n",
      "tensor(21360310., grad_fn=<MeanBackward0>)\n",
      "tensor(21360186., grad_fn=<MeanBackward0>)\n",
      "tensor(21360062., grad_fn=<MeanBackward0>)\n",
      "tensor(21359942., grad_fn=<MeanBackward0>)\n",
      "tensor(21359812., grad_fn=<MeanBackward0>)\n",
      "tensor(21359694., grad_fn=<MeanBackward0>)\n",
      "tensor(21359570., grad_fn=<MeanBackward0>)\n",
      "tensor(21359448., grad_fn=<MeanBackward0>)\n",
      "tensor(21359326., grad_fn=<MeanBackward0>)\n",
      "tensor(21359202., grad_fn=<MeanBackward0>)\n",
      "tensor(21359082., grad_fn=<MeanBackward0>)\n",
      "tensor(21358958., grad_fn=<MeanBackward0>)\n",
      "tensor(21358836., grad_fn=<MeanBackward0>)\n",
      "tensor(21358710., grad_fn=<MeanBackward0>)\n",
      "tensor(21358586., grad_fn=<MeanBackward0>)\n",
      "tensor(21358464., grad_fn=<MeanBackward0>)\n",
      "tensor(21358344., grad_fn=<MeanBackward0>)\n",
      "tensor(21358224., grad_fn=<MeanBackward0>)\n",
      "tensor(21358102., grad_fn=<MeanBackward0>)\n",
      "tensor(21357980., grad_fn=<MeanBackward0>)\n",
      "tensor(21357858., grad_fn=<MeanBackward0>)\n",
      "tensor(21357736., grad_fn=<MeanBackward0>)\n",
      "tensor(21357608., grad_fn=<MeanBackward0>)\n",
      "tensor(21357488., grad_fn=<MeanBackward0>)\n",
      "tensor(21357364., grad_fn=<MeanBackward0>)\n",
      "tensor(21357242., grad_fn=<MeanBackward0>)\n",
      "tensor(21357122., grad_fn=<MeanBackward0>)\n",
      "tensor(21357000., grad_fn=<MeanBackward0>)\n",
      "tensor(21356876., grad_fn=<MeanBackward0>)\n",
      "tensor(21356756., grad_fn=<MeanBackward0>)\n",
      "tensor(21356632., grad_fn=<MeanBackward0>)\n",
      "tensor(21356506., grad_fn=<MeanBackward0>)\n",
      "tensor(21356388., grad_fn=<MeanBackward0>)\n",
      "tensor(21356264., grad_fn=<MeanBackward0>)\n",
      "tensor(21356140., grad_fn=<MeanBackward0>)\n",
      "tensor(21356020., grad_fn=<MeanBackward0>)\n",
      "tensor(21355900., grad_fn=<MeanBackward0>)\n",
      "tensor(21355778., grad_fn=<MeanBackward0>)\n",
      "tensor(21355656., grad_fn=<MeanBackward0>)\n",
      "tensor(21355532., grad_fn=<MeanBackward0>)\n",
      "tensor(21355412., grad_fn=<MeanBackward0>)\n",
      "tensor(21355288., grad_fn=<MeanBackward0>)\n",
      "tensor(21355164., grad_fn=<MeanBackward0>)\n",
      "tensor(21355040., grad_fn=<MeanBackward0>)\n",
      "tensor(21354918., grad_fn=<MeanBackward0>)\n",
      "tensor(21354798., grad_fn=<MeanBackward0>)\n",
      "tensor(21354676., grad_fn=<MeanBackward0>)\n",
      "tensor(21354552., grad_fn=<MeanBackward0>)\n",
      "tensor(21354428., grad_fn=<MeanBackward0>)\n",
      "tensor(21354306., grad_fn=<MeanBackward0>)\n",
      "tensor(21354186., grad_fn=<MeanBackward0>)\n",
      "tensor(21354062., grad_fn=<MeanBackward0>)\n",
      "tensor(21353942., grad_fn=<MeanBackward0>)\n",
      "tensor(21353818., grad_fn=<MeanBackward0>)\n",
      "tensor(21353694., grad_fn=<MeanBackward0>)\n",
      "tensor(21353572., grad_fn=<MeanBackward0>)\n",
      "tensor(21353450., grad_fn=<MeanBackward0>)\n",
      "tensor(21353324., grad_fn=<MeanBackward0>)\n",
      "tensor(21353204., grad_fn=<MeanBackward0>)\n",
      "tensor(21353086., grad_fn=<MeanBackward0>)\n",
      "tensor(21352962., grad_fn=<MeanBackward0>)\n",
      "tensor(21352842., grad_fn=<MeanBackward0>)\n"
     ]
    }
   ],
   "source": [
    "learning_rate = 0.00005\n",
    "W = torch.nn.Parameter(tensor([0.5, -1.])) #nn is a lib. We create a tensor with random weights. Parameter means it'll calc gradients\n",
    "\n",
    "EPOCHS = 100\n",
    "for i in range(EPOCHS):\n",
    "  train()"
   ]
  },
  {
   "cell_type": "code",
   "execution_count": 31,
   "metadata": {},
   "outputs": [
    {
     "data": {
      "text/plain": [
       "<matplotlib.collections.PathCollection at 0x7fb45d97f210>"
      ]
     },
     "execution_count": 31,
     "metadata": {},
     "output_type": "execute_result"
    },
    {
     "data": {
      "image/png": "[encoded data removed]",
      "text/plain": [
       "<Figure size 432x288 with 1 Axes>"
      ]
     },
     "metadata": {
      "needs_background": "light"
     },
     "output_type": "display_data"
    }
   ],
   "source": [
    "y_h = linear(x, W).detach() #for matplotlib\n",
    "plt.scatter(x[:, 0], y)\n",
    "plt.scatter(x[:, 0], y_h) #our linear regression prediction before learning (random weights)"
   ]
  },
  {
   "cell_type": "code",
   "execution_count": 52,
   "metadata": {},
   "outputs": [],
   "source": [
    "#Predicting for enginesize 220\n",
    "x_engine = tensor([220., 1.])"
   ]
  },
  {
   "cell_type": "code",
   "execution_count": 53,
   "metadata": {},
   "outputs": [],
   "source": [
    "y_pred = x_engine@W"
   ]
  },
  {
   "cell_type": "code",
   "execution_count": 54,
   "metadata": {},
   "outputs": [
    {
     "data": {
      "text/plain": [
       "tensor(24353.8262, grad_fn=<DotBackward>)"
      ]
     },
     "execution_count": 54,
     "metadata": {},
     "output_type": "execute_result"
    }
   ],
   "source": [
    "y_pred"
   ]
  },
  {
   "cell_type": "code",
   "execution_count": null,
   "metadata": {},
   "outputs": [],
   "source": []
  }
 ],
 "metadata": {
  "kernelspec": {
   "display_name": "Python 3",
   "language": "python",
   "name": "python3"
  },
  "language_info": {
   "codemirror_mode": {
    "name": "ipython",
    "version": 3
   },
   "file_extension": ".py",
   "mimetype": "text/x-python",
   "name": "python",
   "nbconvert_exporter": "python",
   "pygments_lexer": "ipython3",
   "version": "3.7.4"
  }
 },
 "nbformat": 4,
 "nbformat_minor": 2
}
