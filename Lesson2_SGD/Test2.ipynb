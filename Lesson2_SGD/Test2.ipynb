{
 "cells": [
  {
   "cell_type": "code",
   "execution_count": 1,
   "metadata": {},
   "outputs": [],
   "source": [
    "import numpy as np\n",
    "import matplotlib.pyplot as plt\n",
    "import pandas as pd\n",
    "import torch\n",
    "from torch import tensor\n",
    "%matplotlib inline"
   ]
  },
  {
   "cell_type": "code",
   "execution_count": 32,
   "metadata": {},
   "outputs": [],
   "source": [
    "#Loading the dataset\n",
    "data = pd.read_csv(\"sales_exp.csv\")"
   ]
  },
  {
   "cell_type": "code",
   "execution_count": 33,
   "metadata": {},
   "outputs": [
    {
     "data": {
      "text/plain": [
       "<matplotlib.axes._subplots.AxesSubplot at 0x7f4e43472bd0>"
      ]
     },
     "execution_count": 33,
     "metadata": {},
     "output_type": "execute_result"
    },
    {
     "data": {
      "image/png": "[encoded data removed]",
      "text/plain": [
       "<Figure size 432x288 with 1 Axes>"
      ]
     },
     "metadata": {
      "needs_background": "light"
     },
     "output_type": "display_data"
    }
   ],
   "source": [
    "#Plotting the Dataset\n",
    "data.plot(kind = 'scatter', x = 'Experience', y = 'Sales')"
   ]
  },
  {
   "cell_type": "code",
   "execution_count": 34,
   "metadata": {},
   "outputs": [],
   "source": [
    "W = torch.nn.Parameter(tensor([1., -1.])) #nn is a lib. We create a tensor with random weights. Parameter means it'll calc gradients"
   ]
  },
  {
   "cell_type": "code",
   "execution_count": 35,
   "metadata": {},
   "outputs": [
    {
     "data": {
      "text/html": [
       "<div>\n",
       "<style scoped>\n",
       "    .dataframe tbody tr th:only-of-type {\n",
       "        vertical-align: middle;\n",
       "    }\n",
       "\n",
       "    .dataframe tbody tr th {\n",
       "        vertical-align: top;\n",
       "    }\n",
       "\n",
       "    .dataframe thead th {\n",
       "        text-align: right;\n",
       "    }\n",
       "</style>\n",
       "<table border=\"1\" class=\"dataframe\">\n",
       "  <thead>\n",
       "    <tr style=\"text-align: right;\">\n",
       "      <th></th>\n",
       "      <th>Sales</th>\n",
       "      <th>Experience</th>\n",
       "    </tr>\n",
       "  </thead>\n",
       "  <tbody>\n",
       "    <tr>\n",
       "      <td>1</td>\n",
       "      <td>3</td>\n",
       "      <td>5</td>\n",
       "    </tr>\n",
       "    <tr>\n",
       "      <td>2</td>\n",
       "      <td>19</td>\n",
       "      <td>35</td>\n",
       "    </tr>\n",
       "    <tr>\n",
       "      <td>3</td>\n",
       "      <td>2</td>\n",
       "      <td>4</td>\n",
       "    </tr>\n",
       "    <tr>\n",
       "      <td>4</td>\n",
       "      <td>5</td>\n",
       "      <td>8</td>\n",
       "    </tr>\n",
       "    <tr>\n",
       "      <td>5</td>\n",
       "      <td>5</td>\n",
       "      <td>7</td>\n",
       "    </tr>\n",
       "    <tr>\n",
       "      <td>6</td>\n",
       "      <td>4</td>\n",
       "      <td>12</td>\n",
       "    </tr>\n",
       "    <tr>\n",
       "      <td>7</td>\n",
       "      <td>4</td>\n",
       "      <td>6</td>\n",
       "    </tr>\n",
       "    <tr>\n",
       "      <td>8</td>\n",
       "      <td>15</td>\n",
       "      <td>25</td>\n",
       "    </tr>\n",
       "    <tr>\n",
       "      <td>9</td>\n",
       "      <td>9</td>\n",
       "      <td>14</td>\n",
       "    </tr>\n",
       "    <tr>\n",
       "      <td>10</td>\n",
       "      <td>1</td>\n",
       "      <td>2</td>\n",
       "    </tr>\n",
       "  </tbody>\n",
       "</table>\n",
       "</div>"
      ],
      "text/plain": [
       "    Sales  Experience\n",
       "1       3           5\n",
       "2      19          35\n",
       "3       2           4\n",
       "4       5           8\n",
       "5       5           7\n",
       "6       4          12\n",
       "7       4           6\n",
       "8      15          25\n",
       "9       9          14\n",
       "10      1           2"
      ]
     },
     "execution_count": 35,
     "metadata": {},
     "output_type": "execute_result"
    }
   ],
   "source": [
    "data[1:]"
   ]
  },
  {
   "cell_type": "code",
   "execution_count": 36,
   "metadata": {},
   "outputs": [],
   "source": [
    "x = torch.tensor(data.values).float()"
   ]
  },
  {
   "cell_type": "code",
   "execution_count": 41,
   "metadata": {},
   "outputs": [],
   "source": [
    "x = x[1:] #to get rid of first column that is added instead of headings (it was 1 and 0)"
   ]
  },
  {
   "cell_type": "code",
   "execution_count": 42,
   "metadata": {},
   "outputs": [
    {
     "data": {
      "text/plain": [
       "torch.Size([10, 2])"
      ]
     },
     "execution_count": 42,
     "metadata": {},
     "output_type": "execute_result"
    }
   ],
   "source": [
    "x.shape"
   ]
  },
  {
   "cell_type": "code",
   "execution_count": 43,
   "metadata": {},
   "outputs": [
    {
     "data": {
      "text/plain": [
       "tensor([19.,  2.,  5.,  5.,  4.,  4., 15.,  9.,  1.])"
      ]
     },
     "execution_count": 43,
     "metadata": {},
     "output_type": "execute_result"
    }
   ],
   "source": [
    "x[1:,0]"
   ]
  },
  {
   "cell_type": "code",
   "execution_count": 44,
   "metadata": {},
   "outputs": [
    {
     "data": {
      "text/plain": [
       "tensor([1., 1., 1., 1., 1., 1., 1., 1., 1., 1.])"
      ]
     },
     "execution_count": 44,
     "metadata": {},
     "output_type": "execute_result"
    }
   ],
   "source": [
    "x[:,1].uniform_(1)"
   ]
  },
  {
   "cell_type": "code",
   "execution_count": 45,
   "metadata": {},
   "outputs": [
    {
     "data": {
      "text/plain": [
       "tensor([[ 3.,  1.],\n",
       "        [19.,  1.],\n",
       "        [ 2.,  1.],\n",
       "        [ 5.,  1.],\n",
       "        [ 5.,  1.],\n",
       "        [ 4.,  1.],\n",
       "        [ 4.,  1.],\n",
       "        [15.,  1.],\n",
       "        [ 9.,  1.],\n",
       "        [ 1.,  1.]])"
      ]
     },
     "execution_count": 45,
     "metadata": {},
     "output_type": "execute_result"
    }
   ],
   "source": [
    "x"
   ]
  },
  {
   "cell_type": "code",
   "execution_count": 46,
   "metadata": {},
   "outputs": [
    {
     "data": {
      "text/plain": [
       "tensor([ 5., 35.,  4.,  8.,  7., 12.,  6., 25., 14.,  2.])"
      ]
     },
     "execution_count": 46,
     "metadata": {},
     "output_type": "execute_result"
    }
   ],
   "source": [
    "y = torch.tensor(data.values).float()\n",
    "y[1:,1]"
   ]
  },
  {
   "cell_type": "code",
   "execution_count": 47,
   "metadata": {},
   "outputs": [
    {
     "data": {
      "text/plain": [
       "torch.Size([11, 2])"
      ]
     },
     "execution_count": 47,
     "metadata": {},
     "output_type": "execute_result"
    }
   ],
   "source": [
    "y.shape"
   ]
  },
  {
   "cell_type": "code",
   "execution_count": 48,
   "metadata": {},
   "outputs": [],
   "source": [
    "y = y[1:,1]"
   ]
  },
  {
   "cell_type": "code",
   "execution_count": 49,
   "metadata": {},
   "outputs": [
    {
     "data": {
      "text/plain": [
       "tensor([ 5., 35.,  4.,  8.,  7., 12.,  6., 25., 14.,  2.])"
      ]
     },
     "execution_count": 49,
     "metadata": {},
     "output_type": "execute_result"
    }
   ],
   "source": [
    "y"
   ]
  },
  {
   "cell_type": "code",
   "execution_count": 50,
   "metadata": {},
   "outputs": [],
   "source": [
    "def linear(x, W): #linear regression\n",
    "  return x@W"
   ]
  },
  {
   "cell_type": "code",
   "execution_count": 51,
   "metadata": {},
   "outputs": [],
   "source": [
    "y_hat = linear(x, W)"
   ]
  },
  {
   "cell_type": "code",
   "execution_count": 52,
   "metadata": {},
   "outputs": [
    {
     "data": {
      "text/plain": [
       "tensor([[ 3.,  1.],\n",
       "        [19.,  1.],\n",
       "        [ 2.,  1.],\n",
       "        [ 5.,  1.],\n",
       "        [ 5.,  1.],\n",
       "        [ 4.,  1.],\n",
       "        [ 4.,  1.],\n",
       "        [15.,  1.],\n",
       "        [ 9.,  1.],\n",
       "        [ 1.,  1.]])"
      ]
     },
     "execution_count": 52,
     "metadata": {},
     "output_type": "execute_result"
    }
   ],
   "source": [
    "x"
   ]
  },
  {
   "cell_type": "code",
   "execution_count": 53,
   "metadata": {},
   "outputs": [
    {
     "data": {
      "text/plain": [
       "tensor([ 5., 35.,  4.,  8.,  7., 12.,  6., 25., 14.,  2.])"
      ]
     },
     "execution_count": 53,
     "metadata": {},
     "output_type": "execute_result"
    }
   ],
   "source": [
    "y"
   ]
  },
  {
   "cell_type": "code",
   "execution_count": 54,
   "metadata": {},
   "outputs": [
    {
     "data": {
      "text/plain": [
       "torch.Size([10])"
      ]
     },
     "execution_count": 54,
     "metadata": {},
     "output_type": "execute_result"
    }
   ],
   "source": [
    "linear(x, W).shape"
   ]
  },
  {
   "cell_type": "code",
   "execution_count": 55,
   "metadata": {},
   "outputs": [],
   "source": [
    "def mse(y_hat, y_true): #loss func\n",
    "  return ((y_hat - y_true)**2).mean()"
   ]
  },
  {
   "cell_type": "code",
   "execution_count": 56,
   "metadata": {},
   "outputs": [],
   "source": [
    "loss = mse(y_hat, y)"
   ]
  },
  {
   "cell_type": "code",
   "execution_count": 58,
   "metadata": {},
   "outputs": [
    {
     "data": {
      "text/plain": [
       "<matplotlib.collections.PathCollection at 0x7f4e43389d50>"
      ]
     },
     "execution_count": 58,
     "metadata": {},
     "output_type": "execute_result"
    },
    {
     "data": {
      "image/png": "[encoded data removed]",
      "text/plain": [
       "<Figure size 432x288 with 1 Axes>"
      ]
     },
     "metadata": {
      "needs_background": "light"
     },
     "output_type": "display_data"
    }
   ],
   "source": [
    "y_h = linear(x, W).detach() #for matplotlib\n",
    "plt.scatter(x[:, 0], y)\n",
    "plt.scatter(x[:, 0], y_h) #our linear regression prediction before learning (random weights)"
   ]
  },
  {
   "cell_type": "markdown",
   "metadata": {},
   "source": [
    "**Gradient Descent**"
   ]
  },
  {
   "cell_type": "code",
   "execution_count": 59,
   "metadata": {},
   "outputs": [],
   "source": [
    "learning_rate = 0.1\n",
    "#Forward pass\n",
    "y_hat = linear(x, W)\n",
    "loss = mse(y_hat, y)\n",
    "\n",
    "loss.backward() #gradient calc for all parameters\n",
    "\n",
    "#Gradient descent\n",
    "\n",
    "with torch.no_grad(): \n",
    "  W -= learning_rate * W.grad\n",
    "  W.grad.zero_()"
   ]
  },
  {
   "cell_type": "code",
   "execution_count": 60,
   "metadata": {},
   "outputs": [
    {
     "data": {
      "text/plain": [
       "<matplotlib.collections.PathCollection at 0x7f4e432fcd10>"
      ]
     },
     "execution_count": 60,
     "metadata": {},
     "output_type": "execute_result"
    },
    {
     "data": {
      "image/png": "[encoded data removed]",
      "text/plain": [
       "<Figure size 432x288 with 1 Axes>"
      ]
     },
     "metadata": {
      "needs_background": "light"
     },
     "output_type": "display_data"
    }
   ],
   "source": [
    "y_h = linear(x, W).detach() #for matplotlib\n",
    "plt.scatter(x[:, 0], y)\n",
    "plt.scatter(x[:, 0], y_h) #our linear regression prediction before learning (random weights)"
   ]
  },
  {
   "cell_type": "code",
   "execution_count": 61,
   "metadata": {},
   "outputs": [],
   "source": [
    "def train():\n",
    "  \n",
    "  #Forward pass\n",
    "  y_hat = linear(x, W)\n",
    "  loss = mse(y_hat, y)\n",
    "\n",
    "  loss.backward() #gradient calc for all parameters\n",
    "  print (loss)\n",
    "  \n",
    "  #Gradient descent\n",
    "\n",
    "  with torch.no_grad(): \n",
    "    W.sub_(learning_rate * W.grad)\n",
    "    W.grad.zero_()\n",
    "  return y_hat.detach()\n"
   ]
  },
  {
   "cell_type": "code",
   "execution_count": 66,
   "metadata": {},
   "outputs": [
    {
     "name": "stdout",
     "output_type": "stream",
     "text": [
      "tensor(141.5750, grad_fn=<MeanBackward0>)\n",
      "tensor(11.5117, grad_fn=<MeanBackward0>)\n",
      "tensor(4.5631, grad_fn=<MeanBackward0>)\n",
      "tensor(4.1889, grad_fn=<MeanBackward0>)\n",
      "tensor(4.1658, grad_fn=<MeanBackward0>)\n",
      "tensor(4.1614, grad_fn=<MeanBackward0>)\n",
      "tensor(4.1581, grad_fn=<MeanBackward0>)\n",
      "tensor(4.1549, grad_fn=<MeanBackward0>)\n",
      "tensor(4.1517, grad_fn=<MeanBackward0>)\n",
      "tensor(4.1485, grad_fn=<MeanBackward0>)\n",
      "tensor(4.1453, grad_fn=<MeanBackward0>)\n",
      "tensor(4.1422, grad_fn=<MeanBackward0>)\n",
      "tensor(4.1391, grad_fn=<MeanBackward0>)\n",
      "tensor(4.1360, grad_fn=<MeanBackward0>)\n",
      "tensor(4.1330, grad_fn=<MeanBackward0>)\n",
      "tensor(4.1299, grad_fn=<MeanBackward0>)\n",
      "tensor(4.1269, grad_fn=<MeanBackward0>)\n",
      "tensor(4.1240, grad_fn=<MeanBackward0>)\n",
      "tensor(4.1210, grad_fn=<MeanBackward0>)\n",
      "tensor(4.1181, grad_fn=<MeanBackward0>)\n",
      "tensor(4.1152, grad_fn=<MeanBackward0>)\n",
      "tensor(4.1123, grad_fn=<MeanBackward0>)\n",
      "tensor(4.1094, grad_fn=<MeanBackward0>)\n",
      "tensor(4.1066, grad_fn=<MeanBackward0>)\n",
      "tensor(4.1038, grad_fn=<MeanBackward0>)\n",
      "tensor(4.1010, grad_fn=<MeanBackward0>)\n",
      "tensor(4.0982, grad_fn=<MeanBackward0>)\n",
      "tensor(4.0955, grad_fn=<MeanBackward0>)\n",
      "tensor(4.0927, grad_fn=<MeanBackward0>)\n",
      "tensor(4.0900, grad_fn=<MeanBackward0>)\n",
      "tensor(4.0874, grad_fn=<MeanBackward0>)\n",
      "tensor(4.0847, grad_fn=<MeanBackward0>)\n",
      "tensor(4.0821, grad_fn=<MeanBackward0>)\n",
      "tensor(4.0795, grad_fn=<MeanBackward0>)\n",
      "tensor(4.0769, grad_fn=<MeanBackward0>)\n",
      "tensor(4.0743, grad_fn=<MeanBackward0>)\n",
      "tensor(4.0717, grad_fn=<MeanBackward0>)\n",
      "tensor(4.0692, grad_fn=<MeanBackward0>)\n",
      "tensor(4.0667, grad_fn=<MeanBackward0>)\n",
      "tensor(4.0642, grad_fn=<MeanBackward0>)\n",
      "tensor(4.0618, grad_fn=<MeanBackward0>)\n",
      "tensor(4.0593, grad_fn=<MeanBackward0>)\n",
      "tensor(4.0569, grad_fn=<MeanBackward0>)\n",
      "tensor(4.0545, grad_fn=<MeanBackward0>)\n",
      "tensor(4.0521, grad_fn=<MeanBackward0>)\n",
      "tensor(4.0497, grad_fn=<MeanBackward0>)\n",
      "tensor(4.0474, grad_fn=<MeanBackward0>)\n",
      "tensor(4.0450, grad_fn=<MeanBackward0>)\n",
      "tensor(4.0427, grad_fn=<MeanBackward0>)\n",
      "tensor(4.0404, grad_fn=<MeanBackward0>)\n",
      "tensor(4.0381, grad_fn=<MeanBackward0>)\n",
      "tensor(4.0359, grad_fn=<MeanBackward0>)\n",
      "tensor(4.0337, grad_fn=<MeanBackward0>)\n",
      "tensor(4.0314, grad_fn=<MeanBackward0>)\n",
      "tensor(4.0292, grad_fn=<MeanBackward0>)\n",
      "tensor(4.0270, grad_fn=<MeanBackward0>)\n",
      "tensor(4.0249, grad_fn=<MeanBackward0>)\n",
      "tensor(4.0227, grad_fn=<MeanBackward0>)\n",
      "tensor(4.0206, grad_fn=<MeanBackward0>)\n",
      "tensor(4.0185, grad_fn=<MeanBackward0>)\n",
      "tensor(4.0164, grad_fn=<MeanBackward0>)\n",
      "tensor(4.0143, grad_fn=<MeanBackward0>)\n",
      "tensor(4.0123, grad_fn=<MeanBackward0>)\n",
      "tensor(4.0102, grad_fn=<MeanBackward0>)\n",
      "tensor(4.0082, grad_fn=<MeanBackward0>)\n",
      "tensor(4.0062, grad_fn=<MeanBackward0>)\n",
      "tensor(4.0042, grad_fn=<MeanBackward0>)\n",
      "tensor(4.0022, grad_fn=<MeanBackward0>)\n",
      "tensor(4.0002, grad_fn=<MeanBackward0>)\n",
      "tensor(3.9983, grad_fn=<MeanBackward0>)\n",
      "tensor(3.9964, grad_fn=<MeanBackward0>)\n",
      "tensor(3.9944, grad_fn=<MeanBackward0>)\n",
      "tensor(3.9925, grad_fn=<MeanBackward0>)\n",
      "tensor(3.9907, grad_fn=<MeanBackward0>)\n",
      "tensor(3.9888, grad_fn=<MeanBackward0>)\n",
      "tensor(3.9869, grad_fn=<MeanBackward0>)\n",
      "tensor(3.9851, grad_fn=<MeanBackward0>)\n",
      "tensor(3.9833, grad_fn=<MeanBackward0>)\n",
      "tensor(3.9815, grad_fn=<MeanBackward0>)\n",
      "tensor(3.9797, grad_fn=<MeanBackward0>)\n",
      "tensor(3.9779, grad_fn=<MeanBackward0>)\n",
      "tensor(3.9761, grad_fn=<MeanBackward0>)\n",
      "tensor(3.9744, grad_fn=<MeanBackward0>)\n",
      "tensor(3.9726, grad_fn=<MeanBackward0>)\n",
      "tensor(3.9709, grad_fn=<MeanBackward0>)\n",
      "tensor(3.9692, grad_fn=<MeanBackward0>)\n",
      "tensor(3.9675, grad_fn=<MeanBackward0>)\n",
      "tensor(3.9658, grad_fn=<MeanBackward0>)\n",
      "tensor(3.9642, grad_fn=<MeanBackward0>)\n",
      "tensor(3.9625, grad_fn=<MeanBackward0>)\n",
      "tensor(3.9609, grad_fn=<MeanBackward0>)\n",
      "tensor(3.9593, grad_fn=<MeanBackward0>)\n",
      "tensor(3.9576, grad_fn=<MeanBackward0>)\n",
      "tensor(3.9560, grad_fn=<MeanBackward0>)\n",
      "tensor(3.9545, grad_fn=<MeanBackward0>)\n",
      "tensor(3.9529, grad_fn=<MeanBackward0>)\n",
      "tensor(3.9513, grad_fn=<MeanBackward0>)\n",
      "tensor(3.9498, grad_fn=<MeanBackward0>)\n",
      "tensor(3.9482, grad_fn=<MeanBackward0>)\n",
      "tensor(3.9467, grad_fn=<MeanBackward0>)\n"
     ]
    }
   ],
   "source": [
    "learning_rate = 0.005\n",
    "W = torch.nn.Parameter(tensor([0.5, -1.])) #nn is a lib. We create a tensor with random weights. Parameter means it'll calc gradients\n",
    "\n",
    "EPOCHS = 100\n",
    "for i in range(EPOCHS):\n",
    "  train()"
   ]
  },
  {
   "cell_type": "code",
   "execution_count": 67,
   "metadata": {},
   "outputs": [
    {
     "data": {
      "text/plain": [
       "<matplotlib.collections.PathCollection at 0x7f4e421e5a50>"
      ]
     },
     "execution_count": 67,
     "metadata": {},
     "output_type": "execute_result"
    },
    {
     "data": {
      "image/png": "[encoded data removed]",
      "text/plain": [
       "<Figure size 432x288 with 1 Axes>"
      ]
     },
     "metadata": {
      "needs_background": "light"
     },
     "output_type": "display_data"
    }
   ],
   "source": [
    "y_h = linear(x, W).detach() #for matplotlib\n",
    "plt.scatter(x[:, 0], y)\n",
    "plt.scatter(x[:, 0], y_h) #our linear regression prediction before learning (random weights)"
   ]
  },
  {
   "cell_type": "code",
   "execution_count": null,
   "metadata": {},
   "outputs": [],
   "source": []
  }
 ],
 "metadata": {
  "kernelspec": {
   "display_name": "Python 3",
   "language": "python",
   "name": "python3"
  },
  "language_info": {
   "codemirror_mode": {
    "name": "ipython",
    "version": 3
   },
   "file_extension": ".py",
   "mimetype": "text/x-python",
   "name": "python",
   "nbconvert_exporter": "python",
   "pygments_lexer": "ipython3",
   "version": "3.7.4"
  }
 },
 "nbformat": 4,
 "nbformat_minor": 2
}
