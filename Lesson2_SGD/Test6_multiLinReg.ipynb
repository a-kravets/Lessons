{
 "cells": [
  {
   "cell_type": "code",
   "execution_count": 939,
   "metadata": {},
   "outputs": [],
   "source": [
    "import pandas as pd\n",
    "import numpy as np\n",
    "import torch\n",
    "from torch import tensor\n",
    "import matplotlib.pyplot as plt\n",
    "%matplotlib inline"
   ]
  },
  {
   "cell_type": "code",
   "execution_count": 1061,
   "metadata": {},
   "outputs": [],
   "source": [
    "#Loading the dataset\n",
    "#data = pd.read_csv(\"carprice.csv\", na_values = ['no info', '.','',' '])\n",
    "data = pd.read_csv(\"carprice.csv\")"
   ]
  },
  {
   "cell_type": "code",
   "execution_count": 1063,
   "metadata": {},
   "outputs": [
    {
     "data": {
      "text/plain": [
       "<matplotlib.axes._subplots.AxesSubplot at 0x7f65fede0510>"
      ]
     },
     "execution_count": 1063,
     "metadata": {},
     "output_type": "execute_result"
    },
    {
     "data": {
      "image/png": "[encoded data removed]",
      "text/plain": [
       "<Figure size 432x288 with 1 Axes>"
      ]
     },
     "metadata": {
      "needs_background": "light"
     },
     "output_type": "display_data"
    },
    {
     "data": {
      "image/png": "[encoded data removed]",
      "text/plain": [
       "<Figure size 432x288 with 1 Axes>"
      ]
     },
     "metadata": {
      "needs_background": "light"
     },
     "output_type": "display_data"
    }
   ],
   "source": [
    "#Plotting the Dataset\n",
    "data.plot(kind = 'scatter', x = 'horsepower', y = 'price')\n",
    "data.plot(kind = 'scatter', x = 'enginesize', y = 'price')"
   ]
  },
  {
   "cell_type": "code",
   "execution_count": 1064,
   "metadata": {},
   "outputs": [
    {
     "data": {
      "text/html": [
       "<div>\n",
       "<style scoped>\n",
       "    .dataframe tbody tr th:only-of-type {\n",
       "        vertical-align: middle;\n",
       "    }\n",
       "\n",
       "    .dataframe tbody tr th {\n",
       "        vertical-align: top;\n",
       "    }\n",
       "\n",
       "    .dataframe thead th {\n",
       "        text-align: right;\n",
       "    }\n",
       "</style>\n",
       "<table border=\"1\" class=\"dataframe\">\n",
       "  <thead>\n",
       "    <tr style=\"text-align: right;\">\n",
       "      <th></th>\n",
       "      <th>car_ID</th>\n",
       "      <th>symboling</th>\n",
       "      <th>CarName</th>\n",
       "      <th>fueltype</th>\n",
       "      <th>aspiration</th>\n",
       "      <th>doornumber</th>\n",
       "      <th>carbody</th>\n",
       "      <th>drivewheel</th>\n",
       "      <th>enginelocation</th>\n",
       "      <th>wheelbase</th>\n",
       "      <th>...</th>\n",
       "      <th>enginesize</th>\n",
       "      <th>fuelsystem</th>\n",
       "      <th>boreratio</th>\n",
       "      <th>stroke</th>\n",
       "      <th>compressionratio</th>\n",
       "      <th>horsepower</th>\n",
       "      <th>peakrpm</th>\n",
       "      <th>citympg</th>\n",
       "      <th>highwaympg</th>\n",
       "      <th>price</th>\n",
       "    </tr>\n",
       "  </thead>\n",
       "  <tbody>\n",
       "    <tr>\n",
       "      <td>0</td>\n",
       "      <td>1</td>\n",
       "      <td>3</td>\n",
       "      <td>alfa-romero giulia</td>\n",
       "      <td>gas</td>\n",
       "      <td>std</td>\n",
       "      <td>two</td>\n",
       "      <td>convertible</td>\n",
       "      <td>rwd</td>\n",
       "      <td>front</td>\n",
       "      <td>88.6</td>\n",
       "      <td>...</td>\n",
       "      <td>130</td>\n",
       "      <td>mpfi</td>\n",
       "      <td>3.47</td>\n",
       "      <td>2.68</td>\n",
       "      <td>9.0</td>\n",
       "      <td>111</td>\n",
       "      <td>5000</td>\n",
       "      <td>21</td>\n",
       "      <td>27</td>\n",
       "      <td>13495.0</td>\n",
       "    </tr>\n",
       "    <tr>\n",
       "      <td>1</td>\n",
       "      <td>2</td>\n",
       "      <td>3</td>\n",
       "      <td>alfa-romero stelvio</td>\n",
       "      <td>gas</td>\n",
       "      <td>std</td>\n",
       "      <td>two</td>\n",
       "      <td>convertible</td>\n",
       "      <td>rwd</td>\n",
       "      <td>front</td>\n",
       "      <td>88.6</td>\n",
       "      <td>...</td>\n",
       "      <td>130</td>\n",
       "      <td>mpfi</td>\n",
       "      <td>3.47</td>\n",
       "      <td>2.68</td>\n",
       "      <td>9.0</td>\n",
       "      <td>111</td>\n",
       "      <td>5000</td>\n",
       "      <td>21</td>\n",
       "      <td>27</td>\n",
       "      <td>16500.0</td>\n",
       "    </tr>\n",
       "    <tr>\n",
       "      <td>2</td>\n",
       "      <td>3</td>\n",
       "      <td>1</td>\n",
       "      <td>alfa-romero Quadrifoglio</td>\n",
       "      <td>gas</td>\n",
       "      <td>std</td>\n",
       "      <td>two</td>\n",
       "      <td>hatchback</td>\n",
       "      <td>rwd</td>\n",
       "      <td>front</td>\n",
       "      <td>94.5</td>\n",
       "      <td>...</td>\n",
       "      <td>152</td>\n",
       "      <td>mpfi</td>\n",
       "      <td>2.68</td>\n",
       "      <td>3.47</td>\n",
       "      <td>9.0</td>\n",
       "      <td>154</td>\n",
       "      <td>5000</td>\n",
       "      <td>19</td>\n",
       "      <td>26</td>\n",
       "      <td>16500.0</td>\n",
       "    </tr>\n",
       "    <tr>\n",
       "      <td>3</td>\n",
       "      <td>4</td>\n",
       "      <td>2</td>\n",
       "      <td>audi 100 ls</td>\n",
       "      <td>gas</td>\n",
       "      <td>std</td>\n",
       "      <td>four</td>\n",
       "      <td>sedan</td>\n",
       "      <td>fwd</td>\n",
       "      <td>front</td>\n",
       "      <td>99.8</td>\n",
       "      <td>...</td>\n",
       "      <td>109</td>\n",
       "      <td>mpfi</td>\n",
       "      <td>3.19</td>\n",
       "      <td>3.40</td>\n",
       "      <td>10.0</td>\n",
       "      <td>102</td>\n",
       "      <td>5500</td>\n",
       "      <td>24</td>\n",
       "      <td>30</td>\n",
       "      <td>13950.0</td>\n",
       "    </tr>\n",
       "    <tr>\n",
       "      <td>4</td>\n",
       "      <td>5</td>\n",
       "      <td>2</td>\n",
       "      <td>audi 100ls</td>\n",
       "      <td>gas</td>\n",
       "      <td>std</td>\n",
       "      <td>four</td>\n",
       "      <td>sedan</td>\n",
       "      <td>4wd</td>\n",
       "      <td>front</td>\n",
       "      <td>99.4</td>\n",
       "      <td>...</td>\n",
       "      <td>136</td>\n",
       "      <td>mpfi</td>\n",
       "      <td>3.19</td>\n",
       "      <td>3.40</td>\n",
       "      <td>8.0</td>\n",
       "      <td>115</td>\n",
       "      <td>5500</td>\n",
       "      <td>18</td>\n",
       "      <td>22</td>\n",
       "      <td>17450.0</td>\n",
       "    </tr>\n",
       "    <tr>\n",
       "      <td>...</td>\n",
       "      <td>...</td>\n",
       "      <td>...</td>\n",
       "      <td>...</td>\n",
       "      <td>...</td>\n",
       "      <td>...</td>\n",
       "      <td>...</td>\n",
       "      <td>...</td>\n",
       "      <td>...</td>\n",
       "      <td>...</td>\n",
       "      <td>...</td>\n",
       "      <td>...</td>\n",
       "      <td>...</td>\n",
       "      <td>...</td>\n",
       "      <td>...</td>\n",
       "      <td>...</td>\n",
       "      <td>...</td>\n",
       "      <td>...</td>\n",
       "      <td>...</td>\n",
       "      <td>...</td>\n",
       "      <td>...</td>\n",
       "      <td>...</td>\n",
       "    </tr>\n",
       "    <tr>\n",
       "      <td>200</td>\n",
       "      <td>201</td>\n",
       "      <td>-1</td>\n",
       "      <td>volvo 145e (sw)</td>\n",
       "      <td>gas</td>\n",
       "      <td>std</td>\n",
       "      <td>four</td>\n",
       "      <td>sedan</td>\n",
       "      <td>rwd</td>\n",
       "      <td>front</td>\n",
       "      <td>109.1</td>\n",
       "      <td>...</td>\n",
       "      <td>141</td>\n",
       "      <td>mpfi</td>\n",
       "      <td>3.78</td>\n",
       "      <td>3.15</td>\n",
       "      <td>9.5</td>\n",
       "      <td>114</td>\n",
       "      <td>5400</td>\n",
       "      <td>23</td>\n",
       "      <td>28</td>\n",
       "      <td>16845.0</td>\n",
       "    </tr>\n",
       "    <tr>\n",
       "      <td>201</td>\n",
       "      <td>202</td>\n",
       "      <td>-1</td>\n",
       "      <td>volvo 144ea</td>\n",
       "      <td>gas</td>\n",
       "      <td>turbo</td>\n",
       "      <td>four</td>\n",
       "      <td>sedan</td>\n",
       "      <td>rwd</td>\n",
       "      <td>front</td>\n",
       "      <td>109.1</td>\n",
       "      <td>...</td>\n",
       "      <td>141</td>\n",
       "      <td>mpfi</td>\n",
       "      <td>3.78</td>\n",
       "      <td>3.15</td>\n",
       "      <td>8.7</td>\n",
       "      <td>160</td>\n",
       "      <td>5300</td>\n",
       "      <td>19</td>\n",
       "      <td>25</td>\n",
       "      <td>19045.0</td>\n",
       "    </tr>\n",
       "    <tr>\n",
       "      <td>202</td>\n",
       "      <td>203</td>\n",
       "      <td>-1</td>\n",
       "      <td>volvo 244dl</td>\n",
       "      <td>gas</td>\n",
       "      <td>std</td>\n",
       "      <td>four</td>\n",
       "      <td>sedan</td>\n",
       "      <td>rwd</td>\n",
       "      <td>front</td>\n",
       "      <td>109.1</td>\n",
       "      <td>...</td>\n",
       "      <td>173</td>\n",
       "      <td>mpfi</td>\n",
       "      <td>3.58</td>\n",
       "      <td>2.87</td>\n",
       "      <td>8.8</td>\n",
       "      <td>134</td>\n",
       "      <td>5500</td>\n",
       "      <td>18</td>\n",
       "      <td>23</td>\n",
       "      <td>21485.0</td>\n",
       "    </tr>\n",
       "    <tr>\n",
       "      <td>203</td>\n",
       "      <td>204</td>\n",
       "      <td>-1</td>\n",
       "      <td>volvo 246</td>\n",
       "      <td>diesel</td>\n",
       "      <td>turbo</td>\n",
       "      <td>four</td>\n",
       "      <td>sedan</td>\n",
       "      <td>rwd</td>\n",
       "      <td>front</td>\n",
       "      <td>109.1</td>\n",
       "      <td>...</td>\n",
       "      <td>145</td>\n",
       "      <td>idi</td>\n",
       "      <td>3.01</td>\n",
       "      <td>3.40</td>\n",
       "      <td>23.0</td>\n",
       "      <td>106</td>\n",
       "      <td>4800</td>\n",
       "      <td>26</td>\n",
       "      <td>27</td>\n",
       "      <td>22470.0</td>\n",
       "    </tr>\n",
       "    <tr>\n",
       "      <td>204</td>\n",
       "      <td>205</td>\n",
       "      <td>-1</td>\n",
       "      <td>volvo 264gl</td>\n",
       "      <td>gas</td>\n",
       "      <td>turbo</td>\n",
       "      <td>four</td>\n",
       "      <td>sedan</td>\n",
       "      <td>rwd</td>\n",
       "      <td>front</td>\n",
       "      <td>109.1</td>\n",
       "      <td>...</td>\n",
       "      <td>141</td>\n",
       "      <td>mpfi</td>\n",
       "      <td>3.78</td>\n",
       "      <td>3.15</td>\n",
       "      <td>9.5</td>\n",
       "      <td>114</td>\n",
       "      <td>5400</td>\n",
       "      <td>19</td>\n",
       "      <td>25</td>\n",
       "      <td>22625.0</td>\n",
       "    </tr>\n",
       "  </tbody>\n",
       "</table>\n",
       "<p>205 rows × 26 columns</p>\n",
       "</div>"
      ],
      "text/plain": [
       "     car_ID  symboling                   CarName fueltype aspiration  \\\n",
       "0         1          3        alfa-romero giulia      gas        std   \n",
       "1         2          3       alfa-romero stelvio      gas        std   \n",
       "2         3          1  alfa-romero Quadrifoglio      gas        std   \n",
       "3         4          2               audi 100 ls      gas        std   \n",
       "4         5          2                audi 100ls      gas        std   \n",
       "..      ...        ...                       ...      ...        ...   \n",
       "200     201         -1           volvo 145e (sw)      gas        std   \n",
       "201     202         -1               volvo 144ea      gas      turbo   \n",
       "202     203         -1               volvo 244dl      gas        std   \n",
       "203     204         -1                 volvo 246   diesel      turbo   \n",
       "204     205         -1               volvo 264gl      gas      turbo   \n",
       "\n",
       "    doornumber      carbody drivewheel enginelocation  wheelbase  ...  \\\n",
       "0          two  convertible        rwd          front       88.6  ...   \n",
       "1          two  convertible        rwd          front       88.6  ...   \n",
       "2          two    hatchback        rwd          front       94.5  ...   \n",
       "3         four        sedan        fwd          front       99.8  ...   \n",
       "4         four        sedan        4wd          front       99.4  ...   \n",
       "..         ...          ...        ...            ...        ...  ...   \n",
       "200       four        sedan        rwd          front      109.1  ...   \n",
       "201       four        sedan        rwd          front      109.1  ...   \n",
       "202       four        sedan        rwd          front      109.1  ...   \n",
       "203       four        sedan        rwd          front      109.1  ...   \n",
       "204       four        sedan        rwd          front      109.1  ...   \n",
       "\n",
       "     enginesize  fuelsystem  boreratio  stroke compressionratio horsepower  \\\n",
       "0           130        mpfi       3.47    2.68              9.0        111   \n",
       "1           130        mpfi       3.47    2.68              9.0        111   \n",
       "2           152        mpfi       2.68    3.47              9.0        154   \n",
       "3           109        mpfi       3.19    3.40             10.0        102   \n",
       "4           136        mpfi       3.19    3.40              8.0        115   \n",
       "..          ...         ...        ...     ...              ...        ...   \n",
       "200         141        mpfi       3.78    3.15              9.5        114   \n",
       "201         141        mpfi       3.78    3.15              8.7        160   \n",
       "202         173        mpfi       3.58    2.87              8.8        134   \n",
       "203         145         idi       3.01    3.40             23.0        106   \n",
       "204         141        mpfi       3.78    3.15              9.5        114   \n",
       "\n",
       "     peakrpm citympg  highwaympg    price  \n",
       "0       5000      21          27  13495.0  \n",
       "1       5000      21          27  16500.0  \n",
       "2       5000      19          26  16500.0  \n",
       "3       5500      24          30  13950.0  \n",
       "4       5500      18          22  17450.0  \n",
       "..       ...     ...         ...      ...  \n",
       "200     5400      23          28  16845.0  \n",
       "201     5300      19          25  19045.0  \n",
       "202     5500      18          23  21485.0  \n",
       "203     4800      26          27  22470.0  \n",
       "204     5400      19          25  22625.0  \n",
       "\n",
       "[205 rows x 26 columns]"
      ]
     },
     "execution_count": 1064,
     "metadata": {},
     "output_type": "execute_result"
    }
   ],
   "source": [
    "data"
   ]
  },
  {
   "cell_type": "code",
   "execution_count": 1065,
   "metadata": {},
   "outputs": [],
   "source": [
    "data = data[['enginesize','horsepower','price']]"
   ]
  },
  {
   "cell_type": "code",
   "execution_count": 1066,
   "metadata": {},
   "outputs": [
    {
     "data": {
      "text/html": [
       "<div>\n",
       "<style scoped>\n",
       "    .dataframe tbody tr th:only-of-type {\n",
       "        vertical-align: middle;\n",
       "    }\n",
       "\n",
       "    .dataframe tbody tr th {\n",
       "        vertical-align: top;\n",
       "    }\n",
       "\n",
       "    .dataframe thead th {\n",
       "        text-align: right;\n",
       "    }\n",
       "</style>\n",
       "<table border=\"1\" class=\"dataframe\">\n",
       "  <thead>\n",
       "    <tr style=\"text-align: right;\">\n",
       "      <th></th>\n",
       "      <th>enginesize</th>\n",
       "      <th>horsepower</th>\n",
       "      <th>price</th>\n",
       "    </tr>\n",
       "  </thead>\n",
       "  <tbody>\n",
       "    <tr>\n",
       "      <td>0</td>\n",
       "      <td>130</td>\n",
       "      <td>111</td>\n",
       "      <td>13495.0</td>\n",
       "    </tr>\n",
       "    <tr>\n",
       "      <td>1</td>\n",
       "      <td>130</td>\n",
       "      <td>111</td>\n",
       "      <td>16500.0</td>\n",
       "    </tr>\n",
       "    <tr>\n",
       "      <td>2</td>\n",
       "      <td>152</td>\n",
       "      <td>154</td>\n",
       "      <td>16500.0</td>\n",
       "    </tr>\n",
       "    <tr>\n",
       "      <td>3</td>\n",
       "      <td>109</td>\n",
       "      <td>102</td>\n",
       "      <td>13950.0</td>\n",
       "    </tr>\n",
       "    <tr>\n",
       "      <td>4</td>\n",
       "      <td>136</td>\n",
       "      <td>115</td>\n",
       "      <td>17450.0</td>\n",
       "    </tr>\n",
       "  </tbody>\n",
       "</table>\n",
       "</div>"
      ],
      "text/plain": [
       "   enginesize  horsepower    price\n",
       "0         130         111  13495.0\n",
       "1         130         111  16500.0\n",
       "2         152         154  16500.0\n",
       "3         109         102  13950.0\n",
       "4         136         115  17450.0"
      ]
     },
     "execution_count": 1066,
     "metadata": {},
     "output_type": "execute_result"
    }
   ],
   "source": [
    "data.head()"
   ]
  },
  {
   "cell_type": "code",
   "execution_count": 1067,
   "metadata": {},
   "outputs": [],
   "source": [
    "#normalization\n",
    "\n",
    "data = data.apply(\n",
    "    lambda x: (x - x.mean()) / x.std()\n",
    ")\n"
   ]
  },
  {
   "cell_type": "code",
   "execution_count": 1068,
   "metadata": {},
   "outputs": [],
   "source": [
    "#data = data[:1] #to get rid of first column that is added instead of headings (it was 1 and 0)"
   ]
  },
  {
   "cell_type": "code",
   "execution_count": 1069,
   "metadata": {},
   "outputs": [
    {
     "data": {
      "text/html": [
       "<div>\n",
       "<style scoped>\n",
       "    .dataframe tbody tr th:only-of-type {\n",
       "        vertical-align: middle;\n",
       "    }\n",
       "\n",
       "    .dataframe tbody tr th {\n",
       "        vertical-align: top;\n",
       "    }\n",
       "\n",
       "    .dataframe thead th {\n",
       "        text-align: right;\n",
       "    }\n",
       "</style>\n",
       "<table border=\"1\" class=\"dataframe\">\n",
       "  <thead>\n",
       "    <tr style=\"text-align: right;\">\n",
       "      <th></th>\n",
       "      <th>enginesize</th>\n",
       "      <th>horsepower</th>\n",
       "      <th>price</th>\n",
       "    </tr>\n",
       "  </thead>\n",
       "  <tbody>\n",
       "    <tr>\n",
       "      <td>0</td>\n",
       "      <td>0.074267</td>\n",
       "      <td>0.174057</td>\n",
       "      <td>0.027324</td>\n",
       "    </tr>\n",
       "    <tr>\n",
       "      <td>1</td>\n",
       "      <td>0.074267</td>\n",
       "      <td>0.174057</td>\n",
       "      <td>0.403473</td>\n",
       "    </tr>\n",
       "    <tr>\n",
       "      <td>2</td>\n",
       "      <td>0.602571</td>\n",
       "      <td>1.261448</td>\n",
       "      <td>0.403473</td>\n",
       "    </tr>\n",
       "    <tr>\n",
       "      <td>3</td>\n",
       "      <td>-0.430023</td>\n",
       "      <td>-0.053537</td>\n",
       "      <td>0.084279</td>\n",
       "    </tr>\n",
       "    <tr>\n",
       "      <td>4</td>\n",
       "      <td>0.218350</td>\n",
       "      <td>0.275209</td>\n",
       "      <td>0.522389</td>\n",
       "    </tr>\n",
       "    <tr>\n",
       "      <td>...</td>\n",
       "      <td>...</td>\n",
       "      <td>...</td>\n",
       "      <td>...</td>\n",
       "    </tr>\n",
       "    <tr>\n",
       "      <td>200</td>\n",
       "      <td>0.338419</td>\n",
       "      <td>0.249921</td>\n",
       "      <td>0.446659</td>\n",
       "    </tr>\n",
       "    <tr>\n",
       "      <td>201</td>\n",
       "      <td>0.338419</td>\n",
       "      <td>1.413178</td>\n",
       "      <td>0.722042</td>\n",
       "    </tr>\n",
       "    <tr>\n",
       "      <td>202</td>\n",
       "      <td>1.106861</td>\n",
       "      <td>0.755685</td>\n",
       "      <td>1.027468</td>\n",
       "    </tr>\n",
       "    <tr>\n",
       "      <td>203</td>\n",
       "      <td>0.434474</td>\n",
       "      <td>0.047616</td>\n",
       "      <td>1.150765</td>\n",
       "    </tr>\n",
       "    <tr>\n",
       "      <td>204</td>\n",
       "      <td>0.338419</td>\n",
       "      <td>0.249921</td>\n",
       "      <td>1.170167</td>\n",
       "    </tr>\n",
       "  </tbody>\n",
       "</table>\n",
       "<p>205 rows × 3 columns</p>\n",
       "</div>"
      ],
      "text/plain": [
       "     enginesize  horsepower     price\n",
       "0      0.074267    0.174057  0.027324\n",
       "1      0.074267    0.174057  0.403473\n",
       "2      0.602571    1.261448  0.403473\n",
       "3     -0.430023   -0.053537  0.084279\n",
       "4      0.218350    0.275209  0.522389\n",
       "..          ...         ...       ...\n",
       "200    0.338419    0.249921  0.446659\n",
       "201    0.338419    1.413178  0.722042\n",
       "202    1.106861    0.755685  1.027468\n",
       "203    0.434474    0.047616  1.150765\n",
       "204    0.338419    0.249921  1.170167\n",
       "\n",
       "[205 rows x 3 columns]"
      ]
     },
     "execution_count": 1069,
     "metadata": {},
     "output_type": "execute_result"
    }
   ],
   "source": [
    "data"
   ]
  },
  {
   "cell_type": "code",
   "execution_count": 1070,
   "metadata": {},
   "outputs": [
    {
     "data": {
      "text/html": [
       "<div>\n",
       "<style scoped>\n",
       "    .dataframe tbody tr th:only-of-type {\n",
       "        vertical-align: middle;\n",
       "    }\n",
       "\n",
       "    .dataframe tbody tr th {\n",
       "        vertical-align: top;\n",
       "    }\n",
       "\n",
       "    .dataframe thead th {\n",
       "        text-align: right;\n",
       "    }\n",
       "</style>\n",
       "<table border=\"1\" class=\"dataframe\">\n",
       "  <thead>\n",
       "    <tr style=\"text-align: right;\">\n",
       "      <th></th>\n",
       "      <th>price</th>\n",
       "    </tr>\n",
       "  </thead>\n",
       "  <tbody>\n",
       "    <tr>\n",
       "      <td>0</td>\n",
       "      <td>0.027324</td>\n",
       "    </tr>\n",
       "    <tr>\n",
       "      <td>1</td>\n",
       "      <td>0.403473</td>\n",
       "    </tr>\n",
       "    <tr>\n",
       "      <td>2</td>\n",
       "      <td>0.403473</td>\n",
       "    </tr>\n",
       "    <tr>\n",
       "      <td>3</td>\n",
       "      <td>0.084279</td>\n",
       "    </tr>\n",
       "    <tr>\n",
       "      <td>4</td>\n",
       "      <td>0.522389</td>\n",
       "    </tr>\n",
       "    <tr>\n",
       "      <td>...</td>\n",
       "      <td>...</td>\n",
       "    </tr>\n",
       "    <tr>\n",
       "      <td>200</td>\n",
       "      <td>0.446659</td>\n",
       "    </tr>\n",
       "    <tr>\n",
       "      <td>201</td>\n",
       "      <td>0.722042</td>\n",
       "    </tr>\n",
       "    <tr>\n",
       "      <td>202</td>\n",
       "      <td>1.027468</td>\n",
       "    </tr>\n",
       "    <tr>\n",
       "      <td>203</td>\n",
       "      <td>1.150765</td>\n",
       "    </tr>\n",
       "    <tr>\n",
       "      <td>204</td>\n",
       "      <td>1.170167</td>\n",
       "    </tr>\n",
       "  </tbody>\n",
       "</table>\n",
       "<p>205 rows × 1 columns</p>\n",
       "</div>"
      ],
      "text/plain": [
       "        price\n",
       "0    0.027324\n",
       "1    0.403473\n",
       "2    0.403473\n",
       "3    0.084279\n",
       "4    0.522389\n",
       "..        ...\n",
       "200  0.446659\n",
       "201  0.722042\n",
       "202  1.027468\n",
       "203  1.150765\n",
       "204  1.170167\n",
       "\n",
       "[205 rows x 1 columns]"
      ]
     },
     "execution_count": 1070,
     "metadata": {},
     "output_type": "execute_result"
    }
   ],
   "source": [
    "data[['price']]"
   ]
  },
  {
   "cell_type": "code",
   "execution_count": 1071,
   "metadata": {},
   "outputs": [
    {
     "data": {
      "text/html": [
       "<div>\n",
       "<style scoped>\n",
       "    .dataframe tbody tr th:only-of-type {\n",
       "        vertical-align: middle;\n",
       "    }\n",
       "\n",
       "    .dataframe tbody tr th {\n",
       "        vertical-align: top;\n",
       "    }\n",
       "\n",
       "    .dataframe thead th {\n",
       "        text-align: right;\n",
       "    }\n",
       "</style>\n",
       "<table border=\"1\" class=\"dataframe\">\n",
       "  <thead>\n",
       "    <tr style=\"text-align: right;\">\n",
       "      <th></th>\n",
       "      <th>enginesize</th>\n",
       "      <th>horsepower</th>\n",
       "      <th>price</th>\n",
       "    </tr>\n",
       "  </thead>\n",
       "  <tbody>\n",
       "    <tr>\n",
       "      <td>0</td>\n",
       "      <td>0.074267</td>\n",
       "      <td>0.174057</td>\n",
       "      <td>0.027324</td>\n",
       "    </tr>\n",
       "    <tr>\n",
       "      <td>1</td>\n",
       "      <td>0.074267</td>\n",
       "      <td>0.174057</td>\n",
       "      <td>0.403473</td>\n",
       "    </tr>\n",
       "    <tr>\n",
       "      <td>2</td>\n",
       "      <td>0.602571</td>\n",
       "      <td>1.261448</td>\n",
       "      <td>0.403473</td>\n",
       "    </tr>\n",
       "    <tr>\n",
       "      <td>3</td>\n",
       "      <td>-0.430023</td>\n",
       "      <td>-0.053537</td>\n",
       "      <td>0.084279</td>\n",
       "    </tr>\n",
       "    <tr>\n",
       "      <td>4</td>\n",
       "      <td>0.218350</td>\n",
       "      <td>0.275209</td>\n",
       "      <td>0.522389</td>\n",
       "    </tr>\n",
       "    <tr>\n",
       "      <td>...</td>\n",
       "      <td>...</td>\n",
       "      <td>...</td>\n",
       "      <td>...</td>\n",
       "    </tr>\n",
       "    <tr>\n",
       "      <td>200</td>\n",
       "      <td>0.338419</td>\n",
       "      <td>0.249921</td>\n",
       "      <td>0.446659</td>\n",
       "    </tr>\n",
       "    <tr>\n",
       "      <td>201</td>\n",
       "      <td>0.338419</td>\n",
       "      <td>1.413178</td>\n",
       "      <td>0.722042</td>\n",
       "    </tr>\n",
       "    <tr>\n",
       "      <td>202</td>\n",
       "      <td>1.106861</td>\n",
       "      <td>0.755685</td>\n",
       "      <td>1.027468</td>\n",
       "    </tr>\n",
       "    <tr>\n",
       "      <td>203</td>\n",
       "      <td>0.434474</td>\n",
       "      <td>0.047616</td>\n",
       "      <td>1.150765</td>\n",
       "    </tr>\n",
       "    <tr>\n",
       "      <td>204</td>\n",
       "      <td>0.338419</td>\n",
       "      <td>0.249921</td>\n",
       "      <td>1.170167</td>\n",
       "    </tr>\n",
       "  </tbody>\n",
       "</table>\n",
       "<p>205 rows × 3 columns</p>\n",
       "</div>"
      ],
      "text/plain": [
       "     enginesize  horsepower     price\n",
       "0      0.074267    0.174057  0.027324\n",
       "1      0.074267    0.174057  0.403473\n",
       "2      0.602571    1.261448  0.403473\n",
       "3     -0.430023   -0.053537  0.084279\n",
       "4      0.218350    0.275209  0.522389\n",
       "..          ...         ...       ...\n",
       "200    0.338419    0.249921  0.446659\n",
       "201    0.338419    1.413178  0.722042\n",
       "202    1.106861    0.755685  1.027468\n",
       "203    0.434474    0.047616  1.150765\n",
       "204    0.338419    0.249921  1.170167\n",
       "\n",
       "[205 rows x 3 columns]"
      ]
     },
     "execution_count": 1071,
     "metadata": {},
     "output_type": "execute_result"
    }
   ],
   "source": [
    "data"
   ]
  },
  {
   "cell_type": "code",
   "execution_count": 1072,
   "metadata": {},
   "outputs": [
    {
     "data": {
      "text/plain": [
       "(205, 3)"
      ]
     },
     "execution_count": 1072,
     "metadata": {},
     "output_type": "execute_result"
    }
   ],
   "source": [
    "data.shape"
   ]
  },
  {
   "cell_type": "code",
   "execution_count": 1073,
   "metadata": {},
   "outputs": [],
   "source": [
    "x_data = data[['enginesize','horsepower']]\n",
    "x = torch.tensor(x_data.values).float()"
   ]
  },
  {
   "cell_type": "code",
   "execution_count": 1074,
   "metadata": {},
   "outputs": [],
   "source": [
    "#x = x[1:] #to get rid of first column that is added instead of headings (it was 1 and 0)"
   ]
  },
  {
   "cell_type": "code",
   "execution_count": 1075,
   "metadata": {},
   "outputs": [
    {
     "data": {
      "text/plain": [
       "torch.Size([205, 2])"
      ]
     },
     "execution_count": 1075,
     "metadata": {},
     "output_type": "execute_result"
    }
   ],
   "source": [
    "x.shape"
   ]
  },
  {
   "cell_type": "code",
   "execution_count": 1076,
   "metadata": {},
   "outputs": [
    {
     "data": {
      "text/plain": [
       "tensor([0.0743, 0.1741])"
      ]
     },
     "execution_count": 1076,
     "metadata": {},
     "output_type": "execute_result"
    }
   ],
   "source": [
    "x[1]"
   ]
  },
  {
   "cell_type": "code",
   "execution_count": 1077,
   "metadata": {},
   "outputs": [
    {
     "data": {
      "text/plain": [
       "tensor([ 0.0743,  0.6026, -0.4300,  0.2184,  0.2184,  0.2184,  0.2184,  0.0983,\n",
       "         0.0983, -0.4540, -0.4540,  0.8907,  0.8907,  0.8907,  1.9714,  1.9714,\n",
       "         1.9714, -1.5827, -0.8863, -0.8863, -0.8863, -0.8863, -0.6942, -0.8863,\n",
       "        -0.8863, -0.8863, -0.6942, -0.1178,  0.6986, -0.8383, -0.8383, -1.1504,\n",
       "        -0.8383, -0.8383, -0.8383, -0.8383, -0.4060, -0.4060, -0.4060, -0.4060,\n",
       "        -0.4060, -0.4060, -0.3820, -0.8863, -0.8863, -0.1899,  3.1480,  3.1480,\n",
       "         4.7810, -0.8623, -0.8623, -0.8623, -0.8623, -0.8623, -1.3666, -1.3666,\n",
       "        -1.3666, -1.1264, -0.1178, -0.1178, -0.1178, -0.1178, -0.1178, -0.1178,\n",
       "         0.3144,  0.1703,  1.3470,  1.3470,  1.3470,  1.3470,  2.5717,  2.5717,\n",
       "         4.3487,  4.2527,  0.3144, -0.8383, -0.8383, -0.8383, -0.6942, -0.4060,\n",
       "        -0.1178,  0.6986,  0.6986,  0.6986, -0.1178, -0.1178, -0.4060, -0.4060,\n",
       "        -0.7182, -0.5741, -0.7182, -0.7182, -0.7182, -0.7182, -0.7182, -0.7182,\n",
       "        -0.7182, -0.7182, -0.1659, -0.1659,  1.2990,  1.2990,  1.2990,  1.2990,\n",
       "         1.2990,  1.2990, -0.1659,  0.6026, -0.1659,  0.6026, -0.1659,  0.6026,\n",
       "        -0.1659,  0.6026, -0.1659,  0.6026,  0.1703, -0.8863, -0.6942, -0.8863,\n",
       "        -0.8863, -0.6942, -0.1178,  0.6986,  0.5786,  1.6112,  1.6112,  1.6112,\n",
       "         1.8273,  0.1223,  0.1223, -0.1419, -0.1419, -0.1419, -0.1419, -0.1419,\n",
       "        -0.1419, -0.7182, -0.4540, -0.4540, -0.4540, -0.4540, -0.4540, -0.4540,\n",
       "        -0.4540, -0.4540, -0.4540, -0.4540, -0.4540, -0.8383, -0.8383, -0.8383,\n",
       "        -0.8383, -0.8383, -0.8383, -0.6942, -0.6942, -0.4060, -0.4060, -0.6942,\n",
       "        -0.6942, -0.6942, -0.6942, -0.6942, -0.6942, -0.6942,  0.4585,  0.4585,\n",
       "         0.4585,  0.4585,  0.4585,  0.4585, -0.1178, -0.4060, -0.1178, -0.1178,\n",
       "        -0.1178,  1.0588,  1.0588,  1.0588,  0.8187, -0.7182, -0.4300, -0.7182,\n",
       "        -0.4300, -0.4300, -0.7182, -0.4300, -0.4300, -0.4300,  0.2184, -0.7182,\n",
       "        -0.4300,  0.3384,  0.3384,  0.3384,  0.3384,  0.0743,  0.0743,  0.3384,\n",
       "         0.3384,  1.1069,  0.4345,  0.3384])"
      ]
     },
     "execution_count": 1077,
     "metadata": {},
     "output_type": "execute_result"
    }
   ],
   "source": [
    "x[1:,0]"
   ]
  },
  {
   "cell_type": "code",
   "execution_count": 1078,
   "metadata": {},
   "outputs": [
    {
     "data": {
      "text/plain": [
       "torch.Size([205, 2])"
      ]
     },
     "execution_count": 1078,
     "metadata": {},
     "output_type": "execute_result"
    }
   ],
   "source": [
    "x.shape"
   ]
  },
  {
   "cell_type": "code",
   "execution_count": 1079,
   "metadata": {},
   "outputs": [],
   "source": [
    "#x[:,1].uniform_(1)"
   ]
  },
  {
   "cell_type": "code",
   "execution_count": 1080,
   "metadata": {},
   "outputs": [
    {
     "data": {
      "text/plain": [
       "tensor([[ 0.0743,  0.1741],\n",
       "        [ 0.0743,  0.1741],\n",
       "        [ 0.6026,  1.2614],\n",
       "        [-0.4300, -0.0535],\n",
       "        [ 0.2184,  0.2752],\n",
       "        [ 0.2184,  0.1488],\n",
       "        [ 0.2184,  0.1488],\n",
       "        [ 0.2184,  0.1488],\n",
       "        [ 0.0983,  0.9074],\n",
       "        [ 0.0983,  1.4132],\n",
       "        [-0.4540, -0.0788],\n",
       "        [-0.4540, -0.0788],\n",
       "        [ 0.8907,  0.4269],\n",
       "        [ 0.8907,  0.4269],\n",
       "        [ 0.8907,  0.4269],\n",
       "        [ 1.9714,  1.9695],\n",
       "        [ 1.9714,  1.9695],\n",
       "        [ 1.9714,  1.9695],\n",
       "        [-1.5827, -1.4191],\n",
       "        [-0.8863, -0.8628],\n",
       "        [-0.8863, -0.8628],\n",
       "        [-0.8863, -0.9133],\n",
       "        [-0.8863, -0.9133],\n",
       "        [-0.6942, -0.0535],\n",
       "        [-0.8863, -0.9133],\n",
       "        [-0.8863, -0.9133],\n",
       "        [-0.8863, -0.9133],\n",
       "        [-0.6942, -0.0535],\n",
       "        [-0.1178, -0.4076],\n",
       "        [ 0.6986,  1.0339],\n",
       "        [-0.8383, -1.1662],\n",
       "        [-0.8383, -0.7110],\n",
       "        [-1.1504, -1.1156],\n",
       "        [-0.8383, -0.7110],\n",
       "        [-0.8383, -0.7110],\n",
       "        [-0.8383, -0.7110],\n",
       "        [-0.8383, -0.7110],\n",
       "        [-0.4060, -0.4581],\n",
       "        [-0.4060, -0.4581],\n",
       "        [-0.4060, -0.4581],\n",
       "        [-0.4060, -0.4581],\n",
       "        [-0.4060, -0.0788],\n",
       "        [-0.4060, -0.1041],\n",
       "        [-0.3820, -0.6605],\n",
       "        [-0.8863, -0.8628],\n",
       "        [-0.8863, -0.8628],\n",
       "        [-0.1899, -0.3570],\n",
       "        [ 3.1480,  1.8178],\n",
       "        [ 3.1480,  1.8178],\n",
       "        [ 4.7810,  3.9926],\n",
       "        [-0.8623, -0.9133],\n",
       "        [-0.8623, -0.9133],\n",
       "        [-0.8623, -0.9133],\n",
       "        [-0.8623, -0.9133],\n",
       "        [-0.8623, -0.9133],\n",
       "        [-1.3666, -0.0788],\n",
       "        [-1.3666, -0.0788],\n",
       "        [-1.3666, -0.0788],\n",
       "        [-1.1264,  0.7810],\n",
       "        [-0.1178, -0.5087],\n",
       "        [-0.1178, -0.5087],\n",
       "        [-0.1178, -0.5087],\n",
       "        [-0.1178, -0.5087],\n",
       "        [-0.1178, -1.0145],\n",
       "        [-0.1178, -0.5087],\n",
       "        [ 0.3144,  0.4017],\n",
       "        [ 0.1703, -0.8122],\n",
       "        [ 1.3470,  0.4775],\n",
       "        [ 1.3470,  0.4775],\n",
       "        [ 1.3470,  0.4775],\n",
       "        [ 1.3470,  0.4775],\n",
       "        [ 2.5717,  1.2867],\n",
       "        [ 2.5717,  1.2867],\n",
       "        [ 4.3487,  2.0201],\n",
       "        [ 4.2527,  2.0201],\n",
       "        [ 0.3144,  1.7925],\n",
       "        [-0.8383, -0.9133],\n",
       "        [-0.8383, -0.9133],\n",
       "        [-0.8383, -0.9133],\n",
       "        [-0.6942, -0.0535],\n",
       "        [-0.4060,  0.3005],\n",
       "        [-0.1178, -0.4076],\n",
       "        [ 0.6986,  1.0339],\n",
       "        [ 0.6986,  1.0339],\n",
       "        [ 0.6986,  1.0339],\n",
       "        [-0.1178, -0.4076],\n",
       "        [-0.1178, -0.4076],\n",
       "        [-0.4060,  0.3005],\n",
       "        [-0.4060,  0.3005],\n",
       "        [-0.7182, -0.8880],\n",
       "        [-0.5741, -1.2421],\n",
       "        [-0.7182, -0.8880],\n",
       "        [-0.7182, -0.8880],\n",
       "        [-0.7182, -0.8880],\n",
       "        [-0.7182, -0.8880],\n",
       "        [-0.7182, -0.8880],\n",
       "        [-0.7182, -0.8880],\n",
       "        [-0.7182, -0.8880],\n",
       "        [-0.7182, -0.8880],\n",
       "        [-0.1659, -0.1800],\n",
       "        [-0.1659, -0.1800],\n",
       "        [ 1.2990,  1.2109],\n",
       "        [ 1.2990,  1.2109],\n",
       "        [ 1.2990,  1.2109],\n",
       "        [ 1.2990,  1.4132],\n",
       "        [ 1.2990,  2.4247],\n",
       "        [ 1.2990,  1.4132],\n",
       "        [-0.1659, -0.1800],\n",
       "        [ 0.6026, -0.2306],\n",
       "        [-0.1659, -0.1800],\n",
       "        [ 0.6026, -0.2306],\n",
       "        [-0.1659, -0.2306],\n",
       "        [ 0.6026, -0.2306],\n",
       "        [-0.1659, -0.2306],\n",
       "        [ 0.6026, -0.2306],\n",
       "        [-0.1659, -0.1800],\n",
       "        [ 0.6026, -0.2306],\n",
       "        [ 0.1703,  0.9580],\n",
       "        [-0.8863, -0.9133],\n",
       "        [-0.6942, -0.0535],\n",
       "        [-0.8863, -0.9133],\n",
       "        [-0.8863, -0.9133],\n",
       "        [-0.6942, -0.9133],\n",
       "        [-0.1178, -0.4076],\n",
       "        [ 0.6986,  1.0339],\n",
       "        [ 0.5786,  0.9833],\n",
       "        [ 1.6112,  2.6017],\n",
       "        [ 1.6112,  2.6017],\n",
       "        [ 1.6112,  2.6017],\n",
       "        [ 1.8273,  4.6501],\n",
       "        [ 0.1223, -0.3570],\n",
       "        [ 0.1223, -0.3570],\n",
       "        [-0.1419,  0.1488],\n",
       "        [-0.1419,  0.1488],\n",
       "        [-0.1419,  0.1488],\n",
       "        [-0.1419,  0.1488],\n",
       "        [-0.1419,  1.4132],\n",
       "        [-0.1419,  1.4132],\n",
       "        [-0.7182, -0.8880],\n",
       "        [-0.4540, -0.7869],\n",
       "        [-0.4540, -0.7869],\n",
       "        [-0.4540, -0.5593],\n",
       "        [-0.4540, -0.5593],\n",
       "        [-0.4540, -0.2558],\n",
       "        [-0.4540, -0.5593],\n",
       "        [-0.4540,  0.1741],\n",
       "        [-0.4540, -0.5593],\n",
       "        [-0.4540, -0.2558],\n",
       "        [-0.4540, -0.5593],\n",
       "        [-0.4540,  0.1741],\n",
       "        [-0.8383, -1.0651],\n",
       "        [-0.8383, -1.0651],\n",
       "        [-0.8383, -1.0651],\n",
       "        [-0.8383, -1.0651],\n",
       "        [-0.8383, -1.0651],\n",
       "        [-0.8383, -1.0651],\n",
       "        [-0.6942, -0.8628],\n",
       "        [-0.6942, -0.8628],\n",
       "        [-0.4060, -1.2168],\n",
       "        [-0.4060, -1.2168],\n",
       "        [-0.6942, -0.8628],\n",
       "        [-0.6942, -0.8628],\n",
       "        [-0.6942, -0.8628],\n",
       "        [-0.6942, -0.8628],\n",
       "        [-0.6942, -0.8628],\n",
       "        [-0.6942,  0.1993],\n",
       "        [-0.6942,  0.1993],\n",
       "        [ 0.4585,  0.3005],\n",
       "        [ 0.4585,  0.3005],\n",
       "        [ 0.4585,  0.3005],\n",
       "        [ 0.4585,  0.3005],\n",
       "        [ 0.4585,  0.3005],\n",
       "        [ 0.4585,  0.3005],\n",
       "        [-0.1178, -0.3064],\n",
       "        [-0.4060, -0.7869],\n",
       "        [-0.1178, -0.3064],\n",
       "        [-0.1178, -0.3064],\n",
       "        [-0.1178, -0.3064],\n",
       "        [ 1.0588,  1.4385],\n",
       "        [ 1.0588,  1.4385],\n",
       "        [ 1.0588,  1.3120],\n",
       "        [ 0.8187,  1.3120],\n",
       "        [-0.7182, -1.3179],\n",
       "        [-0.4300, -0.4834],\n",
       "        [-0.7182, -1.3179],\n",
       "        [-0.4300, -0.4834],\n",
       "        [-0.4300, -0.4834],\n",
       "        [-0.7182, -0.9133],\n",
       "        [-0.4300, -0.1041],\n",
       "        [-0.4300, -0.3570],\n",
       "        [-0.4300, -0.3570],\n",
       "        [ 0.2184,  0.1488],\n",
       "        [-0.7182, -0.9133],\n",
       "        [-0.4300, -0.4076],\n",
       "        [ 0.3384,  0.2499],\n",
       "        [ 0.3384,  0.2499],\n",
       "        [ 0.3384,  0.2499],\n",
       "        [ 0.3384,  0.2499],\n",
       "        [ 0.0743,  1.4638],\n",
       "        [ 0.0743,  1.4638],\n",
       "        [ 0.3384,  0.2499],\n",
       "        [ 0.3384,  1.4132],\n",
       "        [ 1.1069,  0.7557],\n",
       "        [ 0.4345,  0.0476],\n",
       "        [ 0.3384,  0.2499]])"
      ]
     },
     "execution_count": 1080,
     "metadata": {},
     "output_type": "execute_result"
    }
   ],
   "source": [
    "x"
   ]
  },
  {
   "cell_type": "code",
   "execution_count": 1081,
   "metadata": {},
   "outputs": [
    {
     "data": {
      "text/plain": [
       "torch.Size([205, 2])"
      ]
     },
     "execution_count": 1081,
     "metadata": {},
     "output_type": "execute_result"
    }
   ],
   "source": [
    "x.shape"
   ]
  },
  {
   "cell_type": "code",
   "execution_count": 1082,
   "metadata": {},
   "outputs": [
    {
     "data": {
      "text/plain": [
       "tensor([ 2.7324e-02,  4.0347e-01,  4.0347e-01,  8.4279e-02,  5.2239e-01,\n",
       "         2.4701e-01,  5.5493e-01,  7.0640e-01,  1.3266e+00,  5.7361e-01,\n",
       "         3.9471e-01,  4.5667e-01,  9.6300e-01,  9.7990e-01,  1.4130e+00,\n",
       "         2.1885e+00,  3.5097e+00,  2.9545e+00, -1.0171e+00, -8.7393e-01,\n",
       "        -8.3888e-01, -9.6443e-01, -8.6367e-01, -6.6589e-01, -8.8219e-01,\n",
       "        -8.2424e-01, -7.0945e-01, -5.9066e-01, -5.4522e-01, -3.9143e-02,\n",
       "        -8.5090e-01, -8.0383e-01, -9.8609e-01, -8.4464e-01, -7.6954e-01,\n",
       "        -7.4876e-01, -7.4876e-01, -6.7365e-01, -5.2344e-01, -5.5474e-01,\n",
       "        -3.7323e-01, -4.1522e-02, -3.6698e-01, -8.1260e-01, -5.4579e-01,\n",
       "        -5.4579e-01, -2.7898e-01,  2.3750e+00,  2.7880e+00,  2.8444e+00,\n",
       "        -1.0116e+00, -8.9897e-01, -8.1134e-01, -8.2386e-01, -7.3624e-01,\n",
       "        -2.9187e-01, -1.7921e-01,  4.6100e-02,  2.9645e-01, -5.5474e-01,\n",
       "        -5.9855e-01, -3.3568e-01, -3.7949e-01, -3.1065e-01, -2.5432e-01,\n",
       "         6.2628e-01,  6.3430e-01,  1.5366e+00,  1.8740e+00,  1.8650e+00,\n",
       "         2.2936e+00,  2.6171e+00,  2.7262e+00,  3.4652e+00,  4.0210e+00,\n",
       "         4.0385e-01, -9.8734e-01, -8.8720e-01, -8.2712e-01, -6.9944e-01,\n",
       "        -4.1529e-01, -5.9805e-01, -8.1077e-02,  1.9931e-01,  1.5175e-01,\n",
       "        -7.8706e-01, -6.3685e-01, -5.0041e-01, -5.0041e-01, -9.7357e-01,\n",
       "        -7.7329e-01, -8.2962e-01, -8.0458e-01, -7.4200e-01, -7.4826e-01,\n",
       "        -6.8567e-01, -7.2322e-01, -6.6063e-01, -6.2934e-01, -5.4172e-01,\n",
       "        -4.6661e-01,  2.7825e-02,  1.4048e-01,  2.7825e-02,  4.9097e-01,\n",
       "         8.0391e-01,  6.4118e-01, -1.7233e-01, -9.6022e-03, -1.0473e-01,\n",
       "         7.3013e-02,  2.8831e-01,  4.5354e-01,  4.2788e-01,  4.7545e-01,\n",
       "         4.1975e-01,  5.8498e-01,  6.1001e-01, -9.6443e-01, -6.6589e-01,\n",
       "        -8.8219e-01, -8.2424e-01, -7.0945e-01, -5.4522e-01, -6.4178e-02,\n",
       "         1.0942e+00,  2.4098e+00,  2.5975e+00,  2.9731e+00,  2.2686e+00,\n",
       "        -4.9841e-01, -4.2330e-01, -1.7859e-01, -1.3853e-01,  2.2072e-01,\n",
       "         2.7955e-01,  6.1001e-01,  6.6884e-01, -1.0213e+00, -7.7905e-01,\n",
       "        -7.1020e-01, -7.6991e-01, -6.8867e-01, -4.1517e-01, -5.0617e-01,\n",
       "        -2.5257e-01, -7.2773e-01, -3.8538e-01, -6.5888e-01, -1.9811e-01,\n",
       "        -9.9247e-01, -8.6855e-01, -8.4977e-01, -7.9595e-01, -6.7328e-01,\n",
       "        -5.6312e-01, -7.9344e-01, -7.6090e-01, -6.7328e-01, -6.8705e-01,\n",
       "        -6.9330e-01, -6.1570e-01, -5.0304e-01, -6.5325e-01, -6.3072e-01,\n",
       "        -4.9803e-01, -4.6799e-01, -6.0431e-01, -4.5535e-01, -4.1154e-01,\n",
       "        -2.6008e-01, -2.1627e-01,  5.4980e-01, -5.4184e-01, -3.2279e-01,\n",
       "        -4.1166e-01, -2.9775e-01, -2.5394e-01,  4.1073e-01,  3.4064e-01,\n",
       "         3.0208e-01,  3.0959e-01, -6.8867e-01, -6.6364e-01, -6.6114e-01,\n",
       "        -6.3610e-01, -5.9855e-01, -4.7337e-01, -4.1079e-01, -2.1051e-01,\n",
       "        -4.1266e-01,  2.2894e-03,  7.1135e-02, -1.2351e-01, -4.2148e-02,\n",
       "         1.7310e-02,  3.3901e-01,  4.0535e-01,  6.4381e-01,  7.1015e-01,\n",
       "         4.4666e-01,  7.2204e-01,  1.0275e+00,  1.1508e+00,  1.1702e+00])"
      ]
     },
     "execution_count": 1082,
     "metadata": {},
     "output_type": "execute_result"
    }
   ],
   "source": [
    "y = torch.tensor(data['price'].values).float()\n",
    "y"
   ]
  },
  {
   "cell_type": "code",
   "execution_count": 1083,
   "metadata": {},
   "outputs": [
    {
     "data": {
      "text/plain": [
       "torch.Size([205])"
      ]
     },
     "execution_count": 1083,
     "metadata": {},
     "output_type": "execute_result"
    }
   ],
   "source": [
    "y.shape"
   ]
  },
  {
   "cell_type": "code",
   "execution_count": 1084,
   "metadata": {},
   "outputs": [],
   "source": [
    "#y = y[1:]"
   ]
  },
  {
   "cell_type": "code",
   "execution_count": 1085,
   "metadata": {},
   "outputs": [
    {
     "data": {
      "text/plain": [
       "torch.Size([205])"
      ]
     },
     "execution_count": 1085,
     "metadata": {},
     "output_type": "execute_result"
    }
   ],
   "source": [
    "y.shape"
   ]
  },
  {
   "cell_type": "code",
   "execution_count": 1086,
   "metadata": {},
   "outputs": [],
   "source": [
    "#y = y[6:,6]"
   ]
  },
  {
   "cell_type": "code",
   "execution_count": 1087,
   "metadata": {},
   "outputs": [
    {
     "data": {
      "text/plain": [
       "tensor([ 2.7324e-02,  4.0347e-01,  4.0347e-01,  8.4279e-02,  5.2239e-01,\n",
       "         2.4701e-01,  5.5493e-01,  7.0640e-01,  1.3266e+00,  5.7361e-01,\n",
       "         3.9471e-01,  4.5667e-01,  9.6300e-01,  9.7990e-01,  1.4130e+00,\n",
       "         2.1885e+00,  3.5097e+00,  2.9545e+00, -1.0171e+00, -8.7393e-01,\n",
       "        -8.3888e-01, -9.6443e-01, -8.6367e-01, -6.6589e-01, -8.8219e-01,\n",
       "        -8.2424e-01, -7.0945e-01, -5.9066e-01, -5.4522e-01, -3.9143e-02,\n",
       "        -8.5090e-01, -8.0383e-01, -9.8609e-01, -8.4464e-01, -7.6954e-01,\n",
       "        -7.4876e-01, -7.4876e-01, -6.7365e-01, -5.2344e-01, -5.5474e-01,\n",
       "        -3.7323e-01, -4.1522e-02, -3.6698e-01, -8.1260e-01, -5.4579e-01,\n",
       "        -5.4579e-01, -2.7898e-01,  2.3750e+00,  2.7880e+00,  2.8444e+00,\n",
       "        -1.0116e+00, -8.9897e-01, -8.1134e-01, -8.2386e-01, -7.3624e-01,\n",
       "        -2.9187e-01, -1.7921e-01,  4.6100e-02,  2.9645e-01, -5.5474e-01,\n",
       "        -5.9855e-01, -3.3568e-01, -3.7949e-01, -3.1065e-01, -2.5432e-01,\n",
       "         6.2628e-01,  6.3430e-01,  1.5366e+00,  1.8740e+00,  1.8650e+00,\n",
       "         2.2936e+00,  2.6171e+00,  2.7262e+00,  3.4652e+00,  4.0210e+00,\n",
       "         4.0385e-01, -9.8734e-01, -8.8720e-01, -8.2712e-01, -6.9944e-01,\n",
       "        -4.1529e-01, -5.9805e-01, -8.1077e-02,  1.9931e-01,  1.5175e-01,\n",
       "        -7.8706e-01, -6.3685e-01, -5.0041e-01, -5.0041e-01, -9.7357e-01,\n",
       "        -7.7329e-01, -8.2962e-01, -8.0458e-01, -7.4200e-01, -7.4826e-01,\n",
       "        -6.8567e-01, -7.2322e-01, -6.6063e-01, -6.2934e-01, -5.4172e-01,\n",
       "        -4.6661e-01,  2.7825e-02,  1.4048e-01,  2.7825e-02,  4.9097e-01,\n",
       "         8.0391e-01,  6.4118e-01, -1.7233e-01, -9.6022e-03, -1.0473e-01,\n",
       "         7.3013e-02,  2.8831e-01,  4.5354e-01,  4.2788e-01,  4.7545e-01,\n",
       "         4.1975e-01,  5.8498e-01,  6.1001e-01, -9.6443e-01, -6.6589e-01,\n",
       "        -8.8219e-01, -8.2424e-01, -7.0945e-01, -5.4522e-01, -6.4178e-02,\n",
       "         1.0942e+00,  2.4098e+00,  2.5975e+00,  2.9731e+00,  2.2686e+00,\n",
       "        -4.9841e-01, -4.2330e-01, -1.7859e-01, -1.3853e-01,  2.2072e-01,\n",
       "         2.7955e-01,  6.1001e-01,  6.6884e-01, -1.0213e+00, -7.7905e-01,\n",
       "        -7.1020e-01, -7.6991e-01, -6.8867e-01, -4.1517e-01, -5.0617e-01,\n",
       "        -2.5257e-01, -7.2773e-01, -3.8538e-01, -6.5888e-01, -1.9811e-01,\n",
       "        -9.9247e-01, -8.6855e-01, -8.4977e-01, -7.9595e-01, -6.7328e-01,\n",
       "        -5.6312e-01, -7.9344e-01, -7.6090e-01, -6.7328e-01, -6.8705e-01,\n",
       "        -6.9330e-01, -6.1570e-01, -5.0304e-01, -6.5325e-01, -6.3072e-01,\n",
       "        -4.9803e-01, -4.6799e-01, -6.0431e-01, -4.5535e-01, -4.1154e-01,\n",
       "        -2.6008e-01, -2.1627e-01,  5.4980e-01, -5.4184e-01, -3.2279e-01,\n",
       "        -4.1166e-01, -2.9775e-01, -2.5394e-01,  4.1073e-01,  3.4064e-01,\n",
       "         3.0208e-01,  3.0959e-01, -6.8867e-01, -6.6364e-01, -6.6114e-01,\n",
       "        -6.3610e-01, -5.9855e-01, -4.7337e-01, -4.1079e-01, -2.1051e-01,\n",
       "        -4.1266e-01,  2.2894e-03,  7.1135e-02, -1.2351e-01, -4.2148e-02,\n",
       "         1.7310e-02,  3.3901e-01,  4.0535e-01,  6.4381e-01,  7.1015e-01,\n",
       "         4.4666e-01,  7.2204e-01,  1.0275e+00,  1.1508e+00,  1.1702e+00])"
      ]
     },
     "execution_count": 1087,
     "metadata": {},
     "output_type": "execute_result"
    }
   ],
   "source": [
    "y"
   ]
  },
  {
   "cell_type": "code",
   "execution_count": 1088,
   "metadata": {},
   "outputs": [
    {
     "data": {
      "text/plain": [
       "torch.Size([205])"
      ]
     },
     "execution_count": 1088,
     "metadata": {},
     "output_type": "execute_result"
    }
   ],
   "source": [
    "y.shape"
   ]
  },
  {
   "cell_type": "code",
   "execution_count": 1089,
   "metadata": {},
   "outputs": [],
   "source": [
    "W = torch.nn.Parameter(tensor([1.,-1])) #nn is a lib. We create a tensor with random weights. Parameter means it'll calc gradients"
   ]
  },
  {
   "cell_type": "code",
   "execution_count": 1090,
   "metadata": {},
   "outputs": [],
   "source": [
    "def linear(x, W): #linear regression\n",
    "  return x@W"
   ]
  },
  {
   "cell_type": "code",
   "execution_count": 1091,
   "metadata": {},
   "outputs": [],
   "source": [
    "y_hat = linear(x, W)"
   ]
  },
  {
   "cell_type": "code",
   "execution_count": 1092,
   "metadata": {},
   "outputs": [],
   "source": [
    "def mse(y_hat, y_true): #loss func\n",
    "  return ((y_hat - y_true)**2).mean()"
   ]
  },
  {
   "cell_type": "code",
   "execution_count": 1093,
   "metadata": {},
   "outputs": [],
   "source": [
    "loss = mse(y_hat, y)"
   ]
  },
  {
   "cell_type": "code",
   "execution_count": 1094,
   "metadata": {},
   "outputs": [
    {
     "data": {
      "text/plain": [
       "tensor(1.2424, grad_fn=<MeanBackward0>)"
      ]
     },
     "execution_count": 1094,
     "metadata": {},
     "output_type": "execute_result"
    }
   ],
   "source": [
    "loss"
   ]
  },
  {
   "cell_type": "code",
   "execution_count": 1095,
   "metadata": {},
   "outputs": [
    {
     "data": {
      "text/plain": [
       "<matplotlib.collections.PathCollection at 0x7f65fee1f350>"
      ]
     },
     "execution_count": 1095,
     "metadata": {},
     "output_type": "execute_result"
    },
    {
     "data": {
      "image/png": "[encoded data removed]",
      "text/plain": [
       "<Figure size 432x288 with 1 Axes>"
      ]
     },
     "metadata": {
      "needs_background": "light"
     },
     "output_type": "display_data"
    }
   ],
   "source": [
    "y_h = linear(x, W).detach() #for matplotlib\n",
    "plt.scatter(x[:, 0], y)\n",
    "plt.scatter(x[:, 0], y_h) #our linear regression prediction before learning (random weights)"
   ]
  },
  {
   "cell_type": "markdown",
   "metadata": {},
   "source": [
    "Gradient Descent"
   ]
  },
  {
   "cell_type": "code",
   "execution_count": 1096,
   "metadata": {},
   "outputs": [],
   "source": [
    "learning_rate = 0.000001\n",
    "#Forward pass\n",
    "y_hat = linear(x, W)\n",
    "loss = mse(y_hat, y)\n",
    "\n",
    "loss.backward() #gradient calc for all parameters\n",
    "\n",
    "#Gradient descent\n",
    "\n",
    "with torch.no_grad(): \n",
    "  W.sub_(learning_rate * W.grad)\n",
    "  W.grad.zero_()"
   ]
  },
  {
   "cell_type": "code",
   "execution_count": 1097,
   "metadata": {},
   "outputs": [
    {
     "data": {
      "text/plain": [
       "<matplotlib.collections.PathCollection at 0x7f65fed34d90>"
      ]
     },
     "execution_count": 1097,
     "metadata": {},
     "output_type": "execute_result"
    },
    {
     "data": {
      "image/png": "[encoded data removed]",
      "text/plain": [
       "<Figure size 432x288 with 1 Axes>"
      ]
     },
     "metadata": {
      "needs_background": "light"
     },
     "output_type": "display_data"
    }
   ],
   "source": [
    "y_h = linear(x, W).detach() #for matplotlib\n",
    "plt.scatter(x[:, 0], y)\n",
    "plt.scatter(x[:, 0], y_h) #our linear regression prediction before learning (random weights)"
   ]
  },
  {
   "cell_type": "code",
   "execution_count": 1098,
   "metadata": {},
   "outputs": [],
   "source": [
    "def train():\n",
    "  \n",
    "  #Forward pass\n",
    "  y_hat = linear(x, W)\n",
    "  loss = mse(y_hat, y)\n",
    "\n",
    "  loss.backward() #gradient calc for all parameters\n",
    "  print (loss)\n",
    "  \n",
    "  #Gradient descent\n",
    "\n",
    "  with torch.no_grad(): \n",
    "    W.sub_(learning_rate * W.grad)\n",
    "    W.grad.zero_()\n",
    "  return y_hat.detach()\n"
   ]
  },
  {
   "cell_type": "code",
   "execution_count": 1099,
   "metadata": {},
   "outputs": [
    {
     "name": "stdout",
     "output_type": "stream",
     "text": [
      "tensor(0.5076, grad_fn=<MeanBackward0>)\n",
      "@epoch :  0  #Loss :  1.2423608303070068\n",
      "tensor(0.4876, grad_fn=<MeanBackward0>)\n",
      "@epoch :  1  #Loss :  1.2423608303070068\n",
      "tensor(0.4689, grad_fn=<MeanBackward0>)\n",
      "@epoch :  2  #Loss :  1.2423608303070068\n",
      "tensor(0.4516, grad_fn=<MeanBackward0>)\n",
      "@epoch :  3  #Loss :  1.2423608303070068\n",
      "tensor(0.4355, grad_fn=<MeanBackward0>)\n",
      "@epoch :  4  #Loss :  1.2423608303070068\n",
      "tensor(0.4206, grad_fn=<MeanBackward0>)\n",
      "@epoch :  5  #Loss :  1.2423608303070068\n",
      "tensor(0.4067, grad_fn=<MeanBackward0>)\n",
      "@epoch :  6  #Loss :  1.2423608303070068\n",
      "tensor(0.3937, grad_fn=<MeanBackward0>)\n",
      "@epoch :  7  #Loss :  1.2423608303070068\n",
      "tensor(0.3817, grad_fn=<MeanBackward0>)\n",
      "@epoch :  8  #Loss :  1.2423608303070068\n",
      "tensor(0.3705, grad_fn=<MeanBackward0>)\n",
      "@epoch :  9  #Loss :  1.2423608303070068\n",
      "tensor(0.3601, grad_fn=<MeanBackward0>)\n",
      "@epoch :  10  #Loss :  1.2423608303070068\n",
      "tensor(0.3504, grad_fn=<MeanBackward0>)\n",
      "@epoch :  11  #Loss :  1.2423608303070068\n",
      "tensor(0.3414, grad_fn=<MeanBackward0>)\n",
      "@epoch :  12  #Loss :  1.2423608303070068\n",
      "tensor(0.3330, grad_fn=<MeanBackward0>)\n",
      "@epoch :  13  #Loss :  1.2423608303070068\n",
      "tensor(0.3252, grad_fn=<MeanBackward0>)\n",
      "@epoch :  14  #Loss :  1.2423608303070068\n",
      "tensor(0.3180, grad_fn=<MeanBackward0>)\n",
      "@epoch :  15  #Loss :  1.2423608303070068\n",
      "tensor(0.3112, grad_fn=<MeanBackward0>)\n",
      "@epoch :  16  #Loss :  1.2423608303070068\n",
      "tensor(0.3049, grad_fn=<MeanBackward0>)\n",
      "@epoch :  17  #Loss :  1.2423608303070068\n",
      "tensor(0.2991, grad_fn=<MeanBackward0>)\n",
      "@epoch :  18  #Loss :  1.2423608303070068\n",
      "tensor(0.2936, grad_fn=<MeanBackward0>)\n",
      "@epoch :  19  #Loss :  1.2423608303070068\n",
      "tensor(0.2886, grad_fn=<MeanBackward0>)\n",
      "@epoch :  20  #Loss :  1.2423608303070068\n",
      "tensor(0.2839, grad_fn=<MeanBackward0>)\n",
      "@epoch :  21  #Loss :  1.2423608303070068\n",
      "tensor(0.2795, grad_fn=<MeanBackward0>)\n",
      "@epoch :  22  #Loss :  1.2423608303070068\n",
      "tensor(0.2754, grad_fn=<MeanBackward0>)\n",
      "@epoch :  23  #Loss :  1.2423608303070068\n",
      "tensor(0.2716, grad_fn=<MeanBackward0>)\n",
      "@epoch :  24  #Loss :  1.2423608303070068\n",
      "tensor(0.2680, grad_fn=<MeanBackward0>)\n",
      "@epoch :  25  #Loss :  1.2423608303070068\n",
      "tensor(0.2647, grad_fn=<MeanBackward0>)\n",
      "@epoch :  26  #Loss :  1.2423608303070068\n",
      "tensor(0.2616, grad_fn=<MeanBackward0>)\n",
      "@epoch :  27  #Loss :  1.2423608303070068\n",
      "tensor(0.2588, grad_fn=<MeanBackward0>)\n",
      "@epoch :  28  #Loss :  1.2423608303070068\n",
      "tensor(0.2561, grad_fn=<MeanBackward0>)\n",
      "@epoch :  29  #Loss :  1.2423608303070068\n",
      "tensor(0.2536, grad_fn=<MeanBackward0>)\n",
      "@epoch :  30  #Loss :  1.2423608303070068\n",
      "tensor(0.2513, grad_fn=<MeanBackward0>)\n",
      "@epoch :  31  #Loss :  1.2423608303070068\n",
      "tensor(0.2491, grad_fn=<MeanBackward0>)\n",
      "@epoch :  32  #Loss :  1.2423608303070068\n",
      "tensor(0.2471, grad_fn=<MeanBackward0>)\n",
      "@epoch :  33  #Loss :  1.2423608303070068\n",
      "tensor(0.2452, grad_fn=<MeanBackward0>)\n",
      "@epoch :  34  #Loss :  1.2423608303070068\n",
      "tensor(0.2434, grad_fn=<MeanBackward0>)\n",
      "@epoch :  35  #Loss :  1.2423608303070068\n",
      "tensor(0.2418, grad_fn=<MeanBackward0>)\n",
      "@epoch :  36  #Loss :  1.2423608303070068\n",
      "tensor(0.2403, grad_fn=<MeanBackward0>)\n",
      "@epoch :  37  #Loss :  1.2423608303070068\n",
      "tensor(0.2388, grad_fn=<MeanBackward0>)\n",
      "@epoch :  38  #Loss :  1.2423608303070068\n",
      "tensor(0.2375, grad_fn=<MeanBackward0>)\n",
      "@epoch :  39  #Loss :  1.2423608303070068\n",
      "tensor(0.2362, grad_fn=<MeanBackward0>)\n",
      "@epoch :  40  #Loss :  1.2423608303070068\n",
      "tensor(0.2350, grad_fn=<MeanBackward0>)\n",
      "@epoch :  41  #Loss :  1.2423608303070068\n",
      "tensor(0.2339, grad_fn=<MeanBackward0>)\n",
      "@epoch :  42  #Loss :  1.2423608303070068\n",
      "tensor(0.2329, grad_fn=<MeanBackward0>)\n",
      "@epoch :  43  #Loss :  1.2423608303070068\n",
      "tensor(0.2320, grad_fn=<MeanBackward0>)\n",
      "@epoch :  44  #Loss :  1.2423608303070068\n",
      "tensor(0.2311, grad_fn=<MeanBackward0>)\n",
      "@epoch :  45  #Loss :  1.2423608303070068\n",
      "tensor(0.2302, grad_fn=<MeanBackward0>)\n",
      "@epoch :  46  #Loss :  1.2423608303070068\n",
      "tensor(0.2294, grad_fn=<MeanBackward0>)\n",
      "@epoch :  47  #Loss :  1.2423608303070068\n",
      "tensor(0.2287, grad_fn=<MeanBackward0>)\n",
      "@epoch :  48  #Loss :  1.2423608303070068\n",
      "tensor(0.2280, grad_fn=<MeanBackward0>)\n",
      "@epoch :  49  #Loss :  1.2423608303070068\n",
      "tensor(0.2273, grad_fn=<MeanBackward0>)\n",
      "@epoch :  50  #Loss :  1.2423608303070068\n",
      "tensor(0.2267, grad_fn=<MeanBackward0>)\n",
      "@epoch :  51  #Loss :  1.2423608303070068\n",
      "tensor(0.2261, grad_fn=<MeanBackward0>)\n",
      "@epoch :  52  #Loss :  1.2423608303070068\n",
      "tensor(0.2256, grad_fn=<MeanBackward0>)\n",
      "@epoch :  53  #Loss :  1.2423608303070068\n",
      "tensor(0.2251, grad_fn=<MeanBackward0>)\n",
      "@epoch :  54  #Loss :  1.2423608303070068\n",
      "tensor(0.2246, grad_fn=<MeanBackward0>)\n",
      "@epoch :  55  #Loss :  1.2423608303070068\n",
      "tensor(0.2241, grad_fn=<MeanBackward0>)\n",
      "@epoch :  56  #Loss :  1.2423608303070068\n",
      "tensor(0.2237, grad_fn=<MeanBackward0>)\n",
      "@epoch :  57  #Loss :  1.2423608303070068\n",
      "tensor(0.2233, grad_fn=<MeanBackward0>)\n",
      "@epoch :  58  #Loss :  1.2423608303070068\n",
      "tensor(0.2229, grad_fn=<MeanBackward0>)\n",
      "@epoch :  59  #Loss :  1.2423608303070068\n",
      "tensor(0.2225, grad_fn=<MeanBackward0>)\n",
      "@epoch :  60  #Loss :  1.2423608303070068\n",
      "tensor(0.2222, grad_fn=<MeanBackward0>)\n",
      "@epoch :  61  #Loss :  1.2423608303070068\n",
      "tensor(0.2219, grad_fn=<MeanBackward0>)\n",
      "@epoch :  62  #Loss :  1.2423608303070068\n",
      "tensor(0.2216, grad_fn=<MeanBackward0>)\n",
      "@epoch :  63  #Loss :  1.2423608303070068\n",
      "tensor(0.2213, grad_fn=<MeanBackward0>)\n",
      "@epoch :  64  #Loss :  1.2423608303070068\n",
      "tensor(0.2210, grad_fn=<MeanBackward0>)\n",
      "@epoch :  65  #Loss :  1.2423608303070068\n",
      "tensor(0.2207, grad_fn=<MeanBackward0>)\n",
      "@epoch :  66  #Loss :  1.2423608303070068\n",
      "tensor(0.2205, grad_fn=<MeanBackward0>)\n",
      "@epoch :  67  #Loss :  1.2423608303070068\n",
      "tensor(0.2202, grad_fn=<MeanBackward0>)\n",
      "@epoch :  68  #Loss :  1.2423608303070068\n",
      "tensor(0.2200, grad_fn=<MeanBackward0>)\n",
      "@epoch :  69  #Loss :  1.2423608303070068\n",
      "tensor(0.2198, grad_fn=<MeanBackward0>)\n",
      "@epoch :  70  #Loss :  1.2423608303070068\n",
      "tensor(0.2196, grad_fn=<MeanBackward0>)\n",
      "@epoch :  71  #Loss :  1.2423608303070068\n",
      "tensor(0.2194, grad_fn=<MeanBackward0>)\n",
      "@epoch :  72  #Loss :  1.2423608303070068\n",
      "tensor(0.2192, grad_fn=<MeanBackward0>)\n",
      "@epoch :  73  #Loss :  1.2423608303070068\n",
      "tensor(0.2190, grad_fn=<MeanBackward0>)\n",
      "@epoch :  74  #Loss :  1.2423608303070068\n",
      "tensor(0.2188, grad_fn=<MeanBackward0>)\n",
      "@epoch :  75  #Loss :  1.2423608303070068\n",
      "tensor(0.2186, grad_fn=<MeanBackward0>)\n",
      "@epoch :  76  #Loss :  1.2423608303070068\n",
      "tensor(0.2185, grad_fn=<MeanBackward0>)\n",
      "@epoch :  77  #Loss :  1.2423608303070068\n",
      "tensor(0.2183, grad_fn=<MeanBackward0>)\n",
      "@epoch :  78  #Loss :  1.2423608303070068\n",
      "tensor(0.2181, grad_fn=<MeanBackward0>)\n",
      "@epoch :  79  #Loss :  1.2423608303070068\n",
      "tensor(0.2180, grad_fn=<MeanBackward0>)\n",
      "@epoch :  80  #Loss :  1.2423608303070068\n",
      "tensor(0.2179, grad_fn=<MeanBackward0>)\n",
      "@epoch :  81  #Loss :  1.2423608303070068\n",
      "tensor(0.2177, grad_fn=<MeanBackward0>)\n",
      "@epoch :  82  #Loss :  1.2423608303070068\n",
      "tensor(0.2176, grad_fn=<MeanBackward0>)\n",
      "@epoch :  83  #Loss :  1.2423608303070068\n",
      "tensor(0.2174, grad_fn=<MeanBackward0>)\n",
      "@epoch :  84  #Loss :  1.2423608303070068\n",
      "tensor(0.2173, grad_fn=<MeanBackward0>)\n",
      "@epoch :  85  #Loss :  1.2423608303070068\n",
      "tensor(0.2172, grad_fn=<MeanBackward0>)\n",
      "@epoch :  86  #Loss :  1.2423608303070068\n",
      "tensor(0.2171, grad_fn=<MeanBackward0>)\n",
      "@epoch :  87  #Loss :  1.2423608303070068\n",
      "tensor(0.2170, grad_fn=<MeanBackward0>)\n",
      "@epoch :  88  #Loss :  1.2423608303070068\n",
      "tensor(0.2168, grad_fn=<MeanBackward0>)\n",
      "@epoch :  89  #Loss :  1.2423608303070068\n",
      "tensor(0.2167, grad_fn=<MeanBackward0>)\n",
      "@epoch :  90  #Loss :  1.2423608303070068\n",
      "tensor(0.2166, grad_fn=<MeanBackward0>)\n",
      "@epoch :  91  #Loss :  1.2423608303070068\n",
      "tensor(0.2165, grad_fn=<MeanBackward0>)\n",
      "@epoch :  92  #Loss :  1.2423608303070068\n",
      "tensor(0.2164, grad_fn=<MeanBackward0>)\n",
      "@epoch :  93  #Loss :  1.2423608303070068\n",
      "tensor(0.2163, grad_fn=<MeanBackward0>)\n",
      "@epoch :  94  #Loss :  1.2423608303070068\n",
      "tensor(0.2162, grad_fn=<MeanBackward0>)\n",
      "@epoch :  95  #Loss :  1.2423608303070068\n",
      "tensor(0.2161, grad_fn=<MeanBackward0>)\n",
      "@epoch :  96  #Loss :  1.2423608303070068\n",
      "tensor(0.2160, grad_fn=<MeanBackward0>)\n",
      "@epoch :  97  #Loss :  1.2423608303070068\n",
      "tensor(0.2159, grad_fn=<MeanBackward0>)\n",
      "@epoch :  98  #Loss :  1.2423608303070068\n",
      "tensor(0.2158, grad_fn=<MeanBackward0>)\n",
      "@epoch :  99  #Loss :  1.2423608303070068\n"
     ]
    }
   ],
   "source": [
    "learning_rate = 0.01\n",
    "W = torch.nn.Parameter(tensor([0.1225,  0.2487])) #nn is a lib. We create a tensor with random weights. Parameter means it'll calc gradients\n",
    "losses = []\n",
    "\n",
    "EPOCHS = 100\n",
    "for i in range(EPOCHS):\n",
    "  train()\n",
    "  print(\"@epoch : \", i, \" #Loss : \", loss.item())\n",
    "#  losses.append(loss)"
   ]
  },
  {
   "cell_type": "code",
   "execution_count": 1100,
   "metadata": {},
   "outputs": [
    {
     "data": {
      "text/plain": [
       "<matplotlib.collections.PathCollection at 0x7f65feca6ed0>"
      ]
     },
     "execution_count": 1100,
     "metadata": {},
     "output_type": "execute_result"
    },
    {
     "data": {
      "image/png": "[encoded data removed]",
      "text/plain": [
       "<Figure size 432x288 with 1 Axes>"
      ]
     },
     "metadata": {
      "needs_background": "light"
     },
     "output_type": "display_data"
    }
   ],
   "source": [
    "y_h = linear(x, W).detach() #for matplotlib\n",
    "plt.scatter(x[:, 0], y)\n",
    "plt.scatter(x[:, 0], y_h) #our linear regression prediction before learning (random weights)"
   ]
  },
  {
   "cell_type": "code",
   "execution_count": 1101,
   "metadata": {},
   "outputs": [
    {
     "data": {
      "text/plain": [
       "Parameter containing:\n",
       "tensor([0.4692, 0.4461], requires_grad=True)"
      ]
     },
     "execution_count": 1101,
     "metadata": {},
     "output_type": "execute_result"
    }
   ],
   "source": [
    "W"
   ]
  },
  {
   "cell_type": "code",
   "execution_count": 1102,
   "metadata": {},
   "outputs": [],
   "source": [
    "#Predicting for enginesize 220\n",
    "x_engine = tensor([0.074267,0.174057])"
   ]
  },
  {
   "cell_type": "code",
   "execution_count": 1103,
   "metadata": {},
   "outputs": [],
   "source": [
    "y_pred = x_engine@W"
   ]
  },
  {
   "cell_type": "code",
   "execution_count": 1104,
   "metadata": {},
   "outputs": [
    {
     "data": {
      "text/plain": [
       "tensor(0.1125, grad_fn=<DotBackward>)"
      ]
     },
     "execution_count": 1104,
     "metadata": {},
     "output_type": "execute_result"
    }
   ],
   "source": [
    "y_pred"
   ]
  },
  {
   "cell_type": "code",
   "execution_count": null,
   "metadata": {},
   "outputs": [],
   "source": []
  }
 ],
 "metadata": {
  "kernelspec": {
   "display_name": "Python 3",
   "language": "python",
   "name": "python3"
  },
  "language_info": {
   "codemirror_mode": {
    "name": "ipython",
    "version": 3
   },
   "file_extension": ".py",
   "mimetype": "text/x-python",
   "name": "python",
   "nbconvert_exporter": "python",
   "pygments_lexer": "ipython3",
   "version": "3.7.4"
  }
 },
 "nbformat": 4,
 "nbformat_minor": 2
}
