{
 "cells": [
  {
   "cell_type": "code",
   "execution_count": 1,
   "metadata": {},
   "outputs": [],
   "source": [
    "from torch import tensor\n",
    "import torch\n",
    "import matplotlib.pyplot as plt\n",
    "%matplotlib inline\n",
    "\n",
    "from torchvision.datasets import MNIST\n",
    "from torchvision.transforms import Resize, ToTensor, Compose, Normalize\n",
    "import numpy as np"
   ]
  },
  {
   "cell_type": "code",
   "execution_count": 2,
   "metadata": {},
   "outputs": [],
   "source": [
    "transform = Compose([\n",
    "        ToTensor(),\n",
    "        Normalize(mean=[0.0], std=[1.0])]) "
   ]
  },
  {
   "cell_type": "code",
   "execution_count": 3,
   "metadata": {},
   "outputs": [
    {
     "name": "stderr",
     "output_type": "stream",
     "text": [
      "\r",
      "0it [00:00, ?it/s]"
     ]
    },
    {
     "name": "stdout",
     "output_type": "stream",
     "text": [
      "Downloading http://yann.lecun.com/exdb/mnist/train-images-idx3-ubyte.gz to ./MNIST/raw/train-images-idx3-ubyte.gz\n"
     ]
    },
    {
     "name": "stderr",
     "output_type": "stream",
     "text": [
      "100%|█████████▉| 9871360/9912422 [00:13<00:00, 1788298.56it/s]"
     ]
    },
    {
     "name": "stdout",
     "output_type": "stream",
     "text": [
      "Extracting ./MNIST/raw/train-images-idx3-ubyte.gz to ./MNIST/raw\n"
     ]
    },
    {
     "name": "stderr",
     "output_type": "stream",
     "text": [
      "\n",
      "0it [00:00, ?it/s]\u001b[A"
     ]
    },
    {
     "name": "stdout",
     "output_type": "stream",
     "text": [
      "Downloading http://yann.lecun.com/exdb/mnist/train-labels-idx1-ubyte.gz to ./MNIST/raw/train-labels-idx1-ubyte.gz\n"
     ]
    },
    {
     "name": "stderr",
     "output_type": "stream",
     "text": [
      "\n",
      "  0%|          | 0/28881 [00:00<?, ?it/s]\u001b[A\n",
      "32768it [00:00, 66867.16it/s]                            \u001b[A\n",
      "\n",
      "0it [00:00, ?it/s]\u001b[A"
     ]
    },
    {
     "name": "stdout",
     "output_type": "stream",
     "text": [
      "Extracting ./MNIST/raw/train-labels-idx1-ubyte.gz to ./MNIST/raw\n",
      "Downloading http://yann.lecun.com/exdb/mnist/t10k-images-idx3-ubyte.gz to ./MNIST/raw/t10k-images-idx3-ubyte.gz\n"
     ]
    },
    {
     "name": "stderr",
     "output_type": "stream",
     "text": [
      "\n",
      "  0%|          | 0/1648877 [00:00<?, ?it/s]\u001b[A\n",
      "  1%|          | 16384/1648877 [00:00<00:20, 80094.68it/s]\u001b[A\n",
      "  2%|▏         | 40960/1648877 [00:00<00:18, 89102.77it/s]\u001b[A\n",
      "  6%|▌         | 98304/1648877 [00:01<00:15, 100007.98it/s]\u001b[A\n",
      " 10%|█         | 172032/1648877 [00:01<00:12, 115375.62it/s]\u001b[A\n",
      " 18%|█▊        | 294912/1648877 [00:01<00:08, 152276.85it/s]\u001b[A\n",
      " 21%|██        | 344064/1648877 [00:02<00:08, 150105.35it/s]\u001b[A\n",
      " 27%|██▋       | 442368/1648877 [00:02<00:06, 198511.05it/s]\u001b[A\n",
      " 29%|██▉       | 483328/1648877 [00:02<00:05, 215025.75it/s]\u001b[A\n",
      " 32%|███▏      | 532480/1648877 [00:02<00:05, 222002.69it/s]\u001b[A\n",
      " 35%|███▌      | 581632/1648877 [00:02<00:04, 227195.78it/s]\u001b[A\n",
      " 38%|███▊      | 630784/1648877 [00:02<00:04, 230899.75it/s]\u001b[A\n",
      " 41%|████      | 679936/1648877 [00:03<00:04, 233520.93it/s]\u001b[A\n",
      " 44%|████▍     | 729088/1648877 [00:03<00:03, 235383.63it/s]\u001b[A\n",
      " 48%|████▊     | 786432/1648877 [00:03<00:03, 247127.05it/s]\u001b[A\n",
      " 51%|█████     | 843776/1648877 [00:03<00:03, 256259.77it/s]\u001b[A\n",
      " 54%|█████▍    | 892928/1648877 [00:03<00:03, 251092.66it/s]\u001b[A\n",
      " 58%|█████▊    | 950272/1648877 [00:04<00:02, 259171.00it/s]\u001b[A\n",
      " 61%|██████    | 1007616/1648877 [00:04<00:02, 264993.96it/s]\u001b[A\n",
      " 64%|██████▍   | 1056768/1648877 [00:04<00:02, 256784.00it/s]\u001b[A\n",
      " 68%|██████▊   | 1114112/1648877 [00:04<00:02, 263429.12it/s]\u001b[A\n",
      " 71%|███████   | 1171456/1648877 [00:04<00:01, 268265.96it/s]\u001b[A\n",
      " 74%|███████▍  | 1220608/1648877 [00:05<00:01, 259202.36it/s]\u001b[A\n",
      " 78%|███████▊  | 1277952/1648877 [00:05<00:01, 264344.08it/s]\u001b[A\n",
      " 81%|████████  | 1335296/1648877 [00:05<00:01, 269747.11it/s]\u001b[A\n",
      " 84%|████████▍ | 1384448/1648877 [00:05<00:01, 259991.98it/s]\u001b[A\n",
      " 87%|████████▋ | 1441792/1648877 [00:06<00:01, 206814.79it/s]\u001b[A\n",
      " 92%|█████████▏| 1523712/1648877 [00:06<00:00, 241052.01it/s]\u001b[A\n",
      " 95%|█████████▍| 1564672/1648877 [00:06<00:00, 228260.75it/s]\u001b[A\n",
      " 97%|█████████▋| 1605632/1648877 [00:06<00:00, 253668.27it/s]\u001b[A\n",
      "1654784it [00:06, 288330.91it/s]                             \u001b[A\n",
      "\n",
      "0it [00:00, ?it/s]\u001b[A\u001b[A"
     ]
    },
    {
     "name": "stdout",
     "output_type": "stream",
     "text": [
      "Extracting ./MNIST/raw/t10k-images-idx3-ubyte.gz to ./MNIST/raw\n",
      "Downloading http://yann.lecun.com/exdb/mnist/t10k-labels-idx1-ubyte.gz to ./MNIST/raw/t10k-labels-idx1-ubyte.gz\n"
     ]
    },
    {
     "name": "stderr",
     "output_type": "stream",
     "text": [
      "\n",
      "\n",
      "8192it [00:00, 22258.06it/s]            \u001b[A\u001b[A\n"
     ]
    },
    {
     "name": "stdout",
     "output_type": "stream",
     "text": [
      "Extracting ./MNIST/raw/t10k-labels-idx1-ubyte.gz to ./MNIST/raw\n",
      "Processing...\n",
      "Done!\n"
     ]
    },
    {
     "data": {
      "text/plain": [
       "<matplotlib.image.AxesImage at 0x7f49cd265dd0>"
      ]
     },
     "execution_count": 3,
     "metadata": {},
     "output_type": "execute_result"
    },
    {
     "data": {
      "image/png": "[encoded data removed]",
      "text/plain": [
       "<Figure size 432x288 with 1 Axes>"
      ]
     },
     "metadata": {
      "needs_background": "light"
     },
     "output_type": "display_data"
    }
   ],
   "source": [
    "from torch.utils.data import DataLoader\n",
    "\n",
    "data_train = MNIST('./', download=True, train=True, transform=transform)\n",
    "data_test = MNIST('./', download=True, train=False, transform=transform)\n",
    "\n",
    "plt.imshow(data_test.data[0])"
   ]
  },
  {
   "cell_type": "markdown",
   "metadata": {},
   "source": [
    "## Задание 1\n",
    "Напишите класс для нашей модели.\n",
    "Не забудьте про препроцессинг данных - свернуть картинки в вектора размером 784."
   ]
  },
  {
   "cell_type": "markdown",
   "metadata": {},
   "source": [
    "Создаем класс для нашей нейронной сети. Чтобы класс был доступен для автодифференцирования и Pytorch воспринимал его как обучаемую модель - наследуем его от класса torch.nn.Module\n",
    "\n",
    "В методе `__init__` мы прописывем архитектуру нашей модели - какие будут слои, каких они будут размеров.\n",
    "Все слои мы сохраняем как свойства класса в `self.`\n",
    "\n",
    "Метод `forward` должен описивать процесс forward pass - какие операции происходят с входящими данными. Именно на основе forward функции pytorch понимает как делать backward pass."
   ]
  },
  {
   "cell_type": "code",
   "execution_count": 37,
   "metadata": {},
   "outputs": [],
   "source": [
    "from torch import nn\n",
    "class NeuralNetwork(nn.Module):\n",
    "    def __init__(self, input_size, hidden_size, output_size):\n",
    "        super(NeuralNetwork, self).__init__()\n",
    "        self.layer1 = nn.Linear(input_size, hidden_size) # Your Code here\n",
    "        self.layer2 = nn.Linear(hidden_size, output_size)# ...\n",
    "        # ...\n",
    "    \n",
    "    \n",
    "    def forward(self, x):\n",
    "        x = x.view(-1, 784).float()\n",
    "        x = self.layer1(x) # Your Code here\n",
    "        x = torch.relu(x) # ...\n",
    "        x = self.layer2(x) # ...\n",
    "        return x"
   ]
  },
  {
   "cell_type": "markdown",
   "metadata": {},
   "source": [
    "Заполните модель, лосс и оптимизатор"
   ]
  },
  {
   "cell_type": "code",
   "execution_count": 38,
   "metadata": {},
   "outputs": [],
   "source": [
    "model = NeuralNetwork(784, 45, 10) # Создайте модель Neural Network\n",
    "# Выберете правильный input_size, output_size и выберете hidden_size"
   ]
  },
  {
   "cell_type": "code",
   "execution_count": 39,
   "metadata": {},
   "outputs": [],
   "source": [
    "loss_function = torch.nn.CrossEntropyLoss() # Какую loss функцию выберете?\n",
    "# Вы можете использовать библиотеку torch.nn чтобы создать loss функцию которая вам подходит"
   ]
  },
  {
   "cell_type": "code",
   "execution_count": 55,
   "metadata": {},
   "outputs": [],
   "source": [
    "from torch.optim import SGD\n",
    "\n",
    "optim = SGD(model.parameters(), lr=0.1)\n",
    "# Инициализируйте оптимизатор и передайте ему параметры модели и learning_rate"
   ]
  },
  {
   "cell_type": "markdown",
   "metadata": {},
   "source": [
    "## Задание 2\n",
    "Дозаполните функцию run_epoch"
   ]
  },
  {
   "cell_type": "code",
   "execution_count": 56,
   "metadata": {},
   "outputs": [],
   "source": [
    "def run_epoch(data, model, loss_function, optimiser, mode='train'):\n",
    "    losses, scores = [], []\n",
    "    \n",
    "    for x, y in tqdm_notebook(data):    \n",
    "        # 1. Forward pass\n",
    "        y_hat = model(x)\n",
    "        \n",
    "        # 2. Calculate loss\n",
    "        loss = loss_function(y_hat, y)\n",
    "        \n",
    "        if mode == 'train':\n",
    "            # 3. Make backward pass\n",
    "            loss.backward()\n",
    "            \n",
    "            # 4. Update model with optimiser\n",
    "            optim.step()\n",
    "            \n",
    "        # 5. Zero gradients\n",
    "        optim.zero_grad()\n",
    "        \n",
    "        losses.append(loss.item())\n",
    "        scores.append(score(y_hat, y))\n",
    "    print(f\"Loss {np.mean(losses)}, Accuracy: {np.mean(scores)}\")"
   ]
  },
  {
   "cell_type": "code",
   "execution_count": 57,
   "metadata": {},
   "outputs": [],
   "source": [
    "train = DataLoader(data_train, batch_size=256)\n",
    "test = DataLoader(data_test, batch_size=512)"
   ]
  },
  {
   "cell_type": "markdown",
   "metadata": {},
   "source": [
    "## Задание 3\n",
    "Обучите модель хотя бы до 0.9 точности. Вы можете менять learning_rate там где инициализировали оптимизатор.\n",
    "Вы так же можете экспериментировать с количеством слоев, функциями активации, количеством нейронов в скрытом слое, изменяя модель Neural Network и посмотреть на результат. Чем больше экпериментов вы проведете - тем лучше."
   ]
  },
  {
   "cell_type": "markdown",
   "metadata": {},
   "source": [
    "# Accuracy 0.93 with 0.1 learning rate, 45 hidden layers and CrossEntropyLoss"
   ]
  },
  {
   "cell_type": "code",
   "execution_count": 58,
   "metadata": {},
   "outputs": [],
   "source": [
    "def score(y_hat, y_true):\n",
    "    preds = torch.argmax(y_hat, dim=1)\n",
    "    return (preds==y_true).float().mean()"
   ]
  },
  {
   "cell_type": "code",
   "execution_count": 59,
   "metadata": {},
   "outputs": [
    {
     "data": {
      "application/vnd.jupyter.widget-view+json": {
       "model_id": "ef5e058c88254eb58f8a85f16eec8f8e",
       "version_major": 2,
       "version_minor": 0
      },
      "text/plain": [
       "HBox(children=(IntProgress(value=0, max=235), HTML(value='')))"
      ]
     },
     "metadata": {},
     "output_type": "display_data"
    },
    {
     "name": "stdout",
     "output_type": "stream",
     "text": [
      "\n",
      "Loss 0.7467536207209242, Accuracy: 0.8213042616844177\n"
     ]
    },
    {
     "data": {
      "application/vnd.jupyter.widget-view+json": {
       "model_id": "ec787018b744473abf7cedaff9108086",
       "version_major": 2,
       "version_minor": 0
      },
      "text/plain": [
       "HBox(children=(IntProgress(value=0, max=20), HTML(value='')))"
      ]
     },
     "metadata": {},
     "output_type": "display_data"
    },
    {
     "name": "stdout",
     "output_type": "stream",
     "text": [
      "\n",
      "Loss 0.39781464710831643, Accuracy: 0.8861385583877563\n"
     ]
    },
    {
     "data": {
      "application/vnd.jupyter.widget-view+json": {
       "model_id": "50351766123e40a3849d3407e7ca35d5",
       "version_major": 2,
       "version_minor": 0
      },
      "text/plain": [
       "HBox(children=(IntProgress(value=0, max=235), HTML(value='')))"
      ]
     },
     "metadata": {},
     "output_type": "display_data"
    },
    {
     "name": "stdout",
     "output_type": "stream",
     "text": [
      "\n",
      "Loss 0.35835236231697365, Accuracy: 0.8984098434448242\n"
     ]
    },
    {
     "data": {
      "application/vnd.jupyter.widget-view+json": {
       "model_id": "8d978affe5b24c369afe52a564d5b211",
       "version_major": 2,
       "version_minor": 0
      },
      "text/plain": [
       "HBox(children=(IntProgress(value=0, max=20), HTML(value='')))"
      ]
     },
     "metadata": {},
     "output_type": "display_data"
    },
    {
     "name": "stdout",
     "output_type": "stream",
     "text": [
      "\n",
      "Loss 0.32238673493266107, Accuracy: 0.9065142869949341\n"
     ]
    },
    {
     "data": {
      "application/vnd.jupyter.widget-view+json": {
       "model_id": "76bee1cb245143a4842bf1f851f299b3",
       "version_major": 2,
       "version_minor": 0
      },
      "text/plain": [
       "HBox(children=(IntProgress(value=0, max=235), HTML(value='')))"
      ]
     },
     "metadata": {},
     "output_type": "display_data"
    },
    {
     "name": "stdout",
     "output_type": "stream",
     "text": [
      "\n",
      "Loss 0.30898500300468285, Accuracy: 0.912367045879364\n"
     ]
    },
    {
     "data": {
      "application/vnd.jupyter.widget-view+json": {
       "model_id": "a3278c7fa6554a088903a43909eca91a",
       "version_major": 2,
       "version_minor": 0
      },
      "text/plain": [
       "HBox(children=(IntProgress(value=0, max=20), HTML(value='')))"
      ]
     },
     "metadata": {},
     "output_type": "display_data"
    },
    {
     "name": "stdout",
     "output_type": "stream",
     "text": [
      "\n",
      "Loss 0.28854492157697675, Accuracy: 0.9161075353622437\n"
     ]
    },
    {
     "data": {
      "application/vnd.jupyter.widget-view+json": {
       "model_id": "47cec8de4ff149ada97035caf967058e",
       "version_major": 2,
       "version_minor": 0
      },
      "text/plain": [
       "HBox(children=(IntProgress(value=0, max=235), HTML(value='')))"
      ]
     },
     "metadata": {},
     "output_type": "display_data"
    },
    {
     "name": "stdout",
     "output_type": "stream",
     "text": [
      "\n",
      "Loss 0.2783007314547579, Accuracy: 0.9209275245666504\n"
     ]
    },
    {
     "data": {
      "application/vnd.jupyter.widget-view+json": {
       "model_id": "575995ed20e34329b8e13a2c8101e54e",
       "version_major": 2,
       "version_minor": 0
      },
      "text/plain": [
       "HBox(children=(IntProgress(value=0, max=20), HTML(value='')))"
      ]
     },
     "metadata": {},
     "output_type": "display_data"
    },
    {
     "name": "stdout",
     "output_type": "stream",
     "text": [
      "\n",
      "Loss 0.2629853568971157, Accuracy: 0.9242130517959595\n"
     ]
    },
    {
     "data": {
      "application/vnd.jupyter.widget-view+json": {
       "model_id": "ca3e7fcb51d44153ad33d88fc387adaa",
       "version_major": 2,
       "version_minor": 0
      },
      "text/plain": [
       "HBox(children=(IntProgress(value=0, max=235), HTML(value='')))"
      ]
     },
     "metadata": {},
     "output_type": "display_data"
    },
    {
     "name": "stdout",
     "output_type": "stream",
     "text": [
      "\n",
      "Loss 0.2540812407085236, Accuracy: 0.9278368353843689\n"
     ]
    },
    {
     "data": {
      "application/vnd.jupyter.widget-view+json": {
       "model_id": "687ca93b974f4a79a105b226a1a89b27",
       "version_major": 2,
       "version_minor": 0
      },
      "text/plain": [
       "HBox(children=(IntProgress(value=0, max=20), HTML(value='')))"
      ]
     },
     "metadata": {},
     "output_type": "display_data"
    },
    {
     "name": "stdout",
     "output_type": "stream",
     "text": [
      "\n",
      "Loss 0.2422059014439583, Accuracy: 0.9308077096939087\n"
     ]
    }
   ],
   "source": [
    "from tqdm import tqdm_notebook\n",
    "\n",
    "EPOCHS = 5\n",
    "\n",
    "for i in range(EPOCHS):\n",
    "    run_epoch(train, model, loss_function, optim)\n",
    "    run_epoch(test, model, loss_function, optim, mode='eval')"
   ]
  }
 ],
 "metadata": {
  "hide_input": false,
  "kernelspec": {
   "display_name": "Python 3",
   "language": "python",
   "name": "python3"
  },
  "language_info": {
   "codemirror_mode": {
    "name": "ipython",
    "version": 3
   },
   "file_extension": ".py",
   "mimetype": "text/x-python",
   "name": "python",
   "nbconvert_exporter": "python",
   "pygments_lexer": "ipython3",
   "version": "3.7.4"
  }
 },
 "nbformat": 4,
 "nbformat_minor": 2
}
