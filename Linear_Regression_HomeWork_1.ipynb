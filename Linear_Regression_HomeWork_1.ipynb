{
 "cells": [
  {
   "cell_type": "code",
   "execution_count": 9,
   "metadata": {},
   "outputs": [],
   "source": [
    "import torch\n",
    "from torch import tensor"
   ]
  },
  {
   "cell_type": "code",
   "execution_count": 10,
   "metadata": {},
   "outputs": [],
   "source": [
    "import matplotlib.pyplot as plt\n",
    "%matplotlib inline"
   ]
  },
  {
   "cell_type": "code",
   "execution_count": 11,
   "metadata": {},
   "outputs": [],
   "source": [
    "from sklearn.datasets import load_boston\n",
    "import numpy as np\n",
    "np.set_printoptions(suppress=True)\n",
    "np.random.seed(0)"
   ]
  },
  {
   "cell_type": "markdown",
   "metadata": {},
   "source": [
    "В этом домашнем задании вам необходимо будет обучить Линейную Регрессию для датасета Boston House Prices dataset. Он представляет из себя 506 записей о различных харакатеристиках домов (инфраструктура, криминальный уровень...) и цены на каждый дом.\n",
    "\n",
    "Ваша задача - обучить модель линейной регрессии, которая будет по характеристикам дома предсказывать его цену.\n",
    "\n",
    "Характеристики каждого дома уже переведены в числовой формат. Всего для каждого дома по 13 характеристик.\n",
    "\n",
    "Про сами данные можно прочитать здесь https://www.cs.toronto.edu/~delve/data/boston/bostonDetail.html\n",
    "\n",
    "\n",
    "Выполните все задания, указанные в комментариях к коду и все получится.\n",
    "Удачи!)"
   ]
  },
  {
   "cell_type": "code",
   "execution_count": 12,
   "metadata": {},
   "outputs": [],
   "source": [
    "features, targets = load_boston(True)\n",
    "\n",
    "# features - numpy array с характеристиками домов, targets - с ценами для каждого дома."
   ]
  },
  {
   "cell_type": "code",
   "execution_count": 13,
   "metadata": {},
   "outputs": [
    {
     "data": {
      "text/plain": [
       "13"
      ]
     },
     "execution_count": 13,
     "metadata": {},
     "output_type": "execute_result"
    }
   ],
   "source": [
    "features.shape[1]"
   ]
  },
  {
   "cell_type": "code",
   "execution_count": 14,
   "metadata": {},
   "outputs": [
    {
     "data": {
      "text/plain": [
       "(506, 13)"
      ]
     },
     "execution_count": 14,
     "metadata": {},
     "output_type": "execute_result"
    }
   ],
   "source": [
    "features.shape"
   ]
  },
  {
   "cell_type": "code",
   "execution_count": 169,
   "metadata": {},
   "outputs": [],
   "source": [
    "# Задание № 1: Сколько фич (характеристик) должно быть у модели которую мы будем строить?\n",
    "# (Hint: .shape[0])\n",
    "\n",
    "N_FEATURES = 13"
   ]
  },
  {
   "cell_type": "code",
   "execution_count": 170,
   "metadata": {},
   "outputs": [],
   "source": [
    "# Здесь мы используем библиотеку scikit-learn для того чтобы разделить датасет на train & test\n",
    "\n",
    "from sklearn.model_selection import train_test_split\n",
    "\n",
    "features_train, features_test, targets_train, targets_test = train_test_split(features, targets)"
   ]
  },
  {
   "cell_type": "code",
   "execution_count": 171,
   "metadata": {},
   "outputs": [],
   "source": [
    "def linear_regression(features, W):\n",
    "    # Здесь мы делаем Bias Trick - добавляем вектор из единиц к нашим исходным данным\n",
    "    # чтобы быстро и корректно считать Bias\n",
    "    \n",
    "    x = torch.ones(features.shape[0] , features.shape[1] + 1) \n",
    "    x[:, :-1] = tensor(features).float()     \n",
    "    \n",
    "    # Задание 2: Напишите код для линейной регрессии \n",
    "    # Hint: Матричное умножение х на W\n",
    "    y_hat = x@W\n",
    "    return y_hat"
   ]
  },
  {
   "cell_type": "code",
   "execution_count": 172,
   "metadata": {},
   "outputs": [],
   "source": [
    "# Наша функция ошибки (loss function)\n",
    "\n",
    "def mean_squared_error(y_hat, y_true):\n",
    "    y_true = tensor(y_true)\n",
    "    return ((y_hat - y_true)**2).mean()"
   ]
  },
  {
   "cell_type": "code",
   "execution_count": 173,
   "metadata": {},
   "outputs": [],
   "source": [
    "# Задание 3: Закодьте алгоритм поиска опитимальных весов - градиентный спуск\n",
    "\n",
    "def gradient_descent(W, learning_rate):\n",
    "    with torch.no_grad():\n",
    "      W.sub_(learning_rate * W.grad)\n",
    "      W.grad.zero_()\n",
    "    return W"
   ]
  },
  {
   "cell_type": "code",
   "execution_count": 174,
   "metadata": {},
   "outputs": [
    {
     "data": {
      "text/plain": [
       "'\\n# Задание 4: Закодьте функцию для обучения 1-ой эпохи\\n# Hint:\\nlearning_rate = 0.01\\nW = torch.nn.Parameter(torch.ones(N_FEATURES+1))\\ny_hat = linear_regression(features, W) # 1. Сначала делаем предсказания (y_hat), нашей линейной регрессией\\nloss = mean_squared_error(y_hat, targets) # 2. Считаем какой у нас получился loss\\nloss.backward() # 3. Делаем Backward pass\\nwith torch.no_grad(): \\n  W.sub_(learning_rate * W.grad)\\n  W.grad.zero_() # 4. Обновляем веса (W) нашей модели\\n'"
      ]
     },
     "execution_count": 174,
     "metadata": {},
     "output_type": "execute_result"
    }
   ],
   "source": [
    "'''\n",
    "# Задание 4: Закодьте функцию для обучения 1-ой эпохи\n",
    "# Hint:\n",
    "learning_rate = 0.01\n",
    "W = torch.nn.Parameter(torch.ones(N_FEATURES+1))\n",
    "y_hat = linear_regression(features, W) # 1. Сначала делаем предсказания (y_hat), нашей линейной регрессией\n",
    "loss = mean_squared_error(y_hat, targets) # 2. Считаем какой у нас получился loss\n",
    "loss.backward() # 3. Делаем Backward pass\n",
    "with torch.no_grad(): \n",
    "  W.sub_(learning_rate * W.grad)\n",
    "  W.grad.zero_() # 4. Обновляем веса (W) нашей модели\n",
    "'''"
   ]
  },
  {
   "cell_type": "code",
   "execution_count": 179,
   "metadata": {},
   "outputs": [],
   "source": [
    "def train_epoch(x, W, y, learning_rate=0.01):\n",
    "    \n",
    "    y_hat = linear_regression(features_train, W)  # Ваш код здесь\n",
    "    loss = mean_squared_error(y_hat, targets_train)   # Ваш код здесь\n",
    "    \n",
    "    loss.backward()\n",
    "#    print (loss)\n",
    "    with torch.no_grad(): \n",
    "      W.sub_(learning_rate * W.grad)\n",
    "      W.grad.zero_() # Ваш код здесь\n",
    "    return W, loss, y_hat"
   ]
  },
  {
   "cell_type": "code",
   "execution_count": 180,
   "metadata": {},
   "outputs": [],
   "source": [
    "# Функция r2 score - Это наша \"человеческая\" оценка качества алгоритма, как точность но для задач регрессии.\n",
    "# 1.0 - идеальное значение ( то есть мы идеально предсказываем наши цены, например)\n",
    "# 0.0 - если бы мы просто всегда возвращали среднее значение по всем ценам\n",
    "\n",
    "from sklearn.metrics import r2_score\n",
    "def score(y_true, y_pred):\n",
    "    return r2_score(y_true, y_pred)"
   ]
  },
  {
   "cell_type": "code",
   "execution_count": 181,
   "metadata": {},
   "outputs": [],
   "source": [
    "# Мы нормализуем наши данные с помощью класса из библиотеки Scikit-Learn\n",
    "# Цель - чтобы все значения были в одном диапазоне, так как в оригинальных данных очень большой разброс\n",
    "\n",
    "from sklearn.preprocessing import MinMaxScaler\n",
    "\n",
    "scaler = MinMaxScaler()\n",
    "features_train = scaler.fit_transform(features_train)\n",
    "features_test = scaler.transform(features_test)"
   ]
  },
  {
   "cell_type": "code",
   "execution_count": 191,
   "metadata": {},
   "outputs": [
    {
     "data": {
      "text/plain": [
       "[<matplotlib.lines.Line2D at 0x7fd629311ad0>]"
      ]
     },
     "execution_count": 191,
     "metadata": {},
     "output_type": "execute_result"
    },
    {
     "data": {
      "image/png": "[encoded data removed]",
      "text/plain": [
       "<Figure size 432x288 with 2 Axes>"
      ]
     },
     "metadata": {
      "needs_background": "light"
     },
     "output_type": "display_data"
    }
   ],
   "source": [
    "# Задание 5: Обучите модель. Подберите оптимальное количество епох и learning rate\n",
    "# У вас получатся два графика - один будет показывать как падает ошибка с каждой эпохой (красный)\n",
    "# Второй - как растет ваш r2 score (\"точность\") вашей модели на тестовом сете\n",
    "# Если все сделано правильно - первый график будет падать, а второй расти\n",
    "\n",
    "\n",
    "EPOCHS = 500\n",
    "\n",
    "learning_rate = 0.1\n",
    "\n",
    "\n",
    "W = torch.nn.Parameter(torch.ones(N_FEATURES+1))\n",
    "\n",
    "losses = []\n",
    "scores = []\n",
    "\n",
    "for i in range(EPOCHS):\n",
    "    W, loss, y_hat = train_epoch(features_train, W, targets_train, learning_rate)\n",
    "    losses.append(loss.item())\n",
    "    \n",
    "    y_hat = linear_regression(features_test, W).detach()\n",
    "    scores.append(score(targets_test, y_hat))\n",
    "\n",
    "fig, axs = plt.subplots(1, 2) \n",
    "axs[0].plot(np.arange(EPOCHS), losses, c='red')\n",
    "axs[1].plot(np.arange(EPOCHS), scores, c='green')"
   ]
  },
  {
   "cell_type": "code",
   "execution_count": 192,
   "metadata": {},
   "outputs": [
    {
     "name": "stdout",
     "output_type": "stream",
     "text": [
      "Final R2 score: 0.6970371858125558\n"
     ]
    }
   ],
   "source": [
    "print (\"Final R2 score:\", scores[-1])"
   ]
  },
  {
   "cell_type": "markdown",
   "metadata": {},
   "source": [
    "### CHECK\n",
    "\n",
    "#### Ваши результаты по R2 score должны получиться близкими (+-2) от результатов модели регрессии sklearn, если вы все сделали правильно"
   ]
  },
  {
   "cell_type": "code",
   "execution_count": 193,
   "metadata": {},
   "outputs": [],
   "source": [
    "from sklearn.linear_model import LinearRegression"
   ]
  },
  {
   "cell_type": "code",
   "execution_count": 194,
   "metadata": {},
   "outputs": [
    {
     "data": {
      "text/plain": [
       "0.7185021407505741"
      ]
     },
     "execution_count": 194,
     "metadata": {},
     "output_type": "execute_result"
    }
   ],
   "source": [
    "model = LinearRegression()\n",
    "model = model.fit(features_train, targets_train)\n",
    "model.score(features_test, targets_test)"
   ]
  },
  {
   "cell_type": "code",
   "execution_count": 195,
   "metadata": {},
   "outputs": [
    {
     "name": "stdout",
     "output_type": "stream",
     "text": [
      "Поздравляю, все получилось!\n"
     ]
    }
   ],
   "source": [
    "if (model.score(features_test, targets_test) - scores[-1]) < 0.03:\n",
    "    print (\"Поздравляю, все получилось!\")\n",
    "else:\n",
    "    print (\"Стоит еще попробовать!\")"
   ]
  },
  {
   "cell_type": "code",
   "execution_count": null,
   "metadata": {},
   "outputs": [],
   "source": []
  }
 ],
 "metadata": {
  "hide_input": false,
  "kernelspec": {
   "display_name": "Python 3",
   "language": "python",
   "name": "python3"
  },
  "language_info": {
   "codemirror_mode": {
    "name": "ipython",
    "version": 3
   },
   "file_extension": ".py",
   "mimetype": "text/x-python",
   "name": "python",
   "nbconvert_exporter": "python",
   "pygments_lexer": "ipython3",
   "version": "3.7.4"
  }
 },
 "nbformat": 4,
 "nbformat_minor": 2
}
